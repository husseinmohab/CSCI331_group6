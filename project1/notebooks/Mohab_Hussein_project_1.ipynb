{
 "cells": [
  {
   "cell_type": "markdown",
   "metadata": {},
   "source": [
    "## Mystery 1: The Lingering Inventory\n",
    "\n",
    "We've found products that are marked as discontinued (SellEndDate is in the past), yet they still appear to have quantity available in inventory. Why is this old stock still listed?"
   ]
  },
  {
   "cell_type": "markdown",
   "metadata": {},
   "source": [
    "**Objectives:**\n",
    "* Identify products in `Production.Product` that have a `SellEndDate` in the past.\n",
    "* Join this with `Production.ProductInventory` to check their quantities.\n",
    "* Filter for products where the inventory quantity is greater than 0."
   ]
  },
  {
   "cell_type": "markdown",
   "metadata": {},
   "source": [
    "**Functional Specification:**\n",
    "* Select relevant columns (`ProductID`, `Name`, `SellEndDate`) from `Production.Product` (aliased as p).\n",
    "* Select `Quantity` from `Production.ProductInventory` (aliased as inv).\n",
    "* Use an `INNER JOIN` between `Production.Product` and `Production.ProductInventory` on `p.ProductID = inv.ProductID`.\n",
    "* Use a `WHERE` clause to filter for products meeting the criteria.\n",
    "* Add a condition `p.SellEndDate IS NOT NULL`.\n",
    "* Add a condition `p.SellEndDate < GETDATE()` to find products already discontinued.\n",
    "* Add a condition `inv.Quantity > 0` to find products with remaining inventory."
   ]
  },
  {
   "cell_type": "code",
   "execution_count": null,
   "metadata": {},
   "outputs": [],
   "source": [
    "SELECT\n",
    "    p.ProductID,\n",
    "    p.Name,\n",
    "    p.SellEndDate,\n",
    "    inv.LocationID,\n",
    "    inv.Quantity\n",
    "FROM Production.Product AS p\n",
    "INNER JOIN Production.ProductInventory AS inv\n",
    "    ON p.ProductID = inv.ProductID\n",
    "WHERE p.SellEndDate IS NOT NULL\n",
    "  AND p.SellEndDate < GETDATE()\n",
    "  AND inv.Quantity > 0;"
   ]
  },
  {
   "cell_type": "markdown",
   "metadata": {},
   "source": [
    "## Mystery 2: The Inconsistent Costing\n",
    "\n",
    "We suspect some products that seem like simple variations of each other (e.g., different sizes or colors of the same base model, indicated by similar names) have surprisingly different manufacturing costs."
   ]
  },
  {
   "cell_type": "markdown",
   "metadata": {},
   "source": [
    "**Objectives:**\n",
    "* Identify pairs of products (`ProductID`) that have similar names (e.g., matching the first 15 characters).\n",
    "* Compare their `StandardCost` to find significant differences (e.g., > 10% variation)."
   ]
  },
  {
   "cell_type": "markdown",
   "metadata": {},
   "source": [
    "**Functional Specification:**\n",
    "* Select relevant columns (`ProductID`, `Name`, `StandardCost`) from `Production.Product`.\n",
    "* Use a self-join on `Production.Product` (aliased as p1 and p2) to compare products.\n",
    "* Join condition (`ON`): `LEFT(p1.Name, 15) = LEFT(p2.Name, 15)` (Matching start of name) AND `p1.ProductID < p2.ProductID` (avoid self/duplicate pairs).\n",
    "* `WHERE` clause condition: Check for significant cost difference: `ABS(p1.StandardCost - p2.StandardCost) > (p1.StandardCost * 0.10)`.\n",
    "* Ensure costs are positive for valid comparison."
   ]
  },
  {
   "cell_type": "code",
   "execution_count": null,
   "metadata": {},
   "outputs": [],
   "source": [
    "SELECT\n",
    "    p1.ProductID AS ProductID1,\n",
    "    p1.Name AS Name1,\n",
    "    p1.StandardCost AS Cost1,\n",
    "    p2.ProductID AS ProductID2,\n",
    "    p2.Name AS Name2,\n",
    "    p2.StandardCost AS Cost2\n",
    "FROM Production.Product AS p1\n",
    "INNER JOIN Production.Product AS p2 ON LEFT(p1.Name, 15) = LEFT(p2.Name, 15)\n",
    "    AND p1.ProductID < p2.ProductID\n",
    "WHERE p1.StandardCost > 0 AND p2.StandardCost > 0\n",
    "  AND ABS(p1.StandardCost - p2.StandardCost) > (p1.StandardCost * 0.10);"
   ]
  },
  {
   "cell_type": "markdown",
   "metadata": {},
   "source": [
    "## Mystery 3: The Cost Creep Detection\n",
    "\n",
    "Some product costs seem volatile. Identify any currently sold product whose standard manufacturing cost has jumped by more than 25% between consecutive cost history records."
   ]
  },
  {
   "cell_type": "markdown",
   "metadata": {},
   "source": [
    "**Objectives:**\n",
    "* Query the `Production.ProductCostHistory`.\n",
    "* For each *currently sold* product, compare its `StandardCost` to the previous cost record's `StandardCost`.\n",
    "* Identify instances where the cost increased by more than 25%."
   ]
  },
  {
   "cell_type": "markdown",
   "metadata": {},
   "source": [
    "**Functional Specification:**\n",
    "* Use a Common Table Expression (CTE) `CostHistoryWithLag` to calculate the previous cost for each product's cost history entry.\n",
    "    * Inside the CTE, select `ProductID`, `StartDate`, `StandardCost` from `Production.ProductCostHistory`.\n",
    "    * Use the `LAG()` window function partitioned by `ProductID` and ordered by `StartDate` to get the `PreviousCost`.\n",
    "* Select relevant columns from the CTE.\n",
    "* Join CTE with `Production.Product` (p) on `ProductID` to filter for currently sold items.\n",
    "* Use a `WHERE` clause to filter for rows where the `StandardCost` is significantly higher than the `PreviousCost`.\n",
    "    * Condition: `StandardCost > PreviousCost * 1.25`\n",
    "    * Ensure `PreviousCost` is not NULL and not zero.\n",
    "    * Ensure product is currently sold (`p.SellEndDate IS NULL OR p.SellEndDate > GETDATE()`)."
   ]
  },
  {
   "cell_type": "code",
   "execution_count": null,
   "metadata": {},
   "outputs": [],
   "source": [
    "WITH CostHistoryWithLag AS (\n",
    "    SELECT\n",
    "        ProductID,\n",
    "        StartDate,\n",
    "        StandardCost,\n",
    "        LAG(StandardCost, 1, NULL) OVER (PARTITION BY ProductID ORDER BY StartDate) AS PreviousCost\n",
    "    FROM Production.ProductCostHistory\n",
    ")\n",
    "SELECT\n",
    "    ch.ProductID,\n",
    "    p.Name,\n",
    "    ch.StartDate AS ChangeDate,\n",
    "    ch.PreviousCost,\n",
    "    ch.StandardCost\n",
    "FROM CostHistoryWithLag ch\n",
    "INNER JOIN Production.Product p ON ch.ProductID = p.ProductID\n",
    "WHERE ch.PreviousCost IS NOT NULL\n",
    "  AND ch.PreviousCost > 0\n",
    "  AND ch.StandardCost > (ch.PreviousCost * 1.25)\n",
    "  AND (p.SellEndDate IS NULL OR p.SellEndDate > GETDATE());"
   ]
  },
  {
   "cell_type": "markdown",
   "metadata": {},
   "source": [
    "## Mystery 4: The Mystery of the Unpopular Products\n",
    "\n",
    "We have products listed for sale, but some haven't appeared on a single sales order. Are these truly unpopular, or is there a data issue?"
   ]
  },
  {
   "cell_type": "markdown",
   "metadata": {},
   "source": [
    "**Objectives:**\n",
    "* Identify all products currently marked as available for sale.\n",
    "* Identify all products that have ever been sold (appeared in `Sales.SalesOrderDetail`).\n",
    "* Find the products from the first list that are NOT in the second list."
   ]
  },
  {
   "cell_type": "markdown",
   "metadata": {},
   "source": [
    "**Functional Specification:**\n",
    "* Query 1: Use a CTE `CurrentlySoldProducts` to get IDs of products available for sale.\n",
    "    * Select `ProductID` from `Production.Product`.\n",
    "    * Filter `WHERE FinishedGoodsFlag = 1` AND (`SellEndDate IS NULL` OR `SellEndDate > GETDATE()`).\n",
    "* Query 2: Use a CTE `ProductsEverSold` to get IDs of products that have appeared in sales details.\n",
    "    * Select DISTINCT `ProductID` from `Sales.SalesOrderDetail`.\n",
    "* Query 3: Find the difference using `EXCEPT` or `NOT EXISTS`.\n",
    "    * Select `csp.ProductID`, `p.Name` from `CurrentlySoldProducts` (csp).\n",
    "    * Join with `Production.Product` (p) on `ProductID` to get the name.\n",
    "    * Use `EXCEPT` to remove products found in `ProductsEverSold`.\n",
    "    * -- OR --\n",
    "    * Use `WHERE NOT EXISTS` to check if the `csp.ProductID` is in `ProductsEverSold` (subquery)."
   ]
  },
  {
   "cell_type": "code",
   "execution_count": null,
   "metadata": {},
   "outputs": [],
   "source": [
    "WITH CurrentlySoldProducts AS (\n",
    "    SELECT ProductID\n",
    "    FROM Production.Product\n",
    "    WHERE FinishedGoodsFlag = 1\n",
    "      AND (SellEndDate IS NULL OR SellEndDate > GETDATE())\n",
    "),\n",
    "ProductsEverSold AS (\n",
    "    SELECT DISTINCT ProductID\n",
    "    FROM Sales.SalesOrderDetail\n",
    ")\n",
    "SELECT\n",
    "    csp.ProductID,\n",
    "    p.Name\n",
    "FROM CurrentlySoldProducts csp\n",
    "INNER JOIN Production.Product p ON csp.ProductID = p.ProductID\n",
    "EXCEPT\n",
    "SELECT\n",
    "    pes.ProductID,\n",
    "    p.Name\n",
    "FROM ProductsEverSold pes\n",
    "INNER JOIN Production.Product p ON pes.ProductID = p.ProductID\n",
    "ORDER BY ProductID;"
   ]
  },
  {
   "cell_type": "markdown",
   "metadata": {},
   "source": [
    "## Mystery 5: The Vendor Over-Reliance\n",
    "\n",
    "Are we overly reliant on certain vendors? Identify vendors who supply a significantly higher number of distinct products than the average vendor."
   ]
  },
  {
   "cell_type": "markdown",
   "metadata": {},
   "source": [
    "**Objectives:**\n",
    "* Calculate the average number of distinct products supplied per vendor based on purchase history.\n",
    "* Identify vendors supplying more than, say, twice the average number of distinct products."
   ]
  },
  {
   "cell_type": "markdown",
   "metadata": {},
   "source": [
    "**Functional Specification:**\n",
    "* Query 1: Use CTE `VendorProductCounts` to count distinct products per vendor from purchase history.\n",
    "    * Select `poh.VendorID`, `COUNT(DISTINCT pod.ProductID)` as `DistinctProductCount`.\n",
    "    * From `Purchasing.PurchaseOrderDetail` (pod).\n",
    "    * Join with `Purchasing.PurchaseOrderHeader` (poh) on `PurchaseOrderID`.\n",
    "    * Group by `poh.VendorID`.\n",
    "* Query 2: Use CTE `AverageVendorProductCount` to calculate the overall average.\n",
    "    * Select `AVG(CAST(DistinctProductCount AS DECIMAL(10,2)))` as `AvgCount` from `VendorProductCounts`.\n",
    "* Query 3: Final Selection.\n",
    "    * Select `vpc.VendorID`, `v.Name` as `VendorName`, `vpc.DistinctProductCount`.\n",
    "    * From `VendorProductCounts` (vpc).\n",
    "    * Join with `Purchasing.Vendor` (v) on `vpc.VendorID = v.BusinessEntityID`.\n",
    "    * Cross Join with `AverageVendorProductCount` to make the average available.\n",
    "    * Filter `WHERE vpc.DistinctProductCount > (avg_calc.AvgCount * @AvgThresholdMultiplier)`.\n",
    "    * Order by `DistinctProductCount` descending."
   ]
  },
  {
   "cell_type": "code",
   "execution_count": null,
   "metadata": {},
   "outputs": [],
   "source": [
    "DECLARE @AvgThresholdMultiplier_M5 DECIMAL(5,2) = 2.0;\n",
    "\n",
    "WITH VendorProductCounts AS (\n",
    "    SELECT\n",
    "        poh.VendorID,\n",
    "        COUNT(DISTINCT pod.ProductID) AS DistinctProductCount\n",
    "    FROM Purchasing.PurchaseOrderDetail AS pod\n",
    "    INNER JOIN Purchasing.PurchaseOrderHeader AS poh ON pod.PurchaseOrderID = poh.PurchaseOrderID\n",
    "    GROUP BY poh.VendorID\n",
    "),\n",
    "AverageVendorProductCount AS (\n",
    "    SELECT AVG(CAST(DistinctProductCount AS DECIMAL(10,2))) AS AvgCount\n",
    "    FROM VendorProductCounts\n",
    "    WHERE DistinctProductCount > 0\n",
    ")\n",
    "SELECT\n",
    "    vpc.VendorID,\n",
    "    v.Name AS VendorName,\n",
    "    vpc.DistinctProductCount\n",
    "FROM VendorProductCounts AS vpc\n",
    "INNER JOIN Purchasing.Vendor AS v ON vpc.VendorID = v.BusinessEntityID\n",
    "CROSS JOIN AverageVendorProductCount AS avg_calc\n",
    "WHERE vpc.DistinctProductCount > (avg_calc.AvgCount * @AvgThresholdMultiplier_M5)\n",
    "ORDER BY vpc.DistinctProductCount DESC;"
   ]
  },
  {
   "cell_type": "markdown",
   "metadata": {},
   "source": [
    "## Mystery 6: The Mystery of the Long Lead Times\n",
    "\n",
    "Some vendors consistently take a long time to ship orders after they are placed. Identify vendors with average lead times (ShipDate - OrderDate) significantly longer than the norm."
   ]
  },
  {
   "cell_type": "markdown",
   "metadata": {},
   "source": [
    "**Objectives:**\n",
    "* For each vendor, calculate the average number of days between `OrderDate` and `ShipDate` for shipped orders.\n",
    "* Calculate the overall average lead time across all vendors.\n",
    "* Identify vendors whose average lead time is significantly above the overall average (e.g., > 1.1 times) and have shipped a minimum number of orders (e.g., > 2)."
   ]
  },
  {
   "cell_type": "markdown",
   "metadata": {},
   "source": [
    "**Functional Specification:**\n",
    "* Query 1: Use CTE `VendorLeadTimes` to calculate average lead time per vendor.\n",
    "    * Select `VendorID`.\n",
    "    * Calculate `AVG(DATEDIFF(day, OrderDate, ShipDate))` as `AvgLeadTimeDays`.\n",
    "    * Count `COUNT(*)` as `ShippedOrderCount`.\n",
    "    * From `Purchasing.PurchaseOrderHeader`.\n",
    "    * Filter `WHERE ShipDate IS NOT NULL`.\n",
    "    * Group by `VendorID`.\n",
    "* Query 2: Use CTE `OverallAverageLeadTime` to calculate the overall average.\n",
    "    * Select `AVG(AvgLeadTimeDays)` as `OverallAvg` from `VendorLeadTimes`.\n",
    "* Query 3: Final Selection.\n",
    "    * Select `vlt.VendorID`, `v.Name` as `VendorName`, `vlt.ShippedOrderCount`, `CAST(vlt.AvgLeadTimeDays AS DECIMAL(10,2))` as `AverageLeadTime`.\n",
    "    * From `VendorLeadTimes` (vlt).\n",
    "    * Join with `Purchasing.Vendor` (v) on `vlt.VendorID = v.BusinessEntityID`.\n",
    "    * Cross Join with `OverallAverageLeadTime` (oalt).\n",
    "    * Filter `WHERE vlt.AvgLeadTimeDays > (oalt.OverallAvg * @LeadTimeMultiplier)` AND `vlt.ShippedOrderCount >= @MinShippedOrders`.\n",
    "    * Order by `AverageLeadTime` descending."
   ]
  },
  {
   "cell_type": "code",
   "execution_count": null,
   "metadata": {},
   "outputs": [],
   "source": [
    "DECLARE @MinShippedOrders_M6 INT = 2;\n",
    "DECLARE @LeadTimeMultiplier_M6 DECIMAL(5,1) = 1.1;\n",
    "\n",
    "WITH VendorLeadTimes AS (\n",
    "    SELECT\n",
    "        VendorID,\n",
    "        AVG(CAST(DATEDIFF(day, OrderDate, ShipDate) AS DECIMAL(10,2))) AS AvgLeadTimeDays,\n",
    "        COUNT(*) AS ShippedOrderCount\n",
    "    FROM Purchasing.PurchaseOrderHeader\n",
    "    WHERE ShipDate IS NOT NULL\n",
    "      AND OrderDate IS NOT NULL\n",
    "      AND ShipDate >= OrderDate\n",
    "    GROUP BY VendorID\n",
    "),\n",
    "OverallAverageLeadTime AS (\n",
    "    SELECT AVG(AvgLeadTimeDays) AS OverallAvg\n",
    "    FROM VendorLeadTimes\n",
    "    WHERE ShippedOrderCount >= @MinShippedOrders_M6\n",
    ")\n",
    "SELECT\n",
    "    vlt.VendorID,\n",
    "    v.Name AS VendorName,\n",
    "    vlt.ShippedOrderCount,\n",
    "    CAST(vlt.AvgLeadTimeDays AS DECIMAL(10,2)) AS AverageLeadTime\n",
    "FROM VendorLeadTimes vlt\n",
    "INNER JOIN Purchasing.Vendor v ON vlt.VendorID = v.BusinessEntityID\n",
    "CROSS JOIN OverallAverageLeadTime oalt\n",
    "WHERE vlt.ShippedOrderCount >= @MinShippedOrders_M6\n",
    "  AND vlt.AvgLeadTimeDays > (oalt.OverallAvg * @LeadTimeMultiplier_M6)\n",
    "ORDER BY AverageLeadTime DESC;"
   ]
  },
  {
   "cell_type": "markdown",
   "metadata": {},
   "source": [
    "## Mystery 7: The Mystery of the Solo Customer Territories\n",
    "\n",
    "Analysis suggests some sales territories have only one assigned customer. Is this accurate, indicating low penetration, or perhaps a data entry error assigning customers?"
   ]
  },
  {
   "cell_type": "markdown",
   "metadata": {},
   "source": [
    "**Objectives:**\n",
    "* Count the number of customers assigned to each sales territory.\n",
    "* Identify territories that have exactly one customer.\n",
    "* Display the territory name and the ID of the single customer in that territory."
   ]
  },
  {
   "cell_type": "markdown",
   "metadata": {},
   "source": [
    "**Functional Specification:**\n",
    "* Query 1: Use a CTE `TerritoryCustomerCount` to find territories with only one customer.\n",
    "    * Select `TerritoryID`, `COUNT(*)` as `CustomerCount`, `MIN(CustomerID)` as `SingleCustomerID`.\n",
    "    * From `Sales.Customer`.\n",
    "    * Filter `WHERE TerritoryID IS NOT NULL`.\n",
    "    * Group by `TerritoryID`.\n",
    "    * Filter `HAVING COUNT(*) = 1`.\n",
    "* Query 2: Final selection joining to get territory name.\n",
    "    * Select `tcc.TerritoryID`, `st.Name` as `TerritoryName`, `tcc.SingleCustomerID`.\n",
    "    * From `TerritoryCustomerCount` (tcc).\n",
    "    * Join with `Sales.SalesTerritory` (st) on `tcc.TerritoryID = st.TerritoryID`.\n",
    "    * Order by `TerritoryName`."
   ]
  },
  {
   "cell_type": "code",
   "execution_count": null,
   "metadata": {},
   "outputs": [],
   "source": [
    "WITH TerritoryCustomerCount AS (\n",
    "    SELECT\n",
    "        TerritoryID,\n",
    "        COUNT(*) AS CustomerCount,\n",
    "        MIN(CustomerID) AS SingleCustomerID\n",
    "    FROM Sales.Customer\n",
    "    WHERE TerritoryID IS NOT NULL\n",
    "    GROUP BY TerritoryID\n",
    "    HAVING COUNT(*) = 1\n",
    ")\n",
    "SELECT\n",
    "    tcc.TerritoryID,\n",
    "    st.Name AS TerritoryName,\n",
    "    tcc.SingleCustomerID\n",
    "FROM TerritoryCustomerCount AS tcc\n",
    "INNER JOIN Sales.SalesTerritory AS st ON tcc.TerritoryID = st.TerritoryID\n",
    "ORDER BY st.Name;"
   ]
  }
 ],
 "metadata": {
  "kernelspec": {
   "display_name": "SQL",
   "language": "sql",
   "name": "sql"
  },
  "language_info": {
   "mimetype": "application/sql",
   "name": "sql"
  }
 },
 "nbformat": 4,
 "nbformat_minor": 5
}
