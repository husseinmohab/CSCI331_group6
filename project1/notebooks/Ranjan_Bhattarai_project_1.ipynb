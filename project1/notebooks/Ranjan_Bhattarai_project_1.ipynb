{
    "metadata": {
        "kernelspec": {
            "name": "SQL",
            "display_name": "SQL",
            "language": "sql"
        },
        "language_info": {
            "name": "sql",
            "version": ""
        }
    },
    "nbformat_minor": 2,
    "nbformat": 4,
    "cells": [
        {
            "cell_type": "markdown",
            "source": [
                "# **CSCI331: PROJECT 1**"
            ],
            "metadata": {
                "azdata_cell_guid": "4697a483-6855-4eb2-b38a-fc769d1c851e"
            },
            "attachments": {}
        },
        {
            "cell_type": "markdown",
            "source": [
                "## Mystery 1: The International Smuggler\n",
                "\n",
                "<span style=\"font-size: 11pt; font-family: Arial, sans-serif; color: rgb(0, 0, 0); background-color: transparent; font-weight: 700; font-variant-numeric: normal; font-variant-east-asian: normal; font-variant-alternates: normal; font-variant-position: normal; vertical-align: baseline; white-space-collapse: preserve;\">The Case:</span> <span style=\"font-size: 11pt; font-family: Arial, sans-serif; color: rgb(0, 0, 0); background-color: transparent; font-variant-numeric: normal; font-variant-east-asian: normal; font-variant-alternates: normal; font-variant-position: normal; vertical-align: baseline; white-space-collapse: preserve;\"> A specific sales territory is generating a suspiciously high volume of orders for a product subject to import duties, indicating a potential smuggling or gray-market operation.</span>\n",
                "\n",
                "<span style=\"font-size: 11pt; font-family: Arial, sans-serif; color: rgb(0, 0, 0); background-color: transparent; font-weight: 700; font-variant-numeric: normal; font-variant-east-asian: normal; font-variant-alternates: normal; font-variant-position: normal; vertical-align: baseline; white-space-collapse: preserve;\">Objectives:</span>\n",
                "\n",
                "1. <span style=\"font-size: 11pt; background-color: transparent; font-variant-numeric: normal; font-variant-east-asian: normal; font-variant-alternates: normal; font-variant-position: normal; vertical-align: baseline; text-wrap: wrap;\">Find the </span> <span style=\"font-size: 11pt; background-color: transparent; font-weight: 700; font-variant-numeric: normal; font-variant-east-asian: normal; font-variant-alternates: normal; font-variant-position: normal; vertical-align: baseline; text-wrap: wrap;\">ProductID</span> <span style=\"font-size: 11pt; background-color: transparent; font-variant-numeric: normal; font-variant-east-asian: normal; font-variant-alternates: normal; font-variant-position: normal; vertical-align: baseline; text-wrap: wrap;\"> for a product of moderate value and high standard stocking (e.g., </span> <span style=\"font-size: 11pt; background-color: transparent; font-weight: 700; font-variant-numeric: normal; font-variant-east-asian: normal; font-variant-alternates: normal; font-variant-position: normal; vertical-align: baseline; text-wrap: wrap;\">ListPrice $12.00</span> <span style=\"font-size: 11pt; background-color: transparent; font-variant-numeric: normal; font-variant-east-asian: normal; font-variant-alternates: normal; font-variant-position: normal; vertical-align: baseline; text-wrap: wrap;\"> and </span> <span style=\"font-size: 11pt; background-color: transparent; font-weight: 700; font-variant-numeric: normal; font-variant-east-asian: normal; font-variant-alternates: normal; font-variant-position: normal; vertical-align: baseline; text-wrap: wrap;\">SafetyStockLevel 500</span><span style=\"font-size: 11pt; background-color: transparent; font-variant-numeric: normal; font-variant-east-asian: normal; font-variant-alternates: normal; font-variant-position: normal; vertical-align: baseline; text-wrap: wrap;\">) in Production.Product.</span>\n",
                "    \n",
                "2. <span style=\"font-size: 11pt; background-color: transparent; font-variant-numeric: normal; font-variant-east-asian: normal; font-variant-alternates: normal; font-variant-position: normal; vertical-align: baseline; text-wrap: wrap;\">Use the ProductID to query </span> <span style=\"font-size: 11pt; background-color: transparent; font-weight: 700; font-variant-numeric: normal; font-variant-east-asian: normal; font-variant-alternates: normal; font-variant-position: normal; vertical-align: baseline; text-wrap: wrap;\">Sales.SalesOrderHeader</span> <span style=\"font-size: 11pt; background-color: transparent; font-variant-numeric: normal; font-variant-east-asian: normal; font-variant-alternates: normal; font-variant-position: normal; vertical-align: baseline; text-wrap: wrap;\"> and find the </span> <span style=\"font-size: 11pt; background-color: transparent; font-weight: 700; font-variant-numeric: normal; font-variant-east-asian: normal; font-variant-alternates: normal; font-variant-position: normal; vertical-align: baseline; text-wrap: wrap;\">TerritoryID</span> <span style=\"font-size: 11pt; background-color: transparent; font-variant-numeric: normal; font-variant-east-asian: normal; font-variant-alternates: normal; font-variant-position: normal; vertical-align: baseline; text-wrap: wrap;\"> that has the highest number of distinct orders (SalesOrderID).</span>\n",
                "    \n",
                "3. <span style=\"font-size: 11pt; background-color: transparent; font-variant-numeric: normal; font-variant-east-asian: normal; font-variant-alternates: normal; font-variant-position: normal; vertical-align: baseline; text-wrap: wrap;\">Use the TerritoryID to find the territory's </span> <span style=\"font-size: 11pt; background-color: transparent; font-weight: 700; font-variant-numeric: normal; font-variant-east-asian: normal; font-variant-alternates: normal; font-variant-position: normal; vertical-align: baseline; text-wrap: wrap;\">Name</span> <span style=\"font-size: 11pt; background-color: transparent; font-variant-numeric: normal; font-variant-east-asian: normal; font-variant-alternates: normal; font-variant-position: normal; vertical-align: baseline; text-wrap: wrap;\"> in </span> <span style=\"font-size: 11pt; background-color: transparent; font-weight: 700; font-variant-numeric: normal; font-variant-east-asian: normal; font-variant-alternates: normal; font-variant-position: normal; vertical-align: baseline; text-wrap: wrap;\">Sales.SalesTerritory</span><span style=\"font-size: 11pt; background-color: transparent; font-variant-numeric: normal; font-variant-east-asian: normal; font-variant-alternates: normal; font-variant-position: normal; vertical-align: baseline; text-wrap: wrap;\">, exposing the smuggling hub.</span>\n",
                "    \n",
                "\n",
                "**Functional Specification:**\n",
                "\n",
                "- Select all `ProductID` from `Production.Product` where `ListPrice < 550` and `SafetyStockLevel < 100`.\n",
                "    \n",
                "- For those products, count **distinct orders** per `Sales.SalesOrderHeader.TerritoryID` and pick the territory with the **highest** count.\n",
                "    \n",
                "- Return that territory’s `Name` from `Sales.SalesTerritory`."
            ],
            "metadata": {
                "azdata_cell_guid": "e92c06ee-6568-4289-bc05-409977c9d34e"
            },
            "attachments": {}
        },
        {
            "cell_type": "code",
            "source": [
                "-- Step 1: Find the ProductID for the suspicious product\r\n",
                "\tUSE AdventureWorks2017;\r\n",
                "\tSELECT\r\n",
                "\t    ProductID\r\n",
                "\tFROM\r\n",
                "\t    Production.Product\r\n",
                "\tWHERE\r\n",
                "\t    ListPrice < 550\r\n",
                "\t    AND SafetyStockLevel < 100;\r\n",
                "\r\n",
                "-- Step 2: Find the TerritoryID with the highest number of distinct orders for that product\r\n",
                "\tSELECT TOP 1\r\n",
                "\t    SOH.TerritoryID\r\n",
                "\tFROM\r\n",
                "\t    Sales.SalesOrderHeader AS SOH\r\n",
                "\tINNER JOIN\r\n",
                "\t    Sales.SalesOrderDetail AS SOD \r\n",
                "\t    ON SOH.SalesOrderID = SOD.SalesOrderID\r\n",
                "\tWHERE\r\n",
                "\t    SOD.ProductID = 850 -- Substitute the actual ID here\r\n",
                "\tGROUP BY\r\n",
                "\t    SOH.TerritoryID\r\n",
                "\tORDER BY\r\n",
                "\t    COUNT(DISTINCT SOH.SalesOrderID) DESC;\r\n",
                "\t\r\n",
                "\r\n",
                "-- Step 3: Find the Name of the Smuggler Territory\r\n",
                "\tSELECT\r\n",
                "\t    Name AS SmugglingTerritory\r\n",
                "\tFROM\r\n",
                "\t    Sales.SalesTerritory\r\n",
                "\tWHERE\r\n",
                "\t    TerritoryID = 6; -- Substitute the actual ID here\r\n",
                "    \r\n",
                ""
            ],
            "metadata": {
                "azdata_cell_guid": "20eebcd6-1cc7-4f5d-83bd-b9a9fd4a7d64",
                "language": "sql",
                "tags": []
            },
            "outputs": [
                {
                    "output_type": "display_data",
                    "data": {
                        "text/html": "(59 rows affected)"
                    },
                    "metadata": {}
                },
                {
                    "output_type": "display_data",
                    "data": {
                        "text/html": "(1 row affected)"
                    },
                    "metadata": {}
                },
                {
                    "output_type": "display_data",
                    "data": {
                        "text/html": "(1 row affected)"
                    },
                    "metadata": {}
                },
                {
                    "output_type": "display_data",
                    "data": {
                        "text/html": "Total execution time: 00:00:00.090"
                    },
                    "metadata": {}
                },
                {
                    "output_type": "execute_result",
                    "metadata": {},
                    "execution_count": 1,
                    "data": {
                        "application/vnd.dataresource+json": {
                            "schema": {
                                "fields": [
                                    {
                                        "name": "ProductID"
                                    }
                                ]
                            },
                            "data": [
                                {
                                    "ProductID": "492"
                                },
                                {
                                    "ProductID": "493"
                                },
                                {
                                    "ProductID": "494"
                                },
                                {
                                    "ProductID": "495"
                                },
                                {
                                    "ProductID": "496"
                                },
                                {
                                    "ProductID": "707"
                                },
                                {
                                    "ProductID": "708"
                                },
                                {
                                    "ProductID": "709"
                                },
                                {
                                    "ProductID": "710"
                                },
                                {
                                    "ProductID": "711"
                                },
                                {
                                    "ProductID": "712"
                                },
                                {
                                    "ProductID": "713"
                                },
                                {
                                    "ProductID": "714"
                                },
                                {
                                    "ProductID": "715"
                                },
                                {
                                    "ProductID": "716"
                                },
                                {
                                    "ProductID": "841"
                                },
                                {
                                    "ProductID": "842"
                                },
                                {
                                    "ProductID": "843"
                                },
                                {
                                    "ProductID": "844"
                                },
                                {
                                    "ProductID": "845"
                                },
                                {
                                    "ProductID": "846"
                                },
                                {
                                    "ProductID": "847"
                                },
                                {
                                    "ProductID": "848"
                                },
                                {
                                    "ProductID": "849"
                                },
                                {
                                    "ProductID": "850"
                                },
                                {
                                    "ProductID": "851"
                                },
                                {
                                    "ProductID": "852"
                                },
                                {
                                    "ProductID": "853"
                                },
                                {
                                    "ProductID": "854"
                                },
                                {
                                    "ProductID": "855"
                                },
                                {
                                    "ProductID": "856"
                                },
                                {
                                    "ProductID": "857"
                                },
                                {
                                    "ProductID": "858"
                                },
                                {
                                    "ProductID": "859"
                                },
                                {
                                    "ProductID": "860"
                                },
                                {
                                    "ProductID": "861"
                                },
                                {
                                    "ProductID": "862"
                                },
                                {
                                    "ProductID": "863"
                                },
                                {
                                    "ProductID": "864"
                                },
                                {
                                    "ProductID": "865"
                                },
                                {
                                    "ProductID": "866"
                                },
                                {
                                    "ProductID": "867"
                                },
                                {
                                    "ProductID": "868"
                                },
                                {
                                    "ProductID": "869"
                                },
                                {
                                    "ProductID": "870"
                                },
                                {
                                    "ProductID": "871"
                                },
                                {
                                    "ProductID": "872"
                                },
                                {
                                    "ProductID": "873"
                                },
                                {
                                    "ProductID": "874"
                                },
                                {
                                    "ProductID": "875"
                                },
                                {
                                    "ProductID": "876"
                                },
                                {
                                    "ProductID": "877"
                                },
                                {
                                    "ProductID": "878"
                                },
                                {
                                    "ProductID": "879"
                                },
                                {
                                    "ProductID": "880"
                                },
                                {
                                    "ProductID": "881"
                                },
                                {
                                    "ProductID": "882"
                                },
                                {
                                    "ProductID": "883"
                                },
                                {
                                    "ProductID": "884"
                                }
                            ]
                        },
                        "text/html": [
                            "<table>",
                            "<tr><th>ProductID</th></tr>",
                            "<tr><td>492</td></tr>",
                            "<tr><td>493</td></tr>",
                            "<tr><td>494</td></tr>",
                            "<tr><td>495</td></tr>",
                            "<tr><td>496</td></tr>",
                            "<tr><td>707</td></tr>",
                            "<tr><td>708</td></tr>",
                            "<tr><td>709</td></tr>",
                            "<tr><td>710</td></tr>",
                            "<tr><td>711</td></tr>",
                            "<tr><td>712</td></tr>",
                            "<tr><td>713</td></tr>",
                            "<tr><td>714</td></tr>",
                            "<tr><td>715</td></tr>",
                            "<tr><td>716</td></tr>",
                            "<tr><td>841</td></tr>",
                            "<tr><td>842</td></tr>",
                            "<tr><td>843</td></tr>",
                            "<tr><td>844</td></tr>",
                            "<tr><td>845</td></tr>",
                            "<tr><td>846</td></tr>",
                            "<tr><td>847</td></tr>",
                            "<tr><td>848</td></tr>",
                            "<tr><td>849</td></tr>",
                            "<tr><td>850</td></tr>",
                            "<tr><td>851</td></tr>",
                            "<tr><td>852</td></tr>",
                            "<tr><td>853</td></tr>",
                            "<tr><td>854</td></tr>",
                            "<tr><td>855</td></tr>",
                            "<tr><td>856</td></tr>",
                            "<tr><td>857</td></tr>",
                            "<tr><td>858</td></tr>",
                            "<tr><td>859</td></tr>",
                            "<tr><td>860</td></tr>",
                            "<tr><td>861</td></tr>",
                            "<tr><td>862</td></tr>",
                            "<tr><td>863</td></tr>",
                            "<tr><td>864</td></tr>",
                            "<tr><td>865</td></tr>",
                            "<tr><td>866</td></tr>",
                            "<tr><td>867</td></tr>",
                            "<tr><td>868</td></tr>",
                            "<tr><td>869</td></tr>",
                            "<tr><td>870</td></tr>",
                            "<tr><td>871</td></tr>",
                            "<tr><td>872</td></tr>",
                            "<tr><td>873</td></tr>",
                            "<tr><td>874</td></tr>",
                            "<tr><td>875</td></tr>",
                            "<tr><td>876</td></tr>",
                            "<tr><td>877</td></tr>",
                            "<tr><td>878</td></tr>",
                            "<tr><td>879</td></tr>",
                            "<tr><td>880</td></tr>",
                            "<tr><td>881</td></tr>",
                            "<tr><td>882</td></tr>",
                            "<tr><td>883</td></tr>",
                            "<tr><td>884</td></tr>",
                            "</table>"
                        ]
                    }
                },
                {
                    "output_type": "execute_result",
                    "metadata": {},
                    "execution_count": 1,
                    "data": {
                        "application/vnd.dataresource+json": {
                            "schema": {
                                "fields": [
                                    {
                                        "name": "TerritoryID"
                                    }
                                ]
                            },
                            "data": [
                                {
                                    "TerritoryID": "6"
                                }
                            ]
                        },
                        "text/html": [
                            "<table>",
                            "<tr><th>TerritoryID</th></tr>",
                            "<tr><td>6</td></tr>",
                            "</table>"
                        ]
                    }
                },
                {
                    "output_type": "execute_result",
                    "metadata": {},
                    "execution_count": 1,
                    "data": {
                        "application/vnd.dataresource+json": {
                            "schema": {
                                "fields": [
                                    {
                                        "name": "SmugglingTerritory"
                                    }
                                ]
                            },
                            "data": [
                                {
                                    "SmugglingTerritory": "Canada"
                                }
                            ]
                        },
                        "text/html": [
                            "<table>",
                            "<tr><th>SmugglingTerritory</th></tr>",
                            "<tr><td>Canada</td></tr>",
                            "</table>"
                        ]
                    }
                }
            ],
            "execution_count": 1
        },
        {
            "cell_type": "markdown",
            "source": [
                "## Mystery 2: The Rejected Design Leak\n",
                "\n",
                "<span style=\"font-size: 11pt; font-family: Arial, sans-serif; color: rgb(0, 0, 0); background-color: transparent; font-weight: 700; font-variant-numeric: normal; font-variant-east-asian: normal; font-variant-alternates: normal; font-variant-position: normal; vertical-align: baseline; white-space-collapse: preserve;\">The Case:</span> <span style=\"font-size: 11pt; font-family: Arial, sans-serif; color: rgb(0, 0, 0); background-color: transparent; font-variant-numeric: normal; font-variant-east-asian: normal; font-variant-alternates: normal; font-variant-position: normal; vertical-align: baseline; white-space-collapse: preserve;\"> A product design that was officially rejected by the Art department is being purchased in high volume, suggesting a data leak to an outside competitor.</span>\n",
                "\n",
                "<span style=\"font-size: 11pt; font-family: Arial, sans-serif; color: rgb(0, 0, 0); background-color: transparent; font-weight: 700; font-variant-numeric: normal; font-variant-east-asian: normal; font-variant-alternates: normal; font-variant-position: normal; vertical-align: baseline; white-space-collapse: preserve;\">Objectives:</span>\n",
                "\n",
                "1. <span style=\"font-size: 11pt; background-color: transparent; font-variant-numeric: normal; font-variant-east-asian: normal; font-variant-alternates: normal; font-variant-position: normal; vertical-align: baseline; text-wrap: wrap;\">Find the </span> <span style=\"font-size: 11pt; background-color: transparent; font-weight: 700; font-variant-numeric: normal; font-variant-east-asian: normal; font-variant-alternates: normal; font-variant-position: normal; vertical-align: baseline; text-wrap: wrap;\">ProductModelID</span> <span style=\"font-size: 11pt; background-color: transparent; font-variant-numeric: normal; font-variant-east-asian: normal; font-variant-alternates: normal; font-variant-position: normal; vertical-align: baseline; text-wrap: wrap;\"> for a product named like </span> <span style=\"font-size: 11pt; background-color: transparent; font-weight: 700; font-variant-numeric: normal; font-variant-east-asian: normal; font-variant-alternates: normal; font-variant-position: normal; vertical-align: baseline; text-wrap: wrap;\">'Touring%'</span> <span style=\"font-size: 11pt; background-color: transparent; font-variant-numeric: normal; font-variant-east-asian: normal; font-variant-alternates: normal; font-variant-position: normal; vertical-align: baseline; text-wrap: wrap;\"> that has no associated documentation (a \"rejected\" design) in </span> <span style=\"font-size: 11pt; background-color: transparent; font-weight: 700; font-variant-numeric: normal; font-variant-east-asian: normal; font-variant-alternates: normal; font-variant-position: normal; vertical-align: baseline; text-wrap: wrap;\">Production.ProductModel</span><span style=\"font-size: 11pt; background-color: transparent; font-variant-numeric: normal; font-variant-east-asian: normal; font-variant-alternates: normal; font-variant-position: normal; vertical-align: baseline; text-wrap: wrap;\">.</span>\n",
                "    \n",
                "2. <span style=\"font-size: 11pt; background-color: transparent; font-variant-numeric: normal; font-variant-east-asian: normal; font-variant-alternates: normal; font-variant-position: normal; vertical-align: baseline; text-wrap: wrap;\">Use the ProductModelID to query </span> <span style=\"font-size: 11pt; background-color: transparent; font-weight: 700; font-variant-numeric: normal; font-variant-east-asian: normal; font-variant-alternates: normal; font-variant-position: normal; vertical-align: baseline; text-wrap: wrap;\">Sales.SalesOrderDetail</span> <span style=\"font-size: 11pt; background-color: transparent; font-variant-numeric: normal; font-variant-east-asian: normal; font-variant-alternates: normal; font-variant-position: normal; vertical-align: baseline; text-wrap: wrap;\"> and find the </span> <span style=\"font-size: 11pt; background-color: transparent; font-weight: 700; font-variant-numeric: normal; font-variant-east-asian: normal; font-variant-alternates: normal; font-variant-position: normal; vertical-align: baseline; text-wrap: wrap;\">CustomerID</span> <span style=\"font-size: 11pt; background-color: transparent; font-variant-numeric: normal; font-variant-east-asian: normal; font-variant-alternates: normal; font-variant-position: normal; vertical-align: baseline; text-wrap: wrap;\"> that has bought the most distinct products linked to that rejected model.</span>\n",
                "    \n",
                "3. <span style=\"font-size: 11pt; background-color: transparent; font-variant-numeric: normal; font-variant-east-asian: normal; font-variant-alternates: normal; font-variant-position: normal; vertical-align: baseline; text-wrap: wrap;\">Use the CustomerID to find the associated competitor store's </span> <span style=\"font-size: 11pt; background-color: transparent; font-weight: 700; font-variant-numeric: normal; font-variant-east-asian: normal; font-variant-alternates: normal; font-variant-position: normal; vertical-align: baseline; text-wrap: wrap;\">Name</span> <span style=\"font-size: 11pt; background-color: transparent; font-variant-numeric: normal; font-variant-east-asian: normal; font-variant-alternates: normal; font-variant-position: normal; vertical-align: baseline; text-wrap: wrap;\"> in </span> <span style=\"font-size: 11pt; background-color: transparent; font-weight: 700; font-variant-numeric: normal; font-variant-east-asian: normal; font-variant-alternates: normal; font-variant-position: normal; vertical-align: baseline; text-wrap: wrap;\">Sales.Store</span><span style=\"font-size: 11pt; background-color: transparent; font-variant-numeric: normal; font-variant-east-asian: normal; font-variant-alternates: normal; font-variant-position: normal; vertical-align: baseline; text-wrap: wrap;\">, exposing the recipient of the leak.</span>\n",
                "    \n",
                "\n",
                "**Functional Specification:**\n",
                "\n",
                "- Find `ProductModelID` in `Production.ProductModel` where `Name LIKE 'Touring%'` **and** there is **no illustration** in `ProductModelIllustration` (treated as “rejected”).\n",
                "    \n",
                "- For products tied to those models, find the `CustomerID` that bought the **most distinct products**.\n",
                "    \n",
                "- Return the associated competitor `Store` name for that top buyer."
            ],
            "metadata": {
                "language": "sql",
                "azdata_cell_guid": "e229f157-e363-4ab8-94cf-7d2619637ef4"
            },
            "attachments": {}
        },
        {
            "cell_type": "code",
            "source": [
                "-- Step 1: Find ProductModelID of a likely \"rejected\" design (Name like '%Design%' and no associated documentation)\r\n",
                "    \r\n",
                "\tUSE AdventureWorks2017;\r\n",
                "\tSELECT\r\n",
                "\t    PM.ProductModelID\r\n",
                "\tFROM\r\n",
                "\t    Production.ProductModel AS PM\r\n",
                "\tLEFT JOIN\r\n",
                "\t    Production.ProductModelProductDescriptionCulture AS PMPDC \r\n",
                "\t    ON PM.ProductModelID = PMPDC.ProductModelID\r\n",
                "\tWHERE\r\n",
                "\t    PM.Name LIKE 'Touring%'\r\n",
                "\t    AND PM.ProductModelID NOT IN (\r\n",
                "\t        SELECT ProductModelID FROM Production.ProductModelIllustration\r\n",
                "\t    );\r\n",
                "\r\n",
                "-- NOTE: Output (ProductModelID) becomes input for Step 2\r\n",
                "\r\n",
                "-- Step 2: Find the CustomerID that bought the most distinct products linked to that model\r\n",
                "\tSELECT TOP 1\r\n",
                "\t    SOH.CustomerID\r\n",
                "\tFROM\r\n",
                "\t    Sales.SalesOrderHeader AS SOH\r\n",
                "\tINNER JOIN\r\n",
                "\t    Sales.SalesOrderDetail AS SOD \r\n",
                "\t    ON SOH.SalesOrderID = SOD.SalesOrderID\r\n",
                "\tINNER JOIN\r\n",
                "\t    Production.Product AS P \r\n",
                "\t    ON SOD.ProductID = P.ProductID\r\n",
                "\tWHERE\r\n",
                "\t    P.ProductModelID = 94 -- Substitute the actual ID here\r\n",
                "\tGROUP BY\r\n",
                "\t    SOH.CustomerID\r\n",
                "\tORDER BY\r\n",
                "\t    COUNT(DISTINCT P.ProductID) DESC;\r\n",
                "-- NOTE: Output (CustomerID) becomes input for Step 3\r\n",
                "\r\n",
                "-- Step 3: Reveal the name of the store associated with the top buyer\r\n",
                "\tSELECT\r\n",
                "\t    S.Name AS CompetitorStoreName\r\n",
                "\tFROM\r\n",
                "\t    Sales.Customer AS C\r\n",
                "\tINNER JOIN\r\n",
                "\t    Sales.Store AS S \r\n",
                "\t    ON C.StoreID = S.BusinessEntityID\r\n",
                "\tWHERE\r\n",
                "\t    C.CustomerID = 701; -- Substitute the actual ID here"
            ],
            "metadata": {
                "language": "sql",
                "azdata_cell_guid": "d2003f73-dee1-44fe-b3d9-3d3a373b28c6"
            },
            "outputs": [],
            "execution_count": null
        },
        {
            "cell_type": "markdown",
            "source": [
                "## Mystery 3: The Secret Buyer Network\n",
                "\n",
                "<span style=\"background-color: transparent; white-space-collapse: preserve; font-size: 11pt; font-family: Arial, sans-serif; color: rgb(0, 0, 0); font-weight: 700; font-variant-numeric: normal; font-variant-east-asian: normal; font-variant-alternates: normal; font-variant-position: normal; vertical-align: baseline;\">The Case:</span> <span style=\"background-color: transparent; white-space-collapse: preserve; font-size: 11pt; font-family: Arial, sans-serif; color: rgb(0, 0, 0); font-variant-numeric: normal; font-variant-east-asian: normal; font-variant-alternates: normal; font-variant-position: normal; vertical-align: baseline;\">A specific product is being bought by multiple customers who all share the same organizational affiliation (email domain), suggesting a large, unauthorized group purchasing scheme.</span>\n",
                "\n",
                "<span style=\"font-size: 11pt; font-family: Arial, sans-serif; color: rgb(0, 0, 0); background-color: transparent; font-weight: 700; font-variant-numeric: normal; font-variant-east-asian: normal; font-variant-alternates: normal; font-variant-position: normal; vertical-align: baseline; white-space-collapse: preserve;\">Objectives:</span>\n",
                "\n",
                "1. <span style=\"font-size: 11pt; background-color: transparent; font-variant-numeric: normal; font-variant-east-asian: normal; font-variant-alternates: normal; font-variant-position: normal; vertical-align: baseline; text-wrap: wrap;\">Find the </span> <span style=\"font-size: 11pt; background-color: transparent; font-weight: 700; font-variant-numeric: normal; font-variant-east-asian: normal; font-variant-alternates: normal; font-variant-position: normal; vertical-align: baseline; text-wrap: wrap;\">ProductID</span> <span style=\"font-size: 11pt; background-color: transparent; font-variant-numeric: normal; font-variant-east-asian: normal; font-variant-alternates: normal; font-variant-position: normal; vertical-align: baseline; text-wrap: wrap;\">for a known target product (e.g., </span> <span style=\"font-size: 11pt; background-color: transparent; font-weight: 700; font-variant-numeric: normal; font-variant-east-asian: normal; font-variant-alternates: normal; font-variant-position: normal; vertical-align: baseline; text-wrap: wrap;\">'AWC Logo Cap'</span><span style=\"font-size: 11pt; background-color: transparent; font-variant-numeric: normal; font-variant-east-asian: normal; font-variant-alternates: normal; font-variant-position: normal; vertical-align: baseline; text-wrap: wrap;\">) in </span> <span style=\"font-size: 11pt; background-color: transparent; font-weight: 700; font-variant-numeric: normal; font-variant-east-asian: normal; font-variant-alternates: normal; font-variant-position: normal; vertical-align: baseline; text-wrap: wrap;\">Production.Product</span><span style=\"font-size: 11pt; background-color: transparent; font-variant-numeric: normal; font-variant-east-asian: normal; font-variant-alternates: normal; font-variant-position: normal; vertical-align: baseline; text-wrap: wrap;\">.</span>\n",
                "    \n",
                "2. <span style=\"font-size: 11pt; background-color: transparent; font-variant-numeric: normal; font-variant-east-asian: normal; font-variant-alternates: normal; font-variant-position: normal; vertical-align: baseline; text-wrap: wrap;\">Use the ProductID to query </span> <span style=\"font-size: 11pt; background-color: transparent; font-weight: 700; font-variant-numeric: normal; font-variant-east-asian: normal; font-variant-alternates: normal; font-variant-position: normal; vertical-align: baseline; text-wrap: wrap;\">Sales.SalesOrderHeader</span> <span style=\"font-size: 11pt; background-color: transparent; font-variant-numeric: normal; font-variant-east-asian: normal; font-variant-alternates: normal; font-variant-position: normal; vertical-align: baseline; text-wrap: wrap;\">and identify the </span> <span style=\"font-size: 11pt; background-color: transparent; font-weight: 700; font-variant-numeric: normal; font-variant-east-asian: normal; font-variant-alternates: normal; font-variant-position: normal; vertical-align: baseline; text-wrap: wrap;\">BusinessEntityID</span> <span style=\"font-size: 11pt; background-color: transparent; font-variant-numeric: normal; font-variant-east-asian: normal; font-variant-alternates: normal; font-variant-position: normal; vertical-align: baseline; text-wrap: wrap;\">(PersonID) of the customer who has purchased the highest total quantity.</span>\n",
                "    \n",
                "3. <span style=\"font-size: 11pt; background-color: transparent; font-variant-numeric: normal; font-variant-east-asian: normal; font-variant-alternates: normal; font-variant-position: normal; vertical-align: baseline; text-wrap: wrap;\">Use the top buyer's ID to find their </span> <span style=\"font-size: 11pt; background-color: transparent; font-weight: 700; font-variant-numeric: normal; font-variant-east-asian: normal; font-variant-alternates: normal; font-variant-position: normal; vertical-align: baseline; text-wrap: wrap;\">email domain</span> <span style=\"font-size: 11pt; background-color: transparent; font-variant-numeric: normal; font-variant-east-asian: normal; font-variant-alternates: normal; font-variant-position: normal; vertical-align: baseline; text-wrap: wrap;\">in </span> <span style=\"font-size: 11pt; background-color: transparent; font-weight: 700; font-variant-numeric: normal; font-variant-east-asian: normal; font-variant-alternates: normal; font-variant-position: normal; vertical-align: baseline; text-wrap: wrap;\">Person.EmailAddress</span><span style=\"font-size: 11pt; background-color: transparent; font-variant-numeric: normal; font-variant-east-asian: normal; font-variant-alternates: normal; font-variant-position: normal; vertical-align: baseline; text-wrap: wrap;\">, and then find all other individual customers who share that same domain, revealing the secret network.</span>\n",
                "    \n",
                "\n",
                "**Functional Specification:**\n",
                "\n",
                "- Get the `ProductID` for `'AWC Logo Cap'`.\n",
                "    \n",
                "- For that product, find the **top buyer** by total `OrderQty`, returning both `CustomerID` and the linked `PersonID`."
            ],
            "metadata": {
                "language": "sql",
                "azdata_cell_guid": "8256817a-1d7a-4c14-ab63-eb388f36cb71"
            },
            "attachments": {}
        },
        {
            "cell_type": "code",
            "source": [
                "-- Step 1: Find the ProductID for 'AWC Logo Cap'\r\n",
                "\tUSE AdventureWorks2017;\r\n",
                "\tSELECT\r\n",
                "\t    ProductID\r\n",
                "\tFROM\r\n",
                "\t    Production.Product\r\n",
                "\tWHERE\r\n",
                "\t    Name = 'AWC Logo Cap';\r\n",
                "\t-- NOTE: Output (ProductID) becomes input for Step 2  \r\n",
                "\t\r\n",
                "-- Step 2: Find the top buyer (CustomerID) for the target ProductID\r\n",
                "\tSELECT TOP 1\r\n",
                "\t    C.CustomerID,\r\n",
                "\t    C.PersonID -- This is the BusinessEntityID of the customer\r\n",
                "\tFROM\r\n",
                "\t    Sales.SalesOrderDetail AS SOD\r\n",
                "\tINNER JOIN\r\n",
                "\t    Sales.SalesOrderHeader AS SOH \r\n",
                "\t    ON SOD.SalesOrderID = SOH.SalesOrderID\r\n",
                "\tINNER JOIN\r\n",
                "\t    Sales.Customer AS C \r\n",
                "\t    ON SOH.CustomerID = C.CustomerID\r\n",
                "\tWHERE\r\n",
                "\t    SOD.ProductID = 712 -- Substitute the actual ID here\r\n",
                "\tGROUP BY\r\n",
                "\t    C.CustomerID,\r\n",
                "\t    C.PersonID\r\n",
                "\tORDER BY\r\n",
                "\t    SUM(SOD.OrderQty) DESC;"
            ],
            "metadata": {
                "language": "sql",
                "azdata_cell_guid": "e6f92907-c727-46f3-b15f-3ca9c0576c0c"
            },
            "outputs": [],
            "execution_count": null
        },
        {
            "cell_type": "markdown",
            "source": [
                "## Mystery 4: The Abandoned Training\n",
                "\n",
                "<span style=\"font-size: 11pt; font-family: Arial, sans-serif; color: rgb(0, 0, 0); background-color: transparent; font-weight: 700; font-variant-numeric: normal; font-variant-east-asian: normal; font-variant-alternates: normal; font-variant-position: normal; vertical-align: baseline; white-space-collapse: preserve;\">The Case:</span> <span style=\"font-size: 11pt; font-family: Arial, sans-serif; color: rgb(0, 0, 0); background-color: transparent; font-variant-numeric: normal; font-variant-east-asian: normal; font-variant-alternates: normal; font-variant-position: normal; vertical-align: baseline; white-space-collapse: preserve;\"> A group of new candidates was processed and enrolled in mandatory training (entered into the JobCandidate table) but never appeared on the payroll, suggesting training budget fraud.</span>\n",
                "\n",
                "<span style=\"font-size: 11pt; font-family: Arial, sans-serif; color: rgb(0, 0, 0); background-color: transparent; font-weight: 700; font-variant-numeric: normal; font-variant-east-asian: normal; font-variant-alternates: normal; font-variant-position: normal; vertical-align: baseline; white-space-collapse: preserve;\">Objectives:</span>\n",
                "\n",
                "1. <span style=\"font-size: 11pt; background-color: transparent; font-variant-numeric: normal; font-variant-east-asian: normal; font-variant-alternates: normal; font-variant-position: normal; vertical-align: baseline; text-wrap: wrap;\">Find all unique **BusinessEntityID**s in </span> <span style=\"font-size: 11pt; background-color: transparent; font-weight: 700; font-variant-numeric: normal; font-variant-east-asian: normal; font-variant-alternates: normal; font-variant-position: normal; vertical-align: baseline; text-wrap: wrap;\">HumanResources.JobCandidate</span> <span style=\"font-size: 11pt; background-color: transparent; font-variant-numeric: normal; font-variant-east-asian: normal; font-variant-alternates: normal; font-variant-position: normal; vertical-align: baseline; text-wrap: wrap;\"> (the processed trainees).</span>\n",
                "    \n",
                "2. <span style=\"font-size: 11pt; background-color: transparent; font-variant-numeric: normal; font-variant-east-asian: normal; font-variant-alternates: normal; font-variant-position: normal; vertical-align: baseline; text-wrap: wrap;\">Filter this list to find all candidates who </span> <span style=\"font-size: 11pt; background-color: transparent; font-weight: 700; font-variant-numeric: normal; font-variant-east-asian: normal; font-variant-alternates: normal; font-variant-position: normal; vertical-align: baseline; text-wrap: wrap;\">do NOT</span> <span style=\"font-size: 11pt; background-color: transparent; font-variant-numeric: normal; font-variant-east-asian: normal; font-variant-alternates: normal; font-variant-position: normal; vertical-align: baseline; text-wrap: wrap;\"> have a corresponding record in the </span> <span style=\"font-size: 11pt; background-color: transparent; font-weight: 700; font-variant-numeric: normal; font-variant-east-asian: normal; font-variant-alternates: normal; font-variant-position: normal; vertical-align: baseline; text-wrap: wrap;\">HumanResources.Employee</span> <span style=\"font-size: 11pt; background-color: transparent; font-variant-numeric: normal; font-variant-east-asian: normal; font-variant-alternates: normal; font-variant-position: normal; vertical-align: baseline; text-wrap: wrap;\"> table.</span>\n",
                "    \n",
                "3. <span style=\"font-size: 11pt; background-color: transparent; font-variant-numeric: normal; font-variant-east-asian: normal; font-variant-alternates: normal; font-variant-position: normal; vertical-align: baseline; text-wrap: wrap;\">Identify the </span> <span style=\"font-size: 11pt; background-color: transparent; font-weight: 700; font-variant-numeric: normal; font-variant-east-asian: normal; font-variant-alternates: normal; font-variant-position: normal; vertical-align: baseline; text-wrap: wrap;\">FirstName</span> <span style=\"font-size: 11pt; background-color: transparent; font-variant-numeric: normal; font-variant-east-asian: normal; font-variant-alternates: normal; font-variant-position: normal; vertical-align: baseline; text-wrap: wrap;\"> and </span> <span style=\"font-size: 11pt; background-color: transparent; font-weight: 700; font-variant-numeric: normal; font-variant-east-asian: normal; font-variant-alternates: normal; font-variant-position: normal; vertical-align: baseline; text-wrap: wrap;\">LastName</span> <span style=\"font-size: 11pt; background-color: transparent; font-variant-numeric: normal; font-variant-east-asian: normal; font-variant-alternates: normal; font-variant-position: normal; vertical-align: baseline; text-wrap: wrap;\"> of these \"abandoned\" trainees.</span>\n",
                "    \n",
                "\n",
                "**Functional Specification:**\n",
                "\n",
                "- Identify all `BusinessEntityID` that appeared as `JobCandidate`.\n",
                "    \n",
                "- Return the candidates who were **never hired** (present in `HumanResources.JobCandidate` but **not** in `HumanResources.Employee`), with their names and `JobCandidateID`."
            ],
            "metadata": {
                "language": "sql",
                "azdata_cell_guid": "838707a1-bf52-489b-b607-5843e0882a54"
            },
            "attachments": {}
        },
        {
            "cell_type": "code",
            "source": [
                "-- Step 1: Find all individuals who were processed as Job Candidates\r\n",
                "\tUSE AdventureWorks2017;\r\n",
                "\tSELECT\r\n",
                "\t    BusinessEntityID AS CandidateID\r\n",
                "\tFROM\r\n",
                "\t    HumanResources.JobCandidate\r\n",
                "\tWHERE\r\n",
                "\t    BusinessEntityID IS NOT NULL\r\n",
                "\tGROUP BY\r\n",
                "\t    BusinessEntityID;\r\n",
                "\t-- NOTE: Output (CandidateID) becomes input for Step 2\r\n",
                "\t\r\n",
                "-- Step 2: Find candidates who were never hired (no Employee record)\r\n",
                "\tSELECT\r\n",
                "\t    P.FirstName,\r\n",
                "\t    P.LastName,\r\n",
                "\t    JC.JobCandidateID\r\n",
                "\tFROM\r\n",
                "\t    Person.Person AS P\r\n",
                "\tINNER JOIN\r\n",
                "\t    HumanResources.JobCandidate AS JC\r\n",
                "\t    ON P.BusinessEntityID = JC.BusinessEntityID\r\n",
                "\tWHERE\r\n",
                "\t    P.BusinessEntityID IN (\r\n",
                "\t        SELECT BusinessEntityID FROM HumanResources.JobCandidate WHERE BusinessEntityID IS NOT NULL\r\n",
                "\t    )\r\n",
                "\t    AND P.BusinessEntityID IN (\r\n",
                "\t        SELECT BusinessEntityID FROM HumanResources.Employee\r\n",
                "\t    );"
            ],
            "metadata": {
                "language": "sql",
                "azdata_cell_guid": "d86f7112-6ef8-45af-9d25-f1cb7c8bbb17"
            },
            "outputs": [],
            "execution_count": null
        },
        {
            "cell_type": "markdown",
            "source": [
                "## Mystery 5: The Hidden Discount\n",
                "\n",
                "<span style=\"font-size: 11pt; font-family: Arial, sans-serif; color: rgb(0, 0, 0); background-color: transparent; font-weight: 700; font-variant-numeric: normal; font-variant-east-asian: normal; font-variant-alternates: normal; font-variant-position: normal; vertical-align: baseline; white-space-collapse: preserve;\">The Case:</span> <span style=\"font-size: 11pt; font-family: Arial, sans-serif; color: rgb(0, 0, 0); background-color: transparent; font-variant-numeric: normal; font-variant-east-asian: normal; font-variant-alternates: normal; font-variant-position: normal; vertical-align: baseline; white-space-collapse: preserve;\"> An individual retail customer (not a wholesale dealer) is receiving the deepest discount offers on their orders, suggesting unauthorized or fraudulent pricing.</span>\n",
                "\n",
                "<span style=\"font-size: 11pt; font-family: Arial, sans-serif; color: rgb(0, 0, 0); background-color: transparent; font-weight: 700; font-variant-numeric: normal; font-variant-east-asian: normal; font-variant-alternates: normal; font-variant-position: normal; vertical-align: baseline; white-space-collapse: preserve;\">Objectives:</span>\n",
                "\n",
                "1. <span style=\"font-size: 11pt; background-color: transparent; font-variant-numeric: normal; font-variant-east-asian: normal; font-variant-alternates: normal; font-variant-position: normal; vertical-align: baseline; text-wrap: wrap;\">Find the </span> <span style=\"font-size: 11pt; background-color: transparent; font-weight: 700; font-variant-numeric: normal; font-variant-east-asian: normal; font-variant-alternates: normal; font-variant-position: normal; vertical-align: baseline; text-wrap: wrap;\">SalesOrderID</span> <span style=\"font-size: 11pt; background-color: transparent; font-variant-numeric: normal; font-variant-east-asian: normal; font-variant-alternates: normal; font-variant-position: normal; vertical-align: baseline; text-wrap: wrap;\"> for orders in </span> <span style=\"font-size: 11pt; background-color: transparent; font-weight: 700; font-variant-numeric: normal; font-variant-east-asian: normal; font-variant-alternates: normal; font-variant-position: normal; vertical-align: baseline; text-wrap: wrap;\">Sales.SalesOrderDetail</span> <span style=\"font-size: 11pt; background-color: transparent; font-variant-numeric: normal; font-variant-east-asian: normal; font-variant-alternates: normal; font-variant-position: normal; vertical-align: baseline; text-wrap: wrap;\"> that have a </span> <span style=\"font-size: 11pt; background-color: transparent; font-weight: 700; font-variant-numeric: normal; font-variant-east-asian: normal; font-variant-alternates: normal; font-variant-position: normal; vertical-align: baseline; text-wrap: wrap;\">SpecialOfferID of 1</span> <span style=\"font-size: 11pt; background-color: transparent; font-variant-numeric: normal; font-variant-east-asian: normal; font-variant-alternates: normal; font-variant-position: normal; vertical-align: baseline; text-wrap: wrap;\"> and an unauthorized deep </span> <span style=\"font-size: 11pt; background-color: transparent; font-weight: 700; font-variant-numeric: normal; font-variant-east-asian: normal; font-variant-alternates: normal; font-variant-position: normal; vertical-align: baseline; text-wrap: wrap;\">UnitPriceDiscount greater than 0.05</span> <span style=\"font-size: 11pt; background-color: transparent; font-variant-numeric: normal; font-variant-east-asian: normal; font-variant-alternates: normal; font-variant-position: normal; vertical-align: baseline; text-wrap: wrap;\"> (5%).</span>\n",
                "    \n",
                "2. <span style=\"font-size: 11pt; background-color: transparent; font-variant-numeric: normal; font-variant-east-asian: normal; font-variant-alternates: normal; font-variant-position: normal; vertical-align: baseline; text-wrap: wrap;\">Use the SalesOrderID to trace the buyer back to </span> <span style=\"font-size: 11pt; background-color: transparent; font-weight: 700; font-variant-numeric: normal; font-variant-east-asian: normal; font-variant-alternates: normal; font-variant-position: normal; vertical-align: baseline; text-wrap: wrap;\">Person.Person</span> <span style=\"font-size: 11pt; background-color: transparent; font-variant-numeric: normal; font-variant-east-asian: normal; font-variant-alternates: normal; font-variant-position: normal; vertical-align: baseline; text-wrap: wrap;\"> and filter for individuals with a </span> <span style=\"font-size: 11pt; background-color: transparent; font-weight: 700; font-variant-numeric: normal; font-variant-east-asian: normal; font-variant-alternates: normal; font-variant-position: normal; vertical-align: baseline; text-wrap: wrap;\">PersonType of 'IN' (Individual)</span> <span style=\"font-size: 11pt; background-color: transparent; font-variant-numeric: normal; font-variant-east-asian: normal; font-variant-alternates: normal; font-variant-position: normal; vertical-align: baseline; text-wrap: wrap;\"> or </span> <span style=\"font-size: 11pt; background-color: transparent; font-weight: 700; font-variant-numeric: normal; font-variant-east-asian: normal; font-variant-alternates: normal; font-variant-position: normal; vertical-align: baseline; text-wrap: wrap;\">'SP' (Sales Person)</span><span style=\"font-size: 11pt; background-color: transparent; font-variant-numeric: normal; font-variant-east-asian: normal; font-variant-alternates: normal; font-variant-position: normal; vertical-align: baseline; text-wrap: wrap;\">, who should not receive dealer discounts.</span>\n",
                "    \n",
                "\n",
                "**Functional Specification:**\n",
                "\n",
                "- Find `SalesOrderID` in `Sales.SalesOrderDetail` where `SpecialOfferID = 3` and `UnitPriceDiscount > 0.01`.\n",
                "    \n",
                "- From those orders, list customers (and their `FirstName`, `LastName`, `PersonType`) who received the discount; group by customer to dedupe."
            ],
            "metadata": {
                "language": "sql",
                "azdata_cell_guid": "fa9f6f46-f53d-475a-902f-f33e2ebe65ac"
            },
            "attachments": {}
        },
        {
            "cell_type": "code",
            "source": [
                "-- Step 1: Find SalesOrderIDs with a suspicious deep discount\r\n",
                "\tUSE AdventureWorks2017;\r\n",
                "\tSELECT DISTINCT\r\n",
                "\t    SalesOrderID\r\n",
                "\tFROM\r\n",
                "\t    Sales.SalesOrderDetail\r\n",
                "\tWHERE\r\n",
                "\t    SpecialOfferID = 3\r\n",
                "\t    AND UnitPriceDiscount > 0.01;\r\n",
                "-- NOTE: Output (SalesOrderID) becomes input for Step 2\r\n",
                "\r\n",
                "-- Step 2: Find the customers receiving the unauthorized discount\r\n",
                "\t\r\n",
                "\tSELECT\r\n",
                "\t    SOH.CustomerID,\r\n",
                "\t    P.FirstName,\r\n",
                "\t    P.LastName,\r\n",
                "\t    P.PersonType -- Suspects are 'IN' (Individual) or 'SP' (Sales Person)\r\n",
                "\tFROM\r\n",
                "\t    Sales.SalesOrderHeader AS SOH\r\n",
                "\tINNER JOIN\r\n",
                "\t    Sales.Customer AS C\r\n",
                "\t    ON SOH.CustomerID = C.CustomerID\r\n",
                "\tINNER JOIN\r\n",
                "\t    Person.Person AS P\r\n",
                "\t    ON C.PersonID = P.BusinessEntityID\r\n",
                "\tWHERE\r\n",
                "\t    SOH.SalesOrderID IN (\r\n",
                "\t        SELECT SalesOrderID FROM Sales.SalesOrderDetail WHERE SpecialOfferID = 3 )\r\n",
                "\tGROUP BY\r\n",
                "\t    SOH.CustomerID, P.FirstName, P.LastName, P.PersonType;"
            ],
            "metadata": {
                "language": "sql",
                "azdata_cell_guid": "0e199557-cef5-41bf-86fc-e1382ede19a0"
            },
            "outputs": [],
            "execution_count": null
        },
        {
            "cell_type": "markdown",
            "source": [
                "## Mystery 6: The Untethered Vendor\n",
                "\n",
                "<span style=\"font-size: 11pt; font-family: Arial, sans-serif; color: rgb(0, 0, 0); background-color: transparent; font-weight: 700; font-variant-numeric: normal; font-variant-east-asian: normal; font-variant-alternates: normal; font-variant-position: normal; vertical-align: baseline; white-space-collapse: preserve;\">The Case:</span> <span style=\"font-size: 11pt; font-family: Arial, sans-serif; color: rgb(0, 0, 0); background-color: transparent; font-variant-numeric: normal; font-variant-east-asian: normal; font-variant-alternates: normal; font-variant-position: normal; vertical-align: baseline; white-space-collapse: preserve;\"> A vendor is actively being paid large sums via numerous purchase orders but has no recorded physical address, suggesting a virtual or shell corporation designed to siphon funds.</span>\n",
                "\n",
                "<span style=\"font-size: 11pt; font-family: Arial, sans-serif; color: rgb(0, 0, 0); background-color: transparent; font-weight: 700; font-variant-numeric: normal; font-variant-east-asian: normal; font-variant-alternates: normal; font-variant-position: normal; vertical-align: baseline; white-space-collapse: preserve;\">Objectives:</span>\n",
                "\n",
                "1. <span style=\"font-size: 11pt; background-color: transparent; font-variant-numeric: normal; font-variant-east-asian: normal; font-variant-alternates: normal; font-variant-position: normal; vertical-align: baseline; text-wrap: wrap;\">Find all distinct **VendorID**s (BusinessEntityID) that have received a purchase order in </span> <span style=\"font-size: 11pt; background-color: transparent; font-weight: 700; font-variant-numeric: normal; font-variant-east-asian: normal; font-variant-alternates: normal; font-variant-position: normal; vertical-align: baseline; text-wrap: wrap;\">Purchasing.PurchaseOrderHeader</span><span style=\"font-size: 11pt; background-color: transparent; font-variant-numeric: normal; font-variant-east-asian: normal; font-variant-alternates: normal; font-variant-position: normal; vertical-align: baseline; text-wrap: wrap;\">.</span>\n",
                "    \n",
                "2. <span style=\"font-size: 11pt; background-color: transparent; font-variant-numeric: normal; font-variant-east-asian: normal; font-variant-alternates: normal; font-variant-position: normal; vertical-align: baseline; text-wrap: wrap;\">Filter this list to find vendors who </span> <span style=\"font-size: 11pt; background-color: transparent; font-weight: 700; font-variant-numeric: normal; font-variant-east-asian: normal; font-variant-alternates: normal; font-variant-position: normal; vertical-align: baseline; text-wrap: wrap;\">do NOT</span> <span style=\"font-size: 11pt; background-color: transparent; font-variant-numeric: normal; font-variant-east-asian: normal; font-variant-alternates: normal; font-variant-position: normal; vertical-align: baseline; text-wrap: wrap;\"> have a corresponding address entry in the </span> <span style=\"font-size: 11pt; background-color: transparent; font-weight: 700; font-variant-numeric: normal; font-variant-east-asian: normal; font-variant-alternates: normal; font-variant-position: normal; vertical-align: baseline; text-wrap: wrap;\">Person.BusinessEntityAddress</span> <span style=\"font-size: 11pt; background-color: transparent; font-variant-numeric: normal; font-variant-east-asian: normal; font-variant-alternates: normal; font-variant-position: normal; vertical-align: baseline; text-wrap: wrap;\"> table.</span>\n",
                "    \n",
                "3. <span style=\"font-size: 11pt; background-color: transparent; font-variant-numeric: normal; font-variant-east-asian: normal; font-variant-alternates: normal; font-variant-position: normal; vertical-align: baseline; text-wrap: wrap;\">Identify the </span> <span style=\"font-size: 11pt; background-color: transparent; font-weight: 700; font-variant-numeric: normal; font-variant-east-asian: normal; font-variant-alternates: normal; font-variant-position: normal; vertical-align: baseline; text-wrap: wrap;\">Name</span> <span style=\"font-size: 11pt; background-color: transparent; font-variant-numeric: normal; font-variant-east-asian: normal; font-variant-alternates: normal; font-variant-position: normal; vertical-align: baseline; text-wrap: wrap;\"> of the address-less shell vendor.</span>\n",
                "    \n",
                "\n",
                "**Functional Specification:**\n",
                "\n",
                "- List distinct `VendorID` that appear in `Purchasing.PurchaseOrderHeader` (paid vendors).\n",
                "    \n",
                "- From `Purchasing.Vendor`, return those **paid vendors with no recorded address** in `Person.BusinessEntityAddress`.\n",
                "    \n",
                "- Separately, list **paid vendors** whose `CreditRating > 4`."
            ],
            "metadata": {
                "language": "sql",
                "azdata_cell_guid": "dd5f941c-dfe0-4e25-ae78-64a16ccb65e1"
            },
            "attachments": {}
        },
        {
            "cell_type": "code",
            "source": [
                "-- Step 1: Find all distinct VendorIDs that have received a purchase order\r\n",
                "\tUSE AdventureWorks2017;\r\n",
                "\tSELECT DISTINCT\r\n",
                "\t    VendorID\r\n",
                "\tFROM\r\n",
                "\t    Purchasing.PurchaseOrderHeader;\r\n",
                "\t-- NOTE: Output (VendorID) becomes input for Step 2\r\n",
                "\t\r\n",
                "-- Step 2: Find the paid vendors who have no recorded address\r\n",
                "\tSELECT\r\n",
                "\t    V.BusinessEntityID AS ShellVendorID,\r\n",
                "\t    V.Name AS ShellVendorName,\r\n",
                "\t    V.CreditRating\r\n",
                "\tFROM\r\n",
                "\t    Purchasing.Vendor AS V\r\n",
                "\tWHERE\r\n",
                "\t    V.BusinessEntityID IN (\r\n",
                "\t        SELECT DISTINCT VendorID FROM Purchasing.PurchaseOrderHeader\r\n",
                "\t    )\r\n",
                "\t    AND V.BusinessEntityID  IN (\r\n",
                "\t        SELECT DISTINCT BusinessEntityID FROM Person.BusinessEntityAddress\r\n",
                "\t    );\r\n",
                "\r\n",
                "--Step 3: Paid vendors with bad CreditRating  \r\n",
                "\tSELECT\r\n",
                "\t    V.BusinessEntityID,\r\n",
                "\t    V.Name,\r\n",
                "\t    V.CreditRating\r\n",
                "\tFROM Purchasing.Vendor AS V\r\n",
                "\tWHERE V.CreditRating > 4\r\n",
                "\t  AND EXISTS (\r\n",
                "\t        SELECT 1\r\n",
                "\t        FROM Purchasing.PurchaseOrderHeader AS POH\r\n",
                "\t        WHERE POH.VendorID = V.BusinessEntityID\r\n",
                "\t    );\r\n",
                ""
            ],
            "metadata": {
                "language": "sql",
                "azdata_cell_guid": "cc7723c6-ae9a-42e4-b127-d391ab053c69"
            },
            "outputs": [],
            "execution_count": null
        },
        {
            "cell_type": "markdown",
            "source": [
                "## Mystery 7: The Phantom Commission\n",
                "\n",
                "<span style=\"font-size: 11pt; font-family: Arial, sans-serif; color: rgb(0, 0, 0); background-color: transparent; font-weight: 700; font-variant-numeric: normal; font-variant-east-asian: normal; font-variant-alternates: normal; font-variant-position: normal; vertical-align: baseline; white-space-collapse: preserve;\">The Case:</span> <span style=\"font-size: 11pt; font-family: Arial, sans-serif; color: rgb(0, 0, 0); background-color: transparent; font-variant-numeric: normal; font-variant-east-asian: normal; font-variant-alternates: normal; font-variant-position: normal; vertical-align: baseline; white-space-collapse: preserve;\"> A sales person is receiving high commission payments and a bonus despite having no sales in the last year, suggesting they triggered the payment with a single, large, potentially fraudulent order.</span>\n",
                "\n",
                "<span style=\"font-size: 11pt; font-family: Arial, sans-serif; color: rgb(0, 0, 0); background-color: transparent; font-weight: 700; font-variant-numeric: normal; font-variant-east-asian: normal; font-variant-alternates: normal; font-variant-position: normal; vertical-align: baseline; white-space-collapse: preserve;\">Objectives:</span>\n",
                "\n",
                "1. <span style=\"font-size: 11pt; background-color: transparent; font-variant-numeric: normal; font-variant-east-asian: normal; font-variant-alternates: normal; font-variant-position: normal; vertical-align: baseline; text-wrap: wrap;\">Find the </span> <span style=\"font-size: 11pt; color: rgb(24, 128, 56); background-color: transparent; font-weight: 700; font-variant-numeric: normal; font-variant-east-asian: normal; font-variant-alternates: normal; font-variant-position: normal; vertical-align: baseline; text-wrap: wrap;\">BusinessEntityID</span> <span style=\"font-size: 11pt; background-color: transparent; font-variant-numeric: normal; font-variant-east-asian: normal; font-variant-alternates: normal; font-variant-position: normal; vertical-align: baseline; text-wrap: wrap;\"> of the sales person with a non-zero </span> <span style=\"font-size: 11pt; color: rgb(24, 128, 56); background-color: transparent; font-weight: 700; font-variant-numeric: normal; font-variant-east-asian: normal; font-variant-alternates: normal; font-variant-position: normal; vertical-align: baseline; text-wrap: wrap;\">Bonus</span><span style=\"font-size: 11pt; background-color: transparent; font-variant-numeric: normal; font-variant-east-asian: normal; font-variant-alternates: normal; font-variant-position: normal; vertical-align: baseline; text-wrap: wrap;\">, zero </span> <span style=\"font-size: 11pt; color: rgb(24, 128, 56); background-color: transparent; font-weight: 700; font-variant-numeric: normal; font-variant-east-asian: normal; font-variant-alternates: normal; font-variant-position: normal; vertical-align: baseline; text-wrap: wrap;\">SalesLastYear</span><span style=\"font-size: 11pt; background-color: transparent; font-variant-numeric: normal; font-variant-east-asian: normal; font-variant-alternates: normal; font-variant-position: normal; vertical-align: baseline; text-wrap: wrap;\">, and a </span> <span style=\"font-size: 11pt; color: rgb(24, 128, 56); background-color: transparent; font-weight: 700; font-variant-numeric: normal; font-variant-east-asian: normal; font-variant-alternates: normal; font-variant-position: normal; vertical-align: baseline; text-wrap: wrap;\">CommissionPct</span> <span style=\"font-size: 11pt; background-color: transparent; font-weight: 700; font-variant-numeric: normal; font-variant-east-asian: normal; font-variant-alternates: normal; font-variant-position: normal; vertical-align: baseline; text-wrap: wrap;\"> greater than 0.015</span><span style=\"font-size: 11pt; background-color: transparent; font-variant-numeric: normal; font-variant-east-asian: normal; font-variant-alternates: normal; font-variant-position: normal; vertical-align: baseline; text-wrap: wrap;\">.</span>\n",
                "    \n",
                "2. <span style=\"font-size: 11pt; background-color: transparent; font-variant-numeric: normal; font-variant-east-asian: normal; font-variant-alternates: normal; font-variant-position: normal; vertical-align: baseline; text-wrap: wrap;\">Use the agent's </span> <span style=\"font-size: 11pt; color: rgb(24, 128, 56); background-color: transparent; font-variant-numeric: normal; font-variant-east-asian: normal; font-variant-alternates: normal; font-variant-position: normal; vertical-align: baseline; text-wrap: wrap;\">BusinessEntityID</span> <span style=\"font-size: 11pt; background-color: transparent; font-variant-numeric: normal; font-variant-east-asian: normal; font-variant-alternates: normal; font-variant-position: normal; vertical-align: baseline; text-wrap: wrap;\"> to query </span> <span style=\"font-size: 11pt; color: rgb(24, 128, 56); background-color: transparent; font-weight: 700; font-variant-numeric: normal; font-variant-east-asian: normal; font-variant-alternates: normal; font-variant-position: normal; vertical-align: baseline; text-wrap: wrap;\">Sales.SalesOrderHeader</span> <span style=\"font-size: 11pt; background-color: transparent; font-variant-numeric: normal; font-variant-east-asian: normal; font-variant-alternates: normal; font-variant-position: normal; vertical-align: baseline; text-wrap: wrap;\"> and </span> <span style=\"font-size: 11pt; color: rgb(24, 128, 56); background-color: transparent; font-weight: 700; font-variant-numeric: normal; font-variant-east-asian: normal; font-variant-alternates: normal; font-variant-position: normal; vertical-align: baseline; text-wrap: wrap;\">Sales.SalesOrderDetail</span> <span style=\"font-size: 11pt; background-color: transparent; font-variant-numeric: normal; font-variant-east-asian: normal; font-variant-alternates: normal; font-variant-position: normal; vertical-align: baseline; text-wrap: wrap;\"> to find the single </span> <span style=\"font-size: 11pt; color: rgb(24, 128, 56); background-color: transparent; font-weight: 700; font-variant-numeric: normal; font-variant-east-asian: normal; font-variant-alternates: normal; font-variant-position: normal; vertical-align: baseline; text-wrap: wrap;\">SalesOrderID</span> <span style=\"font-size: 11pt; background-color: transparent; font-variant-numeric: normal; font-variant-east-asian: normal; font-variant-alternates: normal; font-variant-position: normal; vertical-align: baseline; text-wrap: wrap;\"> that has the </span> <span style=\"font-size: 11pt; background-color: transparent; font-weight: 700; font-variant-numeric: normal; font-variant-east-asian: normal; font-variant-alternates: normal; font-variant-position: normal; vertical-align: baseline; text-wrap: wrap;\">highest total value</span> <span style=\"font-size: 11pt; background-color: transparent; font-variant-numeric: normal; font-variant-east-asian: normal; font-variant-alternates: normal; font-variant-position: normal; vertical-align: baseline; text-wrap: wrap;\"> (</span><span style=\"font-size: 11pt; color: rgb(24, 128, 56); background-color: transparent; font-variant-numeric: normal; font-variant-east-asian: normal; font-variant-alternates: normal; font-variant-position: normal; vertical-align: baseline; text-wrap: wrap;\">LineTotal</span><span style=\"font-size: 11pt; background-color: transparent; font-variant-numeric: normal; font-variant-east-asian: normal; font-variant-alternates: normal; font-variant-position: normal; vertical-align: baseline; text-wrap: wrap;\">), pinpointing the suspicious \"phantom order\" that triggered the payment.</span>\n",
                "    \n",
                "\n",
                "**Functional Specification:**\n",
                "\n",
                "- Find a `SalesPerson` whose `SalesLastYear = 0.00` but has positive `Bonus` and `CommissionPct > 0.015`.\n",
                "    \n",
                "- For that person, compute each order’s total (`SUM(LineTotal)`) and return the **single largest** order (ID, date, value)."
            ],
            "metadata": {
                "language": "sql",
                "azdata_cell_guid": "4ec4c2c7-793b-4123-9acc-40ccdf374e53"
            },
            "attachments": {}
        },
        {
            "cell_type": "code",
            "source": [
                "-- Step 1: Find the BusinessEntityID of the suspicious agent\r\n",
                "\tUSE AdventureWorks2017;\r\n",
                "\tSELECT TOP 1\r\n",
                "\t    BusinessEntityID\r\n",
                "\tFROM\r\n",
                "\t    Sales.SalesPerson\r\n",
                "\tWHERE\r\n",
                "\t    SalesLastYear = 0.00\r\n",
                "\t    AND Bonus > 0.00\r\n",
                "\t    AND CommissionPct > 0.015;\r\n",
                "-- NOTE: Output (BusinessEntityID) becomes input for Phase 2\r\n",
                "\r\n",
                "-- Step 2: Find the single largest order placed by the suspicious agent\r\n",
                "\tSELECT TOP 1\r\n",
                "\t    SOH.SalesOrderID,\r\n",
                "\t    SOH.OrderDate,\r\n",
                "\t    SUM(SOD.LineTotal) AS PhantomOrderValue\r\n",
                "\tFROM\r\n",
                "\t    Sales.SalesOrderHeader AS SOH\r\n",
                "\tINNER JOIN\r\n",
                "\t    Sales.SalesOrderDetail AS SOD\r\n",
                "\t    ON SOH.SalesOrderID = SOD.SalesOrderID\r\n",
                "\tWHERE\r\n",
                "\t    SOH.SalesPersonID = 284 -- Substitute the actual ID here\r\n",
                "\tGROUP BY\r\n",
                "\t    SOH.SalesOrderID,\r\n",
                "\t    SOH.OrderDate\r\n",
                "\tORDER BY\r\n",
                "\t    PhantomOrderValue DESC;"
            ],
            "metadata": {
                "language": "sql",
                "azdata_cell_guid": "df7af60a-26ec-4094-a5d9-aeb0dc2ac7c7"
            },
            "outputs": [],
            "execution_count": null
        }
    ]
}