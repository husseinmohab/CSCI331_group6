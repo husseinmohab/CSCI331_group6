{
    "metadata": {
        "kernelspec": {
            "name": "SQL",
            "display_name": "SQL",
            "language": "sql"
        },
        "language_info": {
            "name": "sql",
            "version": ""
        }
    },
    "nbformat_minor": 2,
    "nbformat": 4,
    "cells": [
        {
            "cell_type": "markdown",
            "source": [
                "# Mystery 1: **The Discount Thief!**\n",
                "\n",
                "> Someone has been stealing in the form of giving huge discounts, and losing the company big profit! Find out who it is! find the highest discount that is on record, get every order that used that exact max discount, and find out who the culprit is from this information!"
            ],
            "metadata": {
                "azdata_cell_guid": "29e48f2b-cb48-49f6-8156-06b75db67081",
                "language": ""
            },
            "attachments": {}
        },
        {
            "cell_type": "code",
            "source": [
                "-- Stage 1: global max\r\n",
                "SELECT MAX(sod.UnitPriceDiscount) AS MaxDiscount\r\n",
                "FROM Sales.SalesOrderDetail AS sod;\r\n",
                ""
            ],
            "metadata": {
                "azdata_cell_guid": "81a6a523-7641-4539-acf3-c8fe9515ec0f",
                "language": "sql",
                "tags": []
            },
            "outputs": [],
            "execution_count": null
        },
        {
            "cell_type": "markdown",
            "source": [
                "1.  I started by scanning the Sales.SalesOrderDetail table to find the biggest discount ever given.\n",
                "\n",
                "2. I used the MAX() function on UnitPriceDiscount to capture the single highest percentage.\n",
                "\n",
                "3. The result (0.40%) becomes the benchmark for the rest of the mystery."
            ],
            "metadata": {
                "azdata_cell_guid": "6c893427-7a51-4c32-a81c-7697e588aefe",
                "language": "",
                "tags": [
                    "parameters"
                ]
            },
            "attachments": {}
        },
        {
            "cell_type": "code",
            "source": [
                "-- Stage 2: which orders hit the max discount?\r\n",
                "SELECT\r\n",
                "    sod.SalesOrderID,\r\n",
                "    sod.SalesOrderDetailID,\r\n",
                "    sod.ProductID,\r\n",
                "    sod.UnitPriceDiscount\r\n",
                "FROM Sales.SalesOrderDetail AS sod\r\n",
                "WHERE sod.UnitPriceDiscount = (0.40)\r\n",
                "ORDER BY sod.SalesOrderID, sod.SalesOrderDetailID;\r\n",
                ""
            ],
            "metadata": {
                "azdata_cell_guid": "c62443b6-5d0a-4db4-8598-bca396810d98",
                "language": "sql",
                "tags": []
            },
            "outputs": [],
            "execution_count": null
        },
        {
            "cell_type": "markdown",
            "source": [
                "<span style=\"font-size: 10.5pt; font-family: Arial, sans-serif; background-color: transparent; font-variant-numeric: normal; font-variant-east-asian: normal; font-variant-alternates: normal; font-variant-position: normal; vertical-align: baseline; white-space-collapse: preserve;\">1. I filtered the same table for orders using the exact 40% discount.</span>\n",
                "\n",
                "<span style=\"background-color: transparent; color: var(--vscode-foreground); font-size: 10.5pt; font-family: Arial, sans-serif; white-space-collapse: preserve;\">2. I listed each order’s IDs and product numbers so I could trace where the pattern occurs.</span><span style=\"font-size: 10.5pt; font-family: Arial, sans-serif; background-color: transparent; font-variant-numeric: normal; font-variant-east-asian: normal; font-variant-alternates: normal; font-variant-position: normal; vertical-align: baseline; white-space-collapse: preserve;\"><br></span>\n",
                "\n",
                "<span style=\"background-color: transparent; color: var(--vscode-foreground); font-size: 10.5pt; font-family: Arial, sans-serif; white-space-collapse: preserve;\">3. </span> <span style=\"font-family: Arial, sans-serif; white-space-collapse: preserve; color: var(--vscode-foreground);\">Sorting by SalesOrderID gave me a clean timeline of every over-discounted order.</span>"
            ],
            "metadata": {
                "language": "sql",
                "azdata_cell_guid": "15f66183-2b38-4193-add8-8cade3b86f0c"
            },
            "attachments": {}
        },
        {
            "cell_type": "code",
            "source": [
                "-- Stage 3: identify which salesperson gave the most 40% discounts\r\n",
                "SELECT TOP (10) WITH TIES\r\n",
                "    soh.SalesPersonID,\r\n",
                "    p.FirstName + ' ' + p.LastName AS FullName,\r\n",
                "    e.JobTitle,\r\n",
                "    COUNT(DISTINCT soh.SalesOrderID) AS NumOrdersAt40\r\n",
                "FROM Sales.SalesOrderHeader AS soh\r\n",
                "JOIN Sales.SalesOrderDetail AS sod\r\n",
                "  ON soh.SalesOrderID = sod.SalesOrderID\r\n",
                "JOIN Person.Person AS p\r\n",
                "  ON p.BusinessEntityID = soh.SalesPersonID\r\n",
                "JOIN HumanResources.Employee AS e\r\n",
                "  ON e.BusinessEntityID = soh.SalesPersonID\r\n",
                "WHERE soh.SalesPersonID IS NOT NULL\r\n",
                "  AND sod.UnitPriceDiscount = 0.40      -- ← hard-coded from Stage 1\r\n",
                "GROUP BY soh.SalesPersonID, p.FirstName, p.LastName, e.JobTitle\r\n",
                "ORDER BY COUNT(DISTINCT soh.SalesOrderID) DESC;\r\n",
                "\r\n",
                ""
            ],
            "metadata": {
                "azdata_cell_guid": "1b880722-a416-4211-b2be-38cb117eb4ab",
                "language": "sql",
                "tags": []
            },
            "outputs": [],
            "execution_count": null
        },
        {
            "cell_type": "markdown",
            "source": [
                "1. I joined Sales.SalesOrderHeader with Sales.SalesOrderDetail to link each order with its salesperson.\n",
                "\n",
                "  \n",
                "2. I then joined with Person.Person and HumanResources.EMployee to reveal the salespesron's full name and job title.\n",
                "\n",
                "  \n",
                "3. I grouped by Salesperson and counted how many distinct orders had the 40% discount, then sorted by that total to expose who gave out the most. \n",
                "\n",
                "  \n",
                "\n",
                "There were alot of culprits in here, but **Linda** is the biggest offender! She handed out more 40% coupons than anyone else in the department. I joined using different tables to aggregate the right information to conclude that linda was the main culprit."
            ],
            "metadata": {
                "language": "sql",
                "azdata_cell_guid": "347e5eff-3dff-4a0e-8751-545c29f6217b"
            },
            "attachments": {}
        },
        {
            "cell_type": "markdown",
            "source": [
                "# Mystery 2: **The Ghost Orders!**\n",
                "\n",
                "> Some orders have no name attached to them in the month of December 2013! Find out who is responsible by first, Finding the december orders with no sales person, Find the count of each order per customer, and reveal the culprit(s?) name!"
            ],
            "metadata": {
                "azdata_cell_guid": "140c51c0-0573-4e36-a11f-2493c20756af"
            },
            "attachments": {}
        },
        {
            "cell_type": "code",
            "source": [
                "-- Stage 1: \"ghost orders\" = SalesPersonID is NULL\r\n",
                "WITH Dec13 AS (\r\n",
                "  SELECT SalesOrderID, CustomerID, SalesPersonID, OrderDate, TotalDue\r\n",
                "  FROM Sales.SalesOrderHeader\r\n",
                "  WHERE OrderDate >= '2013-12-01' AND OrderDate < '2014-01-01'\r\n",
                ")\r\n",
                "SELECT *\r\n",
                "FROM Dec13\r\n",
                "WHERE SalesPersonID IS NULL\r\n",
                "ORDER BY SalesOrderID;\r\n",
                ""
            ],
            "metadata": {
                "azdata_cell_guid": "41093dd4-e538-4fa8-a10e-3c9e264f39b5",
                "language": "sql",
                "tags": [
                    "hide_input"
                ]
            },
            "outputs": [],
            "execution_count": null
        },
        {
            "cell_type": "markdown",
            "source": [
                "1. I filtered the Sales.SalesOrderHeader table for orders placed between December 1 and December 31, 2013.\r\n",
                "\r\n",
                "2. I selected only those records where the SalesPersonID field was NULL, meaning no salesperson was attached.\r\n",
                "\r\n",
                "3. I sorted the results by SalesOrderID to line up every unassigned order for inspection."
            ],
            "metadata": {
                "language": "sql",
                "azdata_cell_guid": "b862a429-0897-43a9-86e5-26f29e80925d"
            },
            "attachments": {}
        },
        {
            "cell_type": "code",
            "source": [
                "-- Stage 2: top customer(s) placing ghost orders\r\n",
                "WITH Dec13 AS (\r\n",
                "  SELECT SalesOrderID, CustomerID, SalesPersonID, OrderDate, TotalDue\r\n",
                "  FROM Sales.SalesOrderHeader\r\n",
                "  WHERE OrderDate >= '2013-12-01' AND OrderDate < '2014-01-01'\r\n",
                "),\r\n",
                "Ghost AS (\r\n",
                "  SELECT CustomerID, TotalDue\r\n",
                "  FROM Dec13\r\n",
                "  WHERE SalesPersonID IS NULL\r\n",
                ")\r\n",
                "SELECT TOP (1) WITH TIES\r\n",
                "  g.CustomerID,\r\n",
                "  COUNT(*)        AS NumGhostOrders,\r\n",
                "  SUM(g.TotalDue) AS GhostSpend\r\n",
                "FROM Ghost g\r\n",
                "GROUP BY g.CustomerID\r\n",
                "ORDER BY COUNT(*) DESC;\r\n",
                ""
            ],
            "metadata": {
                "azdata_cell_guid": "c36ecd96-e110-452c-8b8d-9ca919e7de9b",
                "language": "sql",
                "tags": [
                    "hide_input"
                ]
            },
            "outputs": [],
            "execution_count": null
        },
        {
            "cell_type": "markdown",
            "source": [
                "1. I reused the December 2013 dataset and filtered again for rows where SalesPersonID IS NULL.\r\n",
                "\r\n",
                "2. I grouped the suspicious orders by CustomerID to count how many each customer placed.\r\n",
                "\r\n",
                "3. I used COUNT(*) to find the number of ghost orders per customer and SUM(TotalDue) to measure how much money they spent."
            ],
            "metadata": {
                "azdata_cell_guid": "e5b48e95-180f-4a88-bb17-bca07c985a98"
            },
            "attachments": {}
        },
        {
            "cell_type": "code",
            "source": [
                "-- Stage 3: identity reveal (handles Person or Store)\r\n",
                "WITH Dec13 AS (\r\n",
                "  SELECT SalesOrderID, CustomerID, SalesPersonID, OrderDate, TotalDue\r\n",
                "  FROM Sales.SalesOrderHeader\r\n",
                "  WHERE OrderDate >= '2013-12-01' AND OrderDate < '2014-01-01'\r\n",
                "),\r\n",
                "Ghost AS (\r\n",
                "  SELECT CustomerID, TotalDue\r\n",
                "  FROM Dec13\r\n",
                "  WHERE SalesPersonID IS NULL\r\n",
                "),\r\n",
                "TopCustomer AS (\r\n",
                "  SELECT TOP (1) WITH TIES CustomerID, COUNT(*) AS NumGhostOrders, SUM(TotalDue) AS GhostSpend\r\n",
                "  FROM Ghost\r\n",
                "  GROUP BY CustomerID\r\n",
                "  ORDER BY COUNT(*) DESC\r\n",
                ")\r\n",
                "SELECT\r\n",
                "  tc.CustomerID,\r\n",
                "  COALESCE(pp.FirstName + ' ' + pp.LastName, s.Name) AS CustomerName,\r\n",
                "  tc.NumGhostOrders,\r\n",
                "  tc.GhostSpend\r\n",
                "FROM TopCustomer tc\r\n",
                "JOIN Sales.Customer c      ON c.CustomerID = tc.CustomerID\r\n",
                "LEFT JOIN Person.Person pp ON pp.BusinessEntityID = c.PersonID\r\n",
                "LEFT JOIN Sales.Store   s  ON s.BusinessEntityID  = c.StoreID;\r\n",
                ""
            ],
            "metadata": {
                "azdata_cell_guid": "29319551-c65a-43ae-9b17-5196863a3166",
                "language": "sql",
                "tags": [
                    "hide_input"
                ]
            },
            "outputs": [],
            "execution_count": null
        },
        {
            "cell_type": "markdown",
            "source": [
                "1. I took the top customer(s) with the most ghost orders from the previous stage.\n",
                "\n",
                "2. I joined Sales.Customer to link each CustomerID to either a Person or a Store.\n",
                "\n",
                "3. I used LEFT JOIN Person.Person and LEFT JOIN Sales.Store together with COALESCE to reveal the actual name behind each ghost buyer.  \n",
                "\n",
                "This mystery is solved, i traced the december trail of orders that had no assigned salesperson and matched them back to their rightful owners using sales.Customer. The customer with the highest number of these phantom orders turned out to be the main culprit, Ashley, Hailey, Jose, Ryan, Henry, Fernando, and Nicholas."
            ],
            "metadata": {
                "language": "sql",
                "azdata_cell_guid": "c9836aa8-0160-4b4d-a708-91fa236828f6"
            },
            "attachments": {}
        },
        {
            "cell_type": "markdown",
            "source": [
                "# Mystery 3: **The Phantom Product!**\n",
                "\n",
                "> There are items in the database that have never been sold! Dozens of products sitting in the catalog, never touched a single sale. Corporate wants them **GONE**. Find out what product is wasting on the shelves by find all products on the shelves that have never been sold"
            ],
            "metadata": {
                "azdata_cell_guid": "1dd0c2e6-4b3b-4c5c-af65-473c3fdf7f73"
            },
            "attachments": {}
        },
        {
            "cell_type": "code",
            "source": [
                "-- Stage 1: Products active in the catalog and sellable\r\n",
                "WITH ActiveCatalog AS (\r\n",
                "    SELECT \r\n",
                "        p.ProductID,\r\n",
                "        p.Name,\r\n",
                "        p.ListPrice,\r\n",
                "        p.ProductSubcategoryID\r\n",
                "    FROM Production.Product AS p\r\n",
                "    WHERE p.SellStartDate IS NOT NULL\r\n",
                "      AND (p.SellEndDate IS NULL OR p.SellEndDate > GETDATE())\r\n",
                "      AND p.ProductSubcategoryID IS NOT NULL      -- exclude internal parts\r\n",
                "      AND p.ListPrice > 0                         -- exclude unpriced items\r\n",
                ")\r\n",
                "SELECT * \r\n",
                "FROM ActiveCatalog\r\n",
                "ORDER BY Name;\r\n",
                ""
            ],
            "metadata": {
                "azdata_cell_guid": "7a49e99d-ea21-4e7e-a82d-dcec40c9601a",
                "language": "sql",
                "tags": [
                    "hide_input"
                ]
            },
            "outputs": [],
            "execution_count": null
        },
        {
            "cell_type": "markdown",
            "source": [
                "1. I scanned Production.Product and kept only sellable items: SellStartDate IS NOT NULL.\n",
                "    \n",
                "2. I excluded retired items where an end date is in the past by requiring SellEndDate IS NULL OR SellEndDate \\> GETDATE().\n",
                "    \n",
                "3. I removed internal parts with ProductSubcategoryID IS NOT NULL.\n",
                "    \n",
                "4. I filtered out unpriced items using ListPrice \\> 0, then sorted by Name for a clean roster."
            ],
            "metadata": {
                "language": "sql",
                "azdata_cell_guid": "882bce76-398d-4f03-8cdd-f96cd80e17fc"
            },
            "attachments": {}
        },
        {
            "cell_type": "code",
            "source": [
                "-- Stage 2: Products that have ever appeared in a sale\r\n",
                "WITH SoldProducts AS (\r\n",
                "    SELECT DISTINCT d.ProductID\r\n",
                "    FROM Sales.SalesOrderDetail AS d\r\n",
                ")\r\n",
                "SELECT p.ProductID, p.Name\r\n",
                "FROM SoldProducts s\r\n",
                "JOIN Production.Product p \r\n",
                "  ON p.ProductID = s.ProductID\r\n",
                "ORDER BY p.Name;"
            ],
            "metadata": {
                "language": "sql",
                "azdata_cell_guid": "6a9f7862-5a99-4dfb-85b8-b6eeb158af89",
                "tags": [
                    "hide_input"
                ]
            },
            "outputs": [],
            "execution_count": null
        },
        {
            "cell_type": "markdown",
            "source": [
                "1. I pulled distinct ProductIDs from Sales.SalesOrderDetail to capture anything that has shown up on an order.\r\n",
                "\r\n",
                "2. I joined those IDs back to Production.Product to get the product names.\r\n",
                "\r\n",
                "3. I ordered by Name so the list lines up neatly against the catalog from Stage 1."
            ],
            "metadata": {
                "language": "sql",
                "azdata_cell_guid": "b22f12f8-72d0-4fef-b7c0-3891157ee91a"
            },
            "attachments": {}
        },
        {
            "cell_type": "code",
            "source": [
                "-- Stage 3: Except clause to remove all sales\r\n",
                "SELECT p.ProductID, p.Name, p.ListPrice\r\n",
                "FROM Production.Product AS p\r\n",
                "WHERE p.SellStartDate IS NOT NULL\r\n",
                "  AND (p.SellEndDate IS NULL OR p.SellEndDate > GETDATE())\r\n",
                "  AND p.ProductSubcategoryID IS NOT NULL\r\n",
                "  AND p.ListPrice > 0\r\n",
                "EXCEPT\r\n",
                "SELECT d.ProductID, p.Name, p.ListPrice\r\n",
                "FROM Sales.SalesOrderDetail AS d\r\n",
                "JOIN Production.Product p \r\n",
                "  ON d.ProductID = p.ProductID\r\n",
                "ORDER BY Name;"
            ],
            "metadata": {
                "language": "sql",
                "azdata_cell_guid": "01d2781b-0c4e-4bc9-81a1-59e1d3c99f58",
                "tags": [
                    "hide_input"
                ]
            },
            "outputs": [],
            "execution_count": null
        },
        {
            "cell_type": "markdown",
            "source": [
                "1. I rebuilt the active, sellable catalog (valid start date, not ended, not internal parts, price > 0) so I had the full list of what we should be selling.\n",
                "\n",
                "2. I pulled every product that has ever appeared on an order from Sales.SalesOrderDetail (distinct ProductID) and joined to Production.Product to get the names.\n",
                "\n",
                "3. I used EXCEPT to subtract the “ever sold” list from the active catalog, then sorted by Name to reveal the leftovers—the products that have never sold.\n",
                "\n",
                "To crack this case, i started by narrowing the scene to real catalog items, which by my definition, was products with valid start dates, and a price above zero, which gave me a full lineup of what i should be selling. Then, i pulled up every product that had ever shown up in a sales order. I then compared the two using the **EXCEPT** operator, subtracting all the sold items from the catalog lineup, and what was left were the true culprits. The 'HL Mountain Frame - Black, 46' is the main culprit, for being so expensive, yet being so hard to sell."
            ],
            "metadata": {
                "azdata_cell_guid": "c52f984f-3783-4318-8ba9-8972be88ea74"
            },
            "attachments": {}
        },
        {
            "cell_type": "markdown",
            "source": [
                "# Mystery 4: **The Overworked Salesperson!**\n",
                "\n",
                "> The regional manager has been hearing complaints: phones ringing nonstop, emails piling up, and one sales representative who never leaves the office. Rumor has it, someone's juggling more customers than the rest of the team combined. The regional managers wants this very hardworking salesperson found, so he can be given mandatory vacation hours for his hard work! find the roster of salespeople, then count the number of distinct customers handled by salesperson, then find his name!"
            ],
            "metadata": {
                "azdata_cell_guid": "7e0115db-d30d-47c7-98d2-1b157755d863"
            },
            "attachments": {}
        },
        {
            "cell_type": "code",
            "source": [
                "-- Stage 1: Salesperson roster with full names\r\n",
                "WITH Roster AS (\r\n",
                "    SELECT \r\n",
                "        sp.BusinessEntityID              AS SalesPersonID,\r\n",
                "        p.FirstName + ' ' + p.LastName   AS FullName\r\n",
                "    FROM Sales.SalesPerson sp\r\n",
                "    JOIN Person.Person p \r\n",
                "      ON p.BusinessEntityID = sp.BusinessEntityID\r\n",
                ")\r\n",
                "SELECT * \r\n",
                "FROM Roster\r\n",
                "ORDER BY FullName;\r\n",
                ""
            ],
            "metadata": {
                "azdata_cell_guid": "d50f276a-e770-4409-b325-9c9ea92ff0d7",
                "language": "sql",
                "tags": [
                    "hide_input"
                ]
            },
            "outputs": [],
            "execution_count": null
        },
        {
            "cell_type": "markdown",
            "source": [
                "1. I started from Sales.SalesPerson to get every salesperson’s BusinessEntityID.\r\n",
                "\r\n",
                "2. I joined to Person.Person on BusinessEntityID to pull FirstName and LastName.\r\n",
                "\r\n",
                "3. I built a clean display name (FirstName + ' ' + LastName) and aliased it as FullName.\r\n",
                "\r\n",
                "4. I sorted the roster by FullName so the suspects line up neatly."
            ],
            "metadata": {
                "language": "sql",
                "azdata_cell_guid": "5928978b-8aac-4b05-8776-f94b32ddd496"
            },
            "attachments": {}
        },
        {
            "cell_type": "code",
            "source": [
                "-- Stage 2: Count DISTINCT customers per salesperson\r\n",
                "WITH CustomerCounts AS (\r\n",
                "    SELECT \r\n",
                "        soh.SalesPersonID,\r\n",
                "        COUNT(DISTINCT soh.CustomerID) AS NumCustomers\r\n",
                "    FROM Sales.SalesOrderHeader AS soh\r\n",
                "    WHERE soh.SalesPersonID IS NOT NULL\r\n",
                "    GROUP BY soh.SalesPersonID\r\n",
                ")\r\n",
                "SELECT * \r\n",
                "FROM CustomerCounts\r\n",
                "ORDER BY NumCustomers DESC;\r\n",
                ""
            ],
            "metadata": {
                "language": "sql",
                "azdata_cell_guid": "6f9967b1-b6c7-4cd0-9311-4ff5dad820d7",
                "tags": [
                    "hide_input"
                ]
            },
            "outputs": [],
            "execution_count": null
        },
        {
            "cell_type": "markdown",
            "source": [
                "1. I scanned Sales.SalesOrderHeader and kept only rows with a salesperson (SalesPersonID IS NOT NULL).\r\n",
                "\r\n",
                "2. I grouped by SalesPersonID and counted DISTINCT CustomerID to get each rep’s unique client count.\r\n",
                "\r\n",
                "3. I ordered the results by that count DESC to spotlight the reps juggling the biggest books."
            ],
            "metadata": {
                "language": "sql",
                "azdata_cell_guid": "5f8ec66a-f31e-4423-80cb-f160de8d1025"
            },
            "attachments": {}
        },
        {
            "cell_type": "code",
            "source": [
                "-- Stage 3: Reveal the most overworked salesperson\r\n",
                "WITH Roster AS (\r\n",
                "    SELECT sp.BusinessEntityID AS SalesPersonID,\r\n",
                "           p.FirstName + ' ' + p.LastName AS FullName\r\n",
                "    FROM Sales.SalesPerson sp\r\n",
                "    JOIN Person.Person p \r\n",
                "      ON p.BusinessEntityID = sp.BusinessEntityID\r\n",
                "),\r\n",
                "CustomerCounts AS (\r\n",
                "    SELECT \r\n",
                "        soh.SalesPersonID,\r\n",
                "        COUNT(DISTINCT soh.CustomerID) AS NumCustomers\r\n",
                "    FROM Sales.SalesOrderHeader AS soh\r\n",
                "    WHERE soh.SalesPersonID IS NOT NULL\r\n",
                "    GROUP BY soh.SalesPersonID\r\n",
                ")\r\n",
                "SELECT TOP (1)\r\n",
                "    r.SalesPersonID,\r\n",
                "    r.FullName,\r\n",
                "    cc.NumCustomers\r\n",
                "FROM CustomerCounts cc\r\n",
                "JOIN Roster r \r\n",
                "  ON r.SalesPersonID = cc.SalesPersonID\r\n",
                "ORDER BY cc.NumCustomers DESC;"
            ],
            "metadata": {
                "language": "sql",
                "azdata_cell_guid": "0cadee15-5b20-4efa-8f48-f15e6ba9d8de",
                "tags": [
                    "hide_input"
                ]
            },
            "outputs": [],
            "execution_count": null
        },
        {
            "cell_type": "markdown",
            "source": [
                "1. I kept the Roster from Stage 1 (SalesPerson → Person.Person) to have each rep’s SalesPersonID and FullName.\r\n",
                "\r\n",
                "2. I used the CustomerCounts from Stage 2 (from Sales.SalesOrderHeader) where SalesPersonID IS NOT NULL, grouped by rep, and counted DISTINCT CustomerID.\r\n",
                "\r\n",
                "3. I joined CustomerCounts back to Roster, sorted by NumCustomers DESC, and selected the TOP (1) to expose the heaviest workload.\r\n",
                "\r\n",
                "The most overworked salesperson we see in the database is Jillian Carson, with 121 **DISTINCT** customers. I began with pulling the SalesPerson and Person tables to build a full roster of every Salespersons. Then, i used the SalesOrderHeader table to count how many distinct customers (non-repeating) each sales representative had sold to, exposing who carried the heaviest workload. By joining these results together, I uncovered the one salesperson juggling the widest customer base."
            ],
            "metadata": {
                "language": "sql",
                "azdata_cell_guid": "622aa527-51cf-42cd-bfb7-43febd0a24e7"
            },
            "attachments": {}
        },
        {
            "cell_type": "markdown",
            "source": [
                "# Mystery 5: **The Scrap Heap**\n",
                "\n",
                "> The yard is filling up. Rumor says one line is bleeding parts into the bin. We have to find the products with the worst average scrap rate and expose the repeat offenders. Gather al work orders and tie them to product names, Computer each order's ScrapRate using Scrapped Quantity / Order Quantity, and gather them by product, and find the top offenders."
            ],
            "metadata": {
                "language": "sql",
                "azdata_cell_guid": "c5d640d1-cb9e-4af7-b336-6849ae4515c7"
            },
            "attachments": {}
        },
        {
            "cell_type": "code",
            "source": [
                "-- Stage 1: Work orders joined to products\r\n",
                "WITH WO AS (\r\n",
                "    SELECT \r\n",
                "        wo.WorkOrderID,\r\n",
                "        wo.ProductID,\r\n",
                "        wo.OrderQty,\r\n",
                "        wo.ScrappedQty\r\n",
                "    FROM Production.WorkOrder AS wo\r\n",
                ")\r\n",
                "SELECT \r\n",
                "    wo.WorkOrderID,\r\n",
                "    p.ProductID,\r\n",
                "    p.Name,\r\n",
                "    wo.OrderQty,\r\n",
                "    wo.ScrappedQty\r\n",
                "FROM WO\r\n",
                "JOIN Production.Product AS p\r\n",
                "  ON p.ProductID = wo.ProductID\r\n",
                "ORDER BY p.Name, wo.WorkOrderID;\r\n",
                ""
            ],
            "metadata": {
                "language": "sql",
                "azdata_cell_guid": "8a63f4cf-987f-4321-8835-5e1d843d92b3",
                "tags": [
                    "hide_input"
                ]
            },
            "outputs": [],
            "execution_count": null
        },
        {
            "cell_type": "markdown",
            "source": [
                "1. I pulled every row from Production.WorkOrder to get WorkOrderID, ProductID, OrderQty, and ScrappedQty.\r\n",
                "\r\n",
                "2. I joined to Production.Product on ProductID so each work order carries the product name involved.\r\n",
                "\r\n",
                "3. I selected the key fields and sorted by p.Name, then wo.WorkOrderID to line up the trail neatly by part and time."
            ],
            "metadata": {
                "language": "sql",
                "azdata_cell_guid": "64771b12-6901-4460-b8f5-267b4adc73cb"
            },
            "attachments": {}
        },
        {
            "cell_type": "code",
            "source": [
                "-- Stage 2: Per-order scrap rates\r\n",
                "WITH Rates AS (\r\n",
                "    SELECT\r\n",
                "        wo.WorkOrderID,\r\n",
                "        wo.ProductID,\r\n",
                "       wo.ScrappedQty * 1.0 / NULLIF(wo.OrderQty, 0) AS ScrapRate\r\n",
                "    FROM Production.WorkOrder wo\r\n",
                ")\r\n",
                "SELECT * \r\n",
                "FROM Rates\r\n",
                "ORDER BY ScrapRate DESC;\r\n",
                ""
            ],
            "metadata": {
                "language": "sql",
                "azdata_cell_guid": "715ec235-fa01-4ec8-9e19-1a5cde02422f",
                "tags": [
                    "hide_input"
                ]
            },
            "outputs": [],
            "execution_count": null
        },
        {
            "cell_type": "markdown",
            "source": [
                "1. I computed a ScrapRate per job as wo.ScrappedQty * 1.0 / NULLIF(wo.OrderQty, 0) to get a safe decimal (avoids divide-by-zero).\r\n",
                "\r\n",
                "2. I kept the identifiers (WorkOrderID, ProductID) alongside that rate so I can link back to specific problem orders.\r\n",
                "\r\n",
                "3. I ordered by ScrapRate DESC to surface the worst individual jobs first."
            ],
            "metadata": {
                "language": "sql",
                "azdata_cell_guid": "a2d769de-286b-4340-bb58-94b33a8fa3dc"
            },
            "attachments": {}
        },
        {
            "cell_type": "code",
            "source": [
                "SELECT TOP (10)\r\n",
                "    p.ProductID,\r\n",
                "    p.Name,\r\n",
                "    AVG(wo.ScrappedQty * 1.0 / NULLIF(wo.OrderQty, 0)) AS AvgScrapRate,\r\n",
                "    SUM(wo.ScrappedQty) AS TotalScrapped,\r\n",
                "    COUNT(*) AS WorkOrderCount\r\n",
                "FROM Production.WorkOrder AS wo\r\n",
                "JOIN Production.Product AS p\r\n",
                "  ON p.ProductID = wo.ProductID\r\n",
                "GROUP BY p.ProductID, p.Name\r\n",
                "HAVING COUNT(*) >= 3\r\n",
                "ORDER BY AvgScrapRate DESC, TotalScrapped DESC;\r\n",
                ""
            ],
            "metadata": {
                "language": "sql",
                "azdata_cell_guid": "ff4e6b7d-8caa-4369-8b71-4dfe19c45e4d",
                "tags": [
                    "hide_input"
                ]
            },
            "outputs": [],
            "execution_count": null
        },
        {
            "cell_type": "markdown",
            "source": [
                "1. I grouped all work orders by product (p.ProductID, p.Name) and calculated:\n",
                "\n",
                "    - AVG(wo.ScrappedQty \\* 1.0 / NULLIF(wo.OrderQty,0)) as AvgScrapRate\n",
                "    - SUM(wo.ScrappedQty) as TotalScrapped\n",
                "    - COUNT(\\*) as WorkOrderCount\n",
                "\n",
                "2. I filtered to products with at least 3 work orders (HAVING COUNT(\\*) \\>= 3) to avoid one-off noise.\n",
                "    \n",
                "3. I sorted by AvgScrapRate DESC (worst first), then by TotalScrapped DESC, and showed the TOP (10) to surface the chronic offenders.\n",
                "    \n",
                "\n",
                "After analyzing every work order, the data points to the Road-450 Red, 44 as the main culprit, as it has the highest average scrap rate in the entire yard. Each Batch It runs wastes more material, order for order, than anything else on the floor. I<span style=\"color: var(--vscode-foreground);\">nterestingly, the </span> **BB Ball Bearing**  <span style=\"color: var(--vscode-foreground);\">&nbsp;showed up with an enormous total scrap count but a very low scrp rate. I believe its because its produced constantly in huge volumes, and even a tiny percentage loss adds up to massive totals. I did this by by going through the Production.WorkOrder table, where every unit is built, and every unit is scrapped. From there, i linked each work order to its matching entry in Production.Product to reveal which parts were responsible for the biggest messes on the factory floor. I then computed the ScrapRate by dividing the Scrapped Quantity by the order quantity, and nulled any orders that couldnt be measured. Then i grouped everything by product and took the average rate to find which items consistently performed the worst, ignoring the small jobs.</span>"
            ],
            "metadata": {
                "language": "sql",
                "azdata_cell_guid": "451cc8dc-0cfc-4f14-ad79-27d17b82f2c0"
            },
            "attachments": {}
        },
        {
            "cell_type": "markdown",
            "source": [
                "#  Mystery 6: **The One-and-Done Fugitives**!\n",
                "\n",
                "> Rumor from Finance: A wave of one-time buyers spiked revenue and then vanished. Who are these ghosts, when did they strike, and which order was the priciest hit? Track down every customer who placed exactly one order that year, uncover their real names and order details, and find out which one pulled off the biggest single sale before vanishing."
            ],
            "metadata": {
                "language": "sql",
                "azdata_cell_guid": "7c72015c-121f-4db1-b2de-e502e8530227"
            },
            "attachments": {}
        },
        {
            "cell_type": "code",
            "source": [
                "-- Stage 1: customers who placed exactly one order in 2013\r\n",
                "SELECT\r\n",
                "    soh.CustomerID,\r\n",
                "    COUNT(*) AS OrdersIn2013\r\n",
                "FROM Sales.SalesOrderHeader AS soh\r\n",
                "WHERE YEAR(soh.OrderDate) = 2013\r\n",
                "GROUP BY soh.CustomerID\r\n",
                "HAVING COUNT(*) = 1\r\n",
                "ORDER BY soh.CustomerID;\r\n",
                ""
            ],
            "metadata": {
                "language": "sql",
                "azdata_cell_guid": "35f94ca6-8049-42be-b814-5edf509cdf29",
                "tags": [
                    "hide_input"
                ]
            },
            "outputs": [],
            "execution_count": null
        },
        {
            "cell_type": "markdown",
            "source": [
                "1. I walked the Sales.SalesOrderHeader scene and filtered it to the year 2013 with WHERE YEAR(OrderDate) = 2013.\n",
                "\n",
                "2. I grouped the evidence by CustomerID to count how many orders each customer placed.\n",
                "\n",
                "3. I kept only the one-and-done suspects using HAVING COUNT(*) = 1, then listed the CustomerIDs in order."
            ],
            "metadata": {
                "language": "",
                "azdata_cell_guid": "9d37219f-1c0e-4101-bbb0-09329d23a28f"
            },
            "attachments": {}
        },
        {
            "cell_type": "code",
            "source": [
                "-- Stage 2: reveal names for those one-time customers and their lone order details\r\n",
                "SELECT\r\n",
                "    soh.CustomerID,\r\n",
                "    ISNULL(p.FirstName + ' ' + p.LastName, s.Name) AS CustomerName,\r\n",
                "    MIN(soh.SalesOrderID)       AS OnlyOrderID,\r\n",
                "    MIN(soh.OrderDate)          AS OnlyOrderDate,\r\n",
                "    MAX(soh.TotalDue)           AS OnlyOrderTotal\r\n",
                "FROM Sales.SalesOrderHeader AS soh\r\n",
                "LEFT JOIN Sales.Customer       AS c ON c.CustomerID = soh.CustomerID\r\n",
                "LEFT JOIN Person.Person        AS p ON p.BusinessEntityID = c.PersonID\r\n",
                "LEFT JOIN Sales.Store          AS s ON s.BusinessEntityID = c.StoreID\r\n",
                "WHERE YEAR(soh.OrderDate) = 2013\r\n",
                "GROUP BY\r\n",
                "    soh.CustomerID,\r\n",
                "    ISNULL(p.FirstName + ' ' + p.LastName, s.Name)\r\n",
                "HAVING COUNT(*) = 1\r\n",
                "ORDER BY OnlyOrderDate;\r\n",
                ""
            ],
            "metadata": {
                "language": "sql",
                "azdata_cell_guid": "03ca5986-5716-4d88-9727-9dd36cec5b91",
                "tags": [
                    "hide_input"
                ]
            },
            "outputs": [],
            "execution_count": null
        },
        {
            "cell_type": "markdown",
            "source": [
                "1. I joined the suspects back to their identities through Sales.Customer.\n",
                "    \n",
                "2. For people, I linked Customer.PersonID → Person.Person.BusinessEntityID; for stores, I linked Customer.StoreID → Sales.Store.BusinessEntityID.\n",
                "    \n",
                "3. I selected a single row per suspect by grouping on CustomerID and the display name, pulling the one order’s SalesOrderID, date, and TotalDue.\n",
                "    \n",
                "4. <span style=\"color: var(--vscode-foreground);\">I used ISNULL(PersonName, StoreName) to show a clean CustomerName, then sorted by the order date to see when each hit happened.</span>"
            ],
            "metadata": {
                "language": "sql",
                "azdata_cell_guid": "6d7ecc1b-a23e-4d19-a60e-3c0dd240d4be"
            },
            "attachments": {}
        },
        {
            "cell_type": "code",
            "source": [
                "-- Stage 3: the priciest one-and-done order in 2013 (top 10 shown)\r\n",
                "SELECT TOP (10)\r\n",
                "    ISNULL(p.FirstName + ' ' + p.LastName, s.Name) AS CustomerName,\r\n",
                "    MAX(soh.TotalDue)  AS OrderValue,\r\n",
                "    MIN(soh.OrderDate) AS OrderDate,\r\n",
                "    MIN(soh.SalesOrderID) AS SalesOrderID\r\n",
                "FROM Sales.SalesOrderHeader AS soh\r\n",
                "LEFT JOIN Sales.Customer AS c ON c.CustomerID = soh.CustomerID\r\n",
                "LEFT JOIN Person.Person  AS p ON p.BusinessEntityID = c.PersonID\r\n",
                "LEFT JOIN Sales.Store    AS s ON s.BusinessEntityID = c.StoreID\r\n",
                "WHERE YEAR(soh.OrderDate) = 2013\r\n",
                "GROUP BY ISNULL(p.FirstName + ' ' + p.LastName, s.Name)\r\n",
                "HAVING COUNT(*) = 1\r\n",
                "ORDER BY OrderValue DESC;\r\n",
                ""
            ],
            "metadata": {
                "language": "sql",
                "azdata_cell_guid": "98dff34f-bcf3-46f8-9481-6ad466e9641d",
                "tags": [
                    "hide_input"
                ]
            },
            "outputs": [],
            "execution_count": null
        },
        {
            "cell_type": "markdown",
            "source": [
                "1. I returned to 2013’s orders and repeated the identity joins (Customer → Person/Store).\n",
                "\n",
                "2. I grouped by the final CustomerName and again enforced HAVING COUNT(*) = 1 to keep only single-order culprits\n",
                "\n",
                "3. I surfaced their haul by selecting the order’s TotalDue (as OrderValue) and timestamp details.\n",
                "\n",
                "4. I sorted DESC by OrderValue and showed the TOP (10)—the very first line is our ringleader: the priciest one-and-done of 2013.\n",
                "\n",
                "I combed through 2013 orders for customers who appeared exactly once, then unmasked each using Sales.Customer to Person.Person/Store. Finally, i stacked those one-off hits by TotalDue to see whose single visit cost us the most. The top line is the culprit, Yuping Tian, the person who did one order and vanished."
            ],
            "metadata": {
                "language": "",
                "azdata_cell_guid": "5cf71a19-761c-4b17-9869-0dc5bcefbb7c"
            },
            "attachments": {}
        },
        {
            "cell_type": "markdown",
            "source": [
                "# Mystery 7: The Scrap Heap 2!\n",
                "\n",
                "> The scrapyard is overflowing with \"LL Bottom Brackets\"! \n",
                "> \n",
                "> The scrap rate for this single part is reported to be 50x higher than any other. Lets investigate by finding the ProductID, finding all related work orders, and calculate and rank the scrap rates."
            ],
            "metadata": {
                "language": "sql",
                "azdata_cell_guid": "504ac2dd-853f-47d7-b189-032c269ae087"
            },
            "attachments": {}
        },
        {
            "cell_type": "code",
            "source": [
                "-- Stage 1: Find the ProductID for 'Front Brakes'\r\n",
                "SELECT ProductID, Name\r\n",
                "FROM Production.Product\r\n",
                "WHERE Name = 'LL bottom bracket';\r\n",
                ""
            ],
            "metadata": {
                "language": "sql",
                "azdata_cell_guid": "04c3cd71-688d-4b3e-989a-11b3bb959d39",
                "tags": []
            },
            "outputs": [],
            "execution_count": null
        },
        {
            "cell_type": "markdown",
            "source": [
                "1. I began by looking inside the Production.Product table to locate the ProductID that corresponds to ‘LL Bottom Bracket’.\r\n",
                "\r\n",
                "2. The ProductID will act as a key to trace every work order related to this product stored in Production. WorkOrder.\r\n",
                "\r\n",
                "3. Once found, this ID helps us for stage 2 of the investigation."
            ],
            "metadata": {
                "language": "sql",
                "azdata_cell_guid": "90562e10-87db-4a26-a47d-40566704e7c9"
            },
            "attachments": {}
        },
        {
            "cell_type": "code",
            "source": [
                "SELECT \r\n",
                "    p.ProductID,\r\n",
                "    p.Name AS ProductName,\r\n",
                "    SUM(w.OrderQty)      AS TotalOrdered,\r\n",
                "    SUM(w.ScrappedQty)   AS TotalScrapped,\r\n",
                "    CAST(\r\n",
                "        SUM(w.ScrappedQty) * 1.0 / NULLIF(SUM(w.OrderQty), 0)\r\n",
                "        AS DECIMAL(10,4)\r\n",
                "    ) AS ScrapRate\r\n",
                "FROM Production.Product AS p\r\n",
                "JOIN Production.WorkOrder AS w\r\n",
                "    ON p.ProductID = w.ProductID\r\n",
                "WHERE p.ProductID = 994        -- LL Bottom Bracket\r\n",
                "GROUP BY p.ProductID, p.Name\r\n",
                "HAVING SUM(w.OrderQty) > 0\r\n",
                "ORDER BY ScrapRate DESC;\r\n",
                ""
            ],
            "metadata": {
                "language": "sql",
                "azdata_cell_guid": "ed7ff92b-d902-4006-902d-befb7b578745"
            },
            "outputs": [],
            "execution_count": null
        },
        {
            "cell_type": "markdown",
            "source": [
                "1.I joined Production.Product with Production.WorkOrder to gather all manufacturing data tied to Product ID 994.\r\n",
                "\r\n",
                "2.Summing both OrderQty and ScrappedQty gives total production vs. waste.\r\n",
                "\r\n",
                "3.I then computed a Scrap Rate as ScrappedQty / OrderQty, cast to four decimals for accuracy.\r\n",
                "\r\n",
                "Sorting by ScrapRate reveals whether this component is truly the top culprit. This query exposed how many LL Bottom Brackets were produced and how many were scrapped, along with their scrap rate. It is not the LL bottom bracket that has a high scrap rate."
            ],
            "metadata": {
                "language": "sql",
                "azdata_cell_guid": "f4920313-46a7-45ab-bd90-d5f96c47472c"
            },
            "attachments": {}
        }
    ]
}