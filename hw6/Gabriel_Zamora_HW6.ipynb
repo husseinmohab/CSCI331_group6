{
    "metadata": {
        "kernelspec": {
            "name": "SQL",
            "display_name": "SQL",
            "language": "sql"
        },
        "language_info": {
            "name": "sql",
            "version": ""
        }
    },
    "nbformat_minor": 2,
    "nbformat": 4,
    "cells": [
        {
            "cell_type": "markdown",
            "source": [
                "**Proposition 1)** Customers who bought a road bike in 2013 but did not buy any bike in 2014\n",
                "\n",
                "- creates a Common Table Expression \"BikeSales\" to simplify filtering and reuse bike order data.\n",
                "- Retrieves customers who bought \"Road Bikes\" in 2013\n",
                "- uses the **EXCEPT** operator to exlcude customers who bought any bike in 2014.\n",
                "- Returns customers who stopped purchasing bikes after 2013.\n",
                "\n",
                "Why Special: Helps marketing teams identify customres who stopped purchasing a specific product line, where you can try to win these customers back."
            ],
            "metadata": {
                "azdata_cell_guid": "38396b1e-28fd-4419-8cb4-917247ae73b0"
            },
            "attachments": {}
        },
        {
            "cell_type": "code",
            "source": [
                "WITH BikeSales AS (\r\n",
                "  SELECT soh.CustomerID, soh.OrderDate, psc.Name AS SubCat\r\n",
                "  FROM Sales.SalesOrderHeader soh\r\n",
                "  JOIN Sales.SalesOrderDetail sod ON sod.SalesOrderID = soh.SalesOrderID\r\n",
                "  JOIN Production.Product p ON p.ProductID = sod.ProductID\r\n",
                "  JOIN Production.ProductSubcategory psc ON psc.ProductSubcategoryID = p.ProductSubcategoryID\r\n",
                "  JOIN Production.ProductCategory pc ON pc.ProductCategoryID = psc.ProductCategoryID\r\n",
                "  WHERE pc.Name = N'Bikes'\r\n",
                ")\r\n",
                "SELECT DISTINCT CustomerID\r\n",
                "FROM BikeSales\r\n",
                "WHERE SubCat = N'Road Bikes'\r\n",
                "  AND OrderDate >= '20130101' AND OrderDate < '20140101'\r\n",
                "\r\n",
                "EXCEPT\r\n",
                "\r\n",
                "SELECT DISTINCT CustomerID\r\n",
                "FROM BikeSales\r\n",
                "WHERE OrderDate >= '20140101' AND OrderDate < '20150101';"
            ],
            "metadata": {
                "azdata_cell_guid": "32c13cfc-de03-4cb6-bdd1-7fe8f9fdde8c",
                "language": "sql",
                "tags": [
                    "hide_input"
                ]
            },
            "outputs": [],
            "execution_count": null
        },
        {
            "cell_type": "markdown",
            "source": [
                "**Proposition 2)** Products sold in North America but not Europe\n",
                "\n",
                "- The inner part (**EXCEPT**) finds ProductIDs sold in North America but not in Europe.\n",
                "- The outer query joins that result to the Production.product table, pulling in each item's name.\n",
                "- DISTINCT ensures you dont get duplicate rows.\n",
                "\n",
                "Why Special: Useful for international sales analysis to find regional product gaps or tailor distribution for other countries."
            ],
            "metadata": {
                "azdata_cell_guid": "9141e9fa-1b7c-41d2-8b36-255f92db38e1"
            },
            "attachments": {}
        },
        {
            "cell_type": "code",
            "source": [
                "SELECT DISTINCT p.ProductID, p.Name AS ProductName\r\n",
                "FROM Production.Product AS p\r\n",
                "WHERE p.ProductID IN (\r\n",
                "\r\n",
                "    \r\n",
                "        SELECT DISTINCT sod.ProductID\r\n",
                "        FROM Sales.SalesOrderHeader AS soh\r\n",
                "        JOIN Sales.SalesOrderDetail AS sod\r\n",
                "            ON soh.SalesOrderID = sod.SalesOrderID\r\n",
                "        JOIN Sales.SalesTerritory AS st\r\n",
                "            ON soh.TerritoryID = st.TerritoryID\r\n",
                "        WHERE st.CountryRegionCode IN ('US', 'CA', 'MX')\r\n",
                "    \r\n",
                "\r\n",
                "    EXCEPT\r\n",
                "    \r\n",
                "        SELECT DISTINCT sod.ProductID\r\n",
                "        FROM Sales.SalesOrderHeader AS soh\r\n",
                "        JOIN Sales.SalesOrderDetail AS sod\r\n",
                "            ON soh.SalesOrderID = sod.SalesOrderID\r\n",
                "        JOIN Sales.SalesTerritory AS st\r\n",
                "            ON soh.TerritoryID = st.TerritoryID\r\n",
                "        WHERE st.CountryRegionCode IN ('GB', 'FR', 'DE')\r\n",
                "    \r\n",
                ")\r\n",
                "ORDER BY p.ProductID;\r\n",
                ""
            ],
            "metadata": {
                "azdata_cell_guid": "8785ee93-2f2c-476b-8f88-a6010fa54921",
                "language": "sql",
                "tags": [
                    "hide_input"
                ]
            },
            "outputs": [],
            "execution_count": null
        },
        {
            "cell_type": "markdown",
            "source": [
                "**Proposition 3)** Employees who are also salespeople with sales over $1,000,000\n",
                "\n",
                "- Uses **INTERSECT** operator to find people who appear in both HumanResources.Employee and Sales.Salesperson\n",
                "- Joins the matching employees to Sales.SalesOrderHeader to calculate their total sales.\n",
                "- Groups results by salesperson and filters where SUM(TotalDue)\\>1,000,000\n",
                "\n",
                "Why Special: Enables HR and finance to recognize high-performing employees who directly drive major sales to the business."
            ],
            "metadata": {
                "azdata_cell_guid": "14774285-5e17-4e9e-b6af-ec90694377dc"
            },
            "attachments": {}
        },
        {
            "cell_type": "code",
            "source": [
                "WITH EmployeeSalespeople AS (\r\n",
                "    SELECT BusinessEntityID\r\n",
                "    FROM HumanResources.Employee\r\n",
                "\r\n",
                "    INTERSECT\r\n",
                "\r\n",
                "    SELECT BusinessEntityID\r\n",
                "    FROM Sales.SalesPerson\r\n",
                ")\r\n",
                "SELECT\r\n",
                "    Person.BusinessEntityID AS SalespersonID,\r\n",
                "    Person.FirstName + ' ' + Person.LastName AS SalespersonName,\r\n",
                "    SUM(SalesOrderHeader.TotalDue) AS TotalSales\r\n",
                "FROM Sales.SalesOrderHeader AS SalesOrderHeader\r\n",
                "JOIN EmployeeSalespeople AS EmployeeSalespeople\r\n",
                "  ON SalesOrderHeader.SalesPersonID = EmployeeSalespeople.BusinessEntityID\r\n",
                "JOIN Person.Person AS Person\r\n",
                "  ON Person.BusinessEntityID = EmployeeSalespeople.BusinessEntityID\r\n",
                "GROUP BY\r\n",
                "    Person.BusinessEntityID,\r\n",
                "    Person.FirstName,\r\n",
                "    Person.LastName\r\n",
                "HAVING SUM(SalesOrderHeader.TotalDue) > 1000000\r\n",
                "ORDER BY TotalSales DESC;"
            ],
            "metadata": {
                "azdata_cell_guid": "8f34ccb0-23de-4003-a4ca-507e3e6672b4",
                "language": "sql",
                "tags": [
                    "hide_input"
                ]
            },
            "outputs": [],
            "execution_count": null
        },
        {
            "cell_type": "markdown",
            "source": [
                "**Proposition 4)** A combined list of territories assigned to salespersons and territories where stores are located.\n",
                "\n",
                "- Uses the UNION operator to combine territories form both Sales.SalesPerson and Sales.Customer.\n",
                "- Joins the results with Sales.SalesTerritory to display the territory name, region, and group.\n",
                "- Ensures only distinct, non-repeating territories are shown.\n",
                "\n",
                "Why Special: Assists operations coordinators/managers to map sales coverage across territories, to ensure no overlap or missed regions."
            ],
            "metadata": {
                "azdata_cell_guid": "f24ed095-2617-4323-94a0-3213dab864b7"
            },
            "attachments": {}
        },
        {
            "cell_type": "code",
            "source": [
                "SELECT DISTINCT\r\n",
                "    Territory.TerritoryID,\r\n",
                "    Territory.Name AS TerritoryName,\r\n",
                "    Territory.CountryRegionCode,\r\n",
                "    Territory.[Group] AS TerritoryGroup\r\n",
                "FROM Sales.SalesTerritory AS Territory\r\n",
                "WHERE Territory.TerritoryID IN (\r\n",
                "    SELECT TerritoryID\r\n",
                "    FROM Sales.SalesPerson\r\n",
                "    WHERE TerritoryID IS NOT NULL\r\n",
                "\r\n",
                "    UNION\r\n",
                "\r\n",
                "    SELECT TerritoryID\r\n",
                "    FROM Sales.Customer\r\n",
                "    WHERE StoreID IS NOT NULL\r\n",
                "      AND TerritoryID IS NOT NULL\r\n",
                ")\r\n",
                "ORDER BY TerritoryName;"
            ],
            "metadata": {
                "azdata_cell_guid": "b4b1b208-455a-4a38-b04b-e1f382fb91ea",
                "language": "sql",
                "tags": [
                    "hide_input"
                ]
            },
            "outputs": [],
            "execution_count": null
        },
        {
            "cell_type": "markdown",
            "source": [
                "**Proposition 5)** Salespeople who sold bikes and Components\n",
                "\n",
                "- Creates a CTE named SalesLines that joins sales and product tables to include each product's category.\n",
                "- Filters that CTE twice to get salespeople who sold Bikes and those who sold Components.\n",
                "- Uses an INTERSECT operator to return only salespeople found in both sets.\n",
                "\n",
                "Why Special : Helps sales manageemnt identify cross-category sellers who can handle diverse products and sell them both."
            ],
            "metadata": {
                "azdata_cell_guid": "737b80f2-3148-4be3-8c5c-8392c24ece0f"
            },
            "attachments": {}
        },
        {
            "cell_type": "code",
            "source": [
                "WITH SalesLines AS (\r\n",
                "    SELECT\r\n",
                "        SalesOrderHeader.SalesPersonID,\r\n",
                "        SalesOrderHeader.SalesOrderID,\r\n",
                "        ProductCategory.Name AS ProductCategory\r\n",
                "    FROM Sales.SalesOrderHeader AS SalesOrderHeader\r\n",
                "    JOIN Sales.SalesOrderDetail AS SalesOrderDetail\r\n",
                "        ON SalesOrderHeader.SalesOrderID = SalesOrderDetail.SalesOrderID\r\n",
                "    JOIN Production.Product AS Product\r\n",
                "        ON Product.ProductID = SalesOrderDetail.ProductID\r\n",
                "    JOIN Production.ProductSubcategory AS ProductSubcategory\r\n",
                "        ON ProductSubcategory.ProductSubcategoryID = Product.ProductSubcategoryID\r\n",
                "    JOIN Production.ProductCategory AS ProductCategory\r\n",
                "        ON ProductCategory.ProductCategoryID = ProductSubcategory.ProductCategoryID\r\n",
                "    WHERE SalesOrderHeader.SalesPersonID IS NOT NULL\r\n",
                ")\r\n",
                "SELECT DISTINCT SalesPersonID\r\n",
                "FROM SalesLines\r\n",
                "WHERE ProductCategory = N'Bikes'\r\n",
                "\r\n",
                "INTERSECT\r\n",
                "\r\n",
                "SELECT DISTINCT SalesPersonID\r\n",
                "FROM SalesLines\r\n",
                "WHERE ProductCategory = N'Components';\r\n",
                ""
            ],
            "metadata": {
                "azdata_cell_guid": "cc6dc105-dc2a-445a-a87f-8aa447d0b646",
                "language": "sql",
                "tags": [
                    "hide_input"
                ]
            },
            "outputs": [],
            "execution_count": null
        },
        {
            "cell_type": "markdown",
            "source": [
                "**Proposition 6)** Vendors who supply parts for products sold both online and in stores.\n",
                "\n",
                "- Build the set of vendor IDs whose products appear on online orders, and the in-store orders.\n",
                "- Use INTERSECT to keep only vendors present in both sets\n",
                "\n",
                "Why Special: Useful for finding out which vendors are supporting both online and in-store sales."
            ],
            "metadata": {
                "azdata_cell_guid": "667dc05f-d837-4596-98d6-09a9310b8240"
            },
            "attachments": {}
        },
        {
            "cell_type": "code",
            "source": [
                "SELECT DISTINCT Vendor.BusinessEntityID, Vendor.Name AS VendorName\r\n",
                "FROM Purchasing.Vendor AS Vendor\r\n",
                "WHERE Vendor.BusinessEntityID IN (\r\n",
                "\r\n",
                "        SELECT DISTINCT ProductVendor.BusinessEntityID\r\n",
                "        FROM Purchasing.ProductVendor AS ProductVendor\r\n",
                "        WHERE ProductVendor.ProductID IN (\r\n",
                "            SELECT DISTINCT SalesOrderDetail.ProductID\r\n",
                "            FROM Sales.SalesOrderDetail AS SalesOrderDetail\r\n",
                "            JOIN Sales.SalesOrderHeader AS SalesOrderHeader\r\n",
                "              ON SalesOrderHeader.SalesOrderID = SalesOrderDetail.SalesOrderID\r\n",
                "            WHERE SalesOrderHeader.OnlineOrderFlag = 1\r\n",
                "        )\r\n",
                "\r\n",
                "    INTERSECT\r\n",
                "\r\n",
                "        SELECT DISTINCT ProductVendor.BusinessEntityID\r\n",
                "        FROM Purchasing.ProductVendor AS ProductVendor\r\n",
                "        WHERE ProductVendor.ProductID IN (\r\n",
                "            SELECT DISTINCT SalesOrderDetail.ProductID\r\n",
                "            FROM Sales.SalesOrderDetail AS SalesOrderDetail\r\n",
                "            JOIN Sales.SalesOrderHeader AS SalesOrderHeader\r\n",
                "              ON SalesOrderHeader.SalesOrderID = SalesOrderDetail.SalesOrderID\r\n",
                "            WHERE SalesOrderHeader.OnlineOrderFlag = 0\r\n",
                "        )\r\n",
                ")\r\n",
                "ORDER BY VendorName;"
            ],
            "metadata": {
                "azdata_cell_guid": "dc4ae55a-a8fd-4b3d-96d0-0fe69fc7cfe4",
                "language": "sql",
                "tags": [
                    "hide_input"
                ]
            },
            "outputs": [],
            "execution_count": null
        },
        {
            "cell_type": "markdown",
            "source": [
                "**Proposition 7)** Customers who have purchased products on special offers\n",
                "\n",
                "- The first SELECT gets all customres from Sales.Customer\n",
                "- The second query finds customers tied to orders containing any product where SpecialOfferID !=1 (meaning part of a promo)\n",
                "- The INTERSECT operator keeps only those customers who appears in both sets\n",
                "\n",
                "Why Special: Enables marketing teams to find customers who respond to special offers, maybe target them more"
            ],
            "metadata": {
                "azdata_cell_guid": "74f6ee3a-bbca-47d2-a4a6-8d897953ae1c"
            },
            "attachments": {}
        },
        {
            "cell_type": "code",
            "source": [
                "SELECT Customer.CustomerID\r\n",
                "FROM Sales.Customer AS Customer\r\n",
                "\r\n",
                "INTERSECT\r\n",
                "\r\n",
                "SELECT DISTINCT SalesOrderHeader.CustomerID\r\n",
                "FROM Sales.SalesOrderHeader AS SalesOrderHeader\r\n",
                "JOIN Sales.SalesOrderDetail AS SalesOrderDetail\r\n",
                "    ON SalesOrderHeader.SalesOrderID = SalesOrderDetail.SalesOrderID\r\n",
                "WHERE SalesOrderDetail.SpecialOfferID != 1;  -- 1 = no special offer\r\n",
                ""
            ],
            "metadata": {
                "azdata_cell_guid": "219f5792-3ec9-474f-8fd7-c2418b33e113",
                "language": "sql",
                "tags": [
                    "hide_input"
                ]
            },
            "outputs": [],
            "execution_count": null
        },
        {
            "cell_type": "markdown",
            "source": [
                "**Proposition 8)** Customers who ordered in 2014 but not 2013\n",
                "\n",
                "- Selects all customers who placed orders in 2014\n",
                "- Uses an EXCEPT operator to remove any customers who also ordered in 2013\n",
                "- Returns only new customers who began ordering in 2014.\n",
                "\n",
                "Why Special: Assists anayltics team in tracking new customers year over year."
            ],
            "metadata": {
                "azdata_cell_guid": "2b2a9656-e689-410f-88c3-877bad4c1b33"
            },
            "attachments": {}
        },
        {
            "cell_type": "code",
            "source": [
                "SELECT DISTINCT SalesOrderHeader.CustomerID\r\n",
                "FROM Sales.SalesOrderHeader AS SalesOrderHeader\r\n",
                "WHERE SalesOrderHeader.OrderDate >= '20140101'\r\n",
                "  AND SalesOrderHeader.OrderDate <  '20150101'\r\n",
                "\r\n",
                "EXCEPT\r\n",
                "\r\n",
                "SELECT DISTINCT SalesOrderHeader.CustomerID\r\n",
                "FROM Sales.SalesOrderHeader AS SalesOrderHeader\r\n",
                "WHERE SalesOrderHeader.OrderDate >= '20130101'\r\n",
                "  AND SalesOrderHeader.OrderDate <  '20140101';\r\n",
                ""
            ],
            "metadata": {
                "azdata_cell_guid": "ab088752-ae37-4f66-938e-6b20d5445448",
                "language": "sql",
                "tags": [
                    "hide_input"
                ]
            },
            "outputs": [],
            "execution_count": null
        },
        {
            "cell_type": "markdown",
            "source": [
                "**Proposition 9)** Territories where sales were made but no vendors are located\n",
                "\n",
                "- The first SELECT gets all territories where sales were made(Sales.SalesOrderHeader)\n",
                "- The second SELECT retrieves all territories where vendors are located by tracing addresses -\\> states -\\> territories\n",
                "- The EXCEPT operator removes any territories that appear in both sets\n",
                "\n",
                "Why Special: helps logistics teams to figure out which region sales are strong but sales presence is missing, helping future vendor expansion."
            ],
            "metadata": {
                "azdata_cell_guid": "8ea9b0f1-fd00-47a0-b378-ace5a356d924"
            },
            "attachments": {}
        },
        {
            "cell_type": "code",
            "source": [
                "SELECT DISTINCT SalesOrderHeader.TerritoryID\r\n",
                "\r\n",
                "FROM Sales.SalesOrderHeader AS SalesOrderHeader\r\n",
                "WHERE SalesOrderHeader.TerritoryID IS NOT NULL\r\n",
                "\r\n",
                "EXCEPT\r\n",
                "\r\n",
                "SELECT DISTINCT SalesTerritory.TerritoryID\r\n",
                "FROM Purchasing.Vendor AS Vendor\r\n",
                "JOIN Person.BusinessEntityAddress AS BusinessEntityAddress\r\n",
                "    ON Vendor.BusinessEntityID = BusinessEntityAddress.BusinessEntityID\r\n",
                "JOIN Person.Address AS Address\r\n",
                "    ON BusinessEntityAddress.AddressID = Address.AddressID\r\n",
                "JOIN Person.StateProvince AS StateProvince\r\n",
                "    ON Address.StateProvinceID = StateProvince.StateProvinceID\r\n",
                "JOIN Sales.SalesTerritory AS SalesTerritory\r\n",
                "    ON StateProvince.TerritoryID = SalesTerritory.TerritoryID\r\n",
                "WHERE SalesTerritory.TerritoryID IS NOT NULL;\r\n",
                ""
            ],
            "metadata": {
                "azdata_cell_guid": "48c43989-319f-492f-b7c2-4275e2f916fa",
                "language": "sql",
                "tags": [
                    "hide_input"
                ]
            },
            "outputs": [],
            "execution_count": null
        },
        {
            "cell_type": "markdown",
            "source": [
                "**Proposition 10)** Products available in both 'Red' and 'Black'\n",
                "\n",
                "- The first query selects all red products\n",
                "- The second query selects all black products\n",
                "- The INTERSECT operator returns only the product names that appear in both sets.\n",
                "\n",
                "Why Special: Useful for inventory and product management to find product lines available in multiple colors."
            ],
            "metadata": {
                "azdata_cell_guid": "a2850420-faf0-4e32-acfb-968c6bd08e84"
            },
            "attachments": {}
        },
        {
            "cell_type": "code",
            "source": [
                "SELECT Name\r\n",
                "FROM Production.Product\r\n",
                "WHERE Color = N'Red'\r\n",
                "\r\n",
                "INTERSECT\r\n",
                "\r\n",
                "SELECT Name\r\n",
                "FROM Production.Product\r\n",
                "WHERE Color = N'Black';\r\n",
                ""
            ],
            "metadata": {
                "azdata_cell_guid": "ef61f224-9ed0-4560-b4c1-03c6226c46d4",
                "language": "sql",
                "tags": [
                    "hide_input"
                ]
            },
            "outputs": [],
            "execution_count": null
        }
    ]
}