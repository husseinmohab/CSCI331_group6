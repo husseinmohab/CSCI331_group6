{
 "cells": [
  {
   "cell_type": "markdown",
   "metadata": {},
   "source": [
    "### 1. Proposition: Full details (name and email) of people who are not in a sales role\n",
    "**Functional specification:**\n",
    "- Create a set of BusinessEntityIDs for all people from the Person.Person table.\n",
    "- Create a second set of BusinessEntityIDs for people who are explicitly listed in the Sales.SalesPerson table.\n",
    "- Use the EXCEPT operator to find the BusinessEntityIDs of people who are not salespeople.\n",
    "- Join this resulting set with the Person.Person and Person.EmailAddress tables to retrieve the full name and email address."
   ]
  },
  {
   "cell_type": "code",
   "execution_count": null,
   "metadata": {},
   "outputs": [],
   "source": [
    "USE AdventureWorks2017;\n",
    "\n",
    "WITH NonSalesPeople AS (\n",
    "    SELECT BusinessEntityID FROM Person.Person\n",
    "    EXCEPT\n",
    "    SELECT BusinessEntityID FROM Sales.SalesPerson\n",
    ")\n",
    "SELECT\n",
    "    p.FirstName,\n",
    "    p.LastName,\n",
    "    ea.EmailAddress\n",
    "FROM Person.Person p\n",
    "JOIN NonSalesPeople nsp ON p.BusinessEntityID = nsp.BusinessEntityID\n",
    "JOIN Person.EmailAddress ea ON p.BusinessEntityID = ea.BusinessEntityID\n",
    "ORDER BY p.LastName, p.FirstName;"
   ]
  },
  {
   "cell_type": "markdown",
   "metadata": {},
   "source": [
    "### 2. Proposition: Products that have never been on a special offer, along with their list price\n",
    "\n",
    "**Functional specification:**\n",
    "- Create a set of all ProductIDs from the main product list.\n",
    "- Create a second set of all unique ProductIDs that have appeared on a special offer.\n",
    "- Use the EXCEPT operator to find the products that have never been on offer.\n",
    "- Join this result with the Product table to retrieve the full product name and its list price, ordered by price descending."
   ]
  },
  {
   "cell_type": "code",
   "execution_count": null,
   "metadata": {},
   "outputs": [],
   "source": [
    "WITH NeverOnOffer AS (\n",
    "    SELECT ProductID FROM Production.Product\n",
    "    EXCEPT\n",
    "    SELECT DISTINCT ProductID FROM Sales.SpecialOfferProduct\n",
    ")\n",
    "SELECT\n",
    "    p.Name,\n",
    "    p.ProductNumber,\n",
    "    p.ListPrice\n",
    "FROM Production.Product p\n",
    "JOIN NeverOnOffer noo ON p.ProductID = noo.ProductID\n",
    "WHERE p.ListPrice > 0\n",
    "ORDER BY p.ListPrice DESC;"
   ]
  },
  {
   "cell_type": "markdown",
   "metadata": {},
   "source": [
    "### 3. Proposition: Names of sales territories that have customers but no assigned salespersons\n",
    "\n",
    "**Functional specification:**\n",
    "- Generate a distinct set of TerritoryIDs for all territories that have customers.\n",
    "- Generate a second distinct set of TerritoryIDs for all territories that have an assigned salesperson.\n",
    "- Use the EXCEPT operator to find territories that are in the first set but not the second.\n",
    "- Join this result with the SalesTerritory table to get the full name and country code of each territory."
   ]
  },
  {
   "cell_type": "code",
   "execution_count": null,
   "metadata": {},
   "outputs": [],
   "source": [
    "WITH TerritoriesWithoutSalesperson AS (\n",
    "    SELECT DISTINCT TerritoryID FROM Sales.Customer WHERE TerritoryID IS NOT NULL\n",
    "    EXCEPT\n",
    "    SELECT DISTINCT TerritoryID FROM Sales.SalesPerson WHERE TerritoryID IS NOT NULL\n",
    ")\n",
    "SELECT\n",
    "    st.Name,\n",
    "    st.CountryRegionCode\n",
    "FROM Sales.SalesTerritory st\n",
    "JOIN TerritoriesWithoutSalesperson t ON st.TerritoryID = t.TerritoryID\n",
    "ORDER BY st.Name;"
   ]
  },
  {
   "cell_type": "markdown",
   "metadata": {},
   "source": [
    "### 4. Proposition: Full names of customers who have purchased products from both the 'Bikes' and 'Accessories' categories\n",
    "\n",
    "**Functional specification:**\n",
    "- Create a set of CustomerIDs who have purchased a product from the 'Bikes' category.\n",
    "- Create a second set of CustomerIDs who have purchased a product from the 'Accessories' category.\n",
    "- Use the INTERSECT operator to find the CustomerIDs present in both sets.\n",
    "- Join this final set of IDs with the Person table to retrieve the full names of these customers."
   ]
  },
  {
   "cell_type": "code",
   "execution_count": null,
   "metadata": {},
   "outputs": [],
   "source": [
    "WITH IntersectingCustomers AS (\n",
    "    SELECT soh.CustomerID\n",
    "    FROM Sales.SalesOrderHeader AS soh\n",
    "    JOIN Sales.SalesOrderDetail AS sod ON soh.SalesOrderID = sod.SalesOrderID\n",
    "    JOIN Production.Product AS p ON sod.ProductID = p.ProductID\n",
    "    JOIN Production.ProductSubcategory AS psc ON p.ProductSubcategoryID = psc.ProductSubcategoryID\n",
    "    JOIN Production.ProductCategory AS pc ON psc.ProductCategoryID = pc.ProductCategoryID\n",
    "    WHERE pc.Name = 'Bikes'\n",
    "    INTERSECT\n",
    "    SELECT soh.CustomerID\n",
    "    FROM Sales.SalesOrderHeader AS soh\n",
    "    JOIN Sales.SalesOrderDetail AS sod ON soh.SalesOrderID = sod.SalesOrderID\n",
    "    JOIN Production.Product AS p ON sod.ProductID = p.ProductID\n",
    "    JOIN Production.ProductSubcategory AS psc ON p.ProductSubcategoryID = psc.ProductSubcategoryID\n",
    "    JOIN Production.ProductCategory AS pc ON psc.ProductCategoryID = pc.ProductCategoryID\n",
    "    WHERE pc.Name = 'Accessories'\n",
    ")\n",
    "SELECT\n",
    "    p.FirstName,\n",
    "    p.LastName\n",
    "FROM Person.Person p\n",
    "JOIN IntersectingCustomers ic ON p.BusinessEntityID = ic.CustomerID\n",
    "ORDER BY p.LastName, p.FirstName;"
   ]
  },
  {
   "cell_type": "markdown",
   "metadata": {},
   "source": [
    "### 5. Proposition: Names of vendors who supply component parts but do not supply any finished bicycles\n",
    "\n",
    "**Functional specification:**\n",
    "- Generate a set of BusinessEntityIDs for vendors who supply component parts (FinishedGoodsFlag = 0).\n",
    "- Generate a second set for vendors who supply any product that is a finished bicycle.\n",
    "- Use the EXCEPT operator to subtract the second set from the first.\n",
    "- Join the resulting vendor IDs with the Vendor table to get their names and credit ratings."
   ]
  },
  {
   "cell_type": "code",
   "execution_count": null,
   "metadata": {},
   "outputs": [],
   "source": [
    "WITH ComponentOnlyVendors AS (\n",
    "    SELECT pv.BusinessEntityID\n",
    "    FROM Purchasing.ProductVendor AS pv\n",
    "    JOIN Production.Product AS p ON pv.ProductID = p.ProductID\n",
    "    WHERE p.FinishedGoodsFlag = 0\n",
    "    EXCEPT\n",
    "    SELECT pv.BusinessEntityID\n",
    "    FROM Purchasing.ProductVendor AS pv\n",
    "    JOIN Production.Product AS p ON pv.ProductID = p.ProductID\n",
    "    JOIN Production.ProductSubcategory AS psc ON p.ProductSubcategoryID = psc.ProductSubcategoryID\n",
    "    JOIN Production.ProductCategory AS pc ON psc.ProductCategoryID = pc.ProductCategoryID\n",
    "    WHERE p.FinishedGoodsFlag = 1 AND pc.Name = 'Bikes'\n",
    ")\n",
    "SELECT\n",
    "    v.Name,\n",
    "    v.CreditRating\n",
    "FROM Purchasing.Vendor v\n",
    "JOIN ComponentOnlyVendors cov ON v.BusinessEntityID = cov.BusinessEntityID\n",
    "ORDER BY v.Name;"
   ]
  },
  {
   "cell_type": "markdown",
   "metadata": {},
   "source": [
    "### 6. Proposition: Names of salespersons who had a quota in both Q1 and Q2 of 2013\n",
    "\n",
    "**Functional specification:**\n",
    "- Create a set of salesperson IDs who had a quota recorded in the first quarter of 2013.\n",
    "- Create a second set of salesperson IDs who had a quota recorded in the second quarter of 2013.\n",
    "- Use the INTERSECT operator to find the salespersons who appear in both sets.\n",
    "- Join the result with the Person table to get the full name of each salesperson."
   ]
  },
  {
   "cell_type": "code",
   "execution_count": null,
   "metadata": {},
   "outputs": [],
   "source": [
    "WITH ConsistentSalespersons AS (\n",
    "    SELECT BusinessEntityID\n",
    "    FROM Sales.SalesPersonQuotaHistory\n",
    "    WHERE QuotaDate >= '2013-01-01' AND QuotaDate < '2013-04-01'\n",
    "    INTERSECT\n",
    "    SELECT BusinessEntityID\n",
    "    FROM Sales.SalesPersonQuotaHistory\n",
    "    WHERE QuotaDate >= '2013-04-01' AND QuotaDate < '2013-07-01'\n",
    ")\n",
    "SELECT\n",
    "    p.FirstName,\n",
    "    p.LastName\n",
    "FROM Person.Person p\n",
    "JOIN ConsistentSalespersons cs ON p.BusinessEntityID = cs.BusinessEntityID\n",
    "ORDER BY p.LastName, p.FirstName;"
   ]
  },
  {
   "cell_type": "markdown",
   "metadata": {},
   "source": [
    "### 7. Proposition: Orders that use an address for both billing and shipping\n",
    "\n",
    "**Functional specification:**\n",
    "- Create a set of all unique address IDs used as a billing address.\n",
    "- Create a second set of all unique address IDs used as a shipping address.\n",
    "- Use the INTERSECT operator to find the common addresses.\n",
    "- Join this result back to the SalesOrderHeader table to identify the specific orders and customers using these common addresses."
   ]
  },
  {
   "cell_type": "code",
   "execution_count": null,
   "metadata": {},
   "outputs": [],
   "source": [
    "WITH CommonAddresses AS (\n",
    "    SELECT BillToAddressID AS AddressID FROM Sales.SalesOrderHeader\n",
    "    INTERSECT\n",
    "    SELECT ShipToAddressID AS AddressID FROM Sales.SalesOrderHeader\n",
    ")\n",
    "SELECT\n",
    "    soh.SalesOrderID,\n",
    "    soh.OrderDate,\n",
    "    soh.CustomerID,\n",
    "    ca.AddressID AS CommonAddressID\n",
    "FROM Sales.SalesOrderHeader soh\n",
    "JOIN CommonAddresses ca ON soh.BillToAddressID = ca.AddressID\n",
    "ORDER BY soh.OrderDate;"
   ]
  },
  {
   "cell_type": "markdown",
   "metadata": {},
   "source": [
    "### 8. Proposition: Names of products that are in inventory and have also been sold\n",
    "\n",
    "**Functional specification:**\n",
    "- Generate a set of all distinct ProductIDs from inventory.\n",
    "- Generate a second set of all distinct ProductIDs from sales order details.\n",
    "- Use the INTERSECT operator to find the common products.\n",
    "- Join the result with the Product table to get the product names and their color."
   ]
  },
  {
   "cell_type": "code",
   "execution_count": null,
   "metadata": {},
   "outputs": [],
   "source": [
    "WITH SoldInventoryProducts AS (\n",
    "    SELECT DISTINCT ProductID FROM Production.ProductInventory\n",
    "    INTERSECT\n",
    "    SELECT DISTINCT ProductID FROM Sales.SalesOrderDetail\n",
    ")\n",
    "SELECT\n",
    "    p.Name,\n",
    "    p.Color,\n",
    "    p.ListPrice\n",
    "FROM Production.Product p\n",
    "JOIN SoldInventoryProducts sip ON p.ProductID = sip.ProductID\n",
    "ORDER BY p.Name;"
   ]
  },
  {
   "cell_type": "markdown",
   "metadata": {},
   "source": [
    "### 9. Proposition: A combined list of people who are either Sales Staff or Vendor Contacts\n",
    "\n",
    "**Functional specification:**\n",
    "- Create a set of full names and a role type for all people who are in the SalesPerson table.\n",
    "- Create a second set of full names and a role type for all people who are primary contacts for a vendor.\n",
    "- Use the UNION operator to combine these two sets into a single list of unique people and their roles."
   ]
  },
  {
   "cell_type": "code",
   "execution_count": null,
   "metadata": {},
   "outputs": [],
   "source": [
    "SELECT\n",
    "    p.FirstName,\n",
    "    p.LastName,\n",
    "    'Sales Person' AS PersonRole\n",
    "FROM Person.Person p\n",
    "JOIN Sales.SalesPerson sp ON p.BusinessEntityID = sp.BusinessEntityID\n",
    "UNION\n",
    "SELECT\n",
    "    p.FirstName,\n",
    "    p.LastName,\n",
    "    'Vendor Contact' AS PersonRole\n",
    "FROM Person.Person p\n",
    "JOIN Person.BusinessEntityContact bec ON p.BusinessEntityID = bec.PersonID\n",
    "JOIN Purchasing.Vendor v ON bec.BusinessEntityID = v.BusinessEntityID\n",
    "ORDER BY PersonRole, p.LastName;"
   ]
  },
  {
   "cell_type": "markdown",
   "metadata": {},
   "source": [
    "### 10. Proposition: Names of currencies used in prior years but not in the current year\n",
    "\n",
    "**Functional specification:**\n",
    "- Create a set of all distinct currency codes used in orders placed before the current calendar year.\n",
    "- Create a second set of all distinct currency codes used in orders placed during the current calendar year.\n",
    "- Use the EXCEPT operator to find the historic-only currencies.\n",
    "- Join this result with the Currency table to display the full name of these currencies."
   ]
  },
  {
   "cell_type": "code",
   "execution_count": null,
   "metadata": {},
   "outputs": [],
   "source": [
    "WITH HistoricOnlyCodes AS (\n",
    "    SELECT DISTINCT scr.ToCurrencyCode AS CurrencyCode\n",
    "    FROM Sales.SalesOrderHeader soh\n",
    "    JOIN Sales.CurrencyRate scr ON soh.CurrencyRateID = scr.CurrencyRateID\n",
    "    WHERE YEAR(soh.OrderDate) < YEAR(GETDATE())\n",
    "    EXCEPT\n",
    "    SELECT DISTINCT scr.ToCurrencyCode AS CurrencyCode\n",
    "    FROM Sales.SalesOrderHeader soh\n",
    "    JOIN Sales.CurrencyRate scr ON soh.CurrencyRateID = scr.CurrencyRateID\n",
    "    WHERE YEAR(soh.OrderDate) = YEAR(GETDATE())\n",
    ")\n",
    "SELECT\n",
    "    c.Name\n",
    "FROM Sales.Currency c\n",
    "JOIN HistoricOnlyCodes h ON c.CurrencyCode = h.CurrencyCode\n",
    "ORDER BY c.Name;"
   ]
  }
 ],
 "metadata": {
  "kernelspec": {
   "display_name": "SQL",
   "language": "sql",
   "name": "sql"
  },
  "language_info": {
   "name": "sql"
  }
 },
 "nbformat": 4,
 "nbformat_minor": 2
}

