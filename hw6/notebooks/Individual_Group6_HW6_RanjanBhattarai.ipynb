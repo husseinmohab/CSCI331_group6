{
 "cells": [
  {
   "cell_type": "markdown",
   "id": "c63e3828-a33e-4f7e-bda5-ad6d47ee98b5",
   "metadata": {},
   "source": [
    "### 1. Proposition: Individuals who are both customers and employees\n",
    "**Functional Specification:**\n",
    " - Select `PersonID` from `Sales.Customer` where `PersonID` is not null.\n",
    " - `INTERSECT` with the result of the second query.\n",
    " - Select `BusinessEntityID` from `HumanResources.Employee`."
   ]
  },
  {
   "cell_type": "code",
   "execution_count": null,
   "id": "a78ee655-47d4-4e31-a29a-7f2ef9c74c0e",
   "metadata": {},
   "outputs": [],
   "source": [
    "SELECT PersonID\n",
    "FROM Sales.Customer\n",
    "WHERE PersonID IS NOT NULL\n",
    "INTERSECT\n",
    "SELECT BusinessEntityID\n",
    "FROM HumanResources.Employee;"
   ]
  },
  {
   "cell_type": "markdown",
   "id": "6afc5673-07fe-4263-b1dd-6c55479200c9",
   "metadata": {},
   "source": [
    "### 2. Proposition: Products sold in both the United States and Canada\n",
    "**Functional Specification:**\n",
    " - Join `Sales.SalesOrderHeader`, `Sales.SalesOrderDetail`, and `Sales.SalesTerritory`, filter for 'US', and select distinct `ProductID`.\n",
    " - `INTERSECT` with the result of the second query.\n",
    " - Join `Sales.SalesOrderHeader`, `Sales.SalesOrderDetail`, and `Sales.SalesTerritory`, filter for 'CA', and select distinct `ProductID`."
   ]
  },
  {
   "cell_type": "code",
   "execution_count": null,
   "id": "260c70fe-6f30-40d2-98fe-ed4ee1528af9",
   "metadata": {},
   "outputs": [],
   "source": [
    "SELECT DISTINCT sod.ProductID\n",
    "FROM Sales.SalesOrderHeader soh\n",
    "JOIN Sales.SalesOrderDetail sod ON sod.SalesOrderID = soh.SalesOrderID\n",
    "JOIN Sales.SalesTerritory st     ON st.TerritoryID   = soh.TerritoryID\n",
    "WHERE st.CountryRegionCode = 'US'\n",
    "INTERSECT\n",
    "SELECT DISTINCT sod.ProductID\n",
    "FROM Sales.SalesOrderHeader soh\n",
    "JOIN Sales.SalesOrderDetail sod ON sod.SalesOrderID = soh.SalesOrderID\n",
    "JOIN Sales.SalesTerritory st     ON st.TerritoryID   = soh.TerritoryID\n",
    "WHERE st.CountryRegionCode = 'CA';"
   ]
  },
  {
   "cell_type": "markdown",
   "id": "f10ef19b-6a83-4f33-9212-f7d4a886689c",
   "metadata": {},
   "source": [
    "### 3. Proposition: Salespersons who sold to customers in both the 'Northwest' and 'Southwest' territories\n",
    "**Functional Specification:**\n",
    " - Join `Sales.SalesOrderHeader` with `Sales.SalesTerritory`, filter for 'Northwest', and select distinct `SalesPersonID`.\n",
    " - `INTERSECT` with the result of the second query.\n",
    " - Join `Sales.SalesOrderHeader` with `Sales.SalesTerritory`, filter for 'Southwest', and select distinct `SalesPersonID`."
   ]
  },
  {
   "cell_type": "code",
   "execution_count": null,
   "id": "fbdaa586-ac4f-40bd-8ed4-2be5c8dfb717",
   "metadata": {},
   "outputs": [],
   "source": [
    "SELECT DISTINCT soh.SalesPersonID\n",
    "FROM Sales.SalesOrderHeader soh\n",
    "JOIN Sales.SalesTerritory st ON st.TerritoryID = soh.TerritoryID\n",
    "WHERE st.[Name] = 'Northwest' AND soh.SalesPersonID IS NOT NULL\n",
    "INTERSECT\n",
    "SELECT DISTINCT soh.SalesPersonID\n",
    "FROM Sales.SalesOrderHeader soh\n",
    "JOIN Sales.SalesTerritory st ON st.TerritoryID = soh.TerritoryID\n",
    "WHERE st.[Name] = 'Southwest' AND soh.SalesPersonID IS NOT NULL;"
   ]
  },
  {
   "cell_type": "markdown",
   "id": "1ec022fe-4d19-42fd-b167-7592e77ea51e",
   "metadata": {},
   "source": [
    "### 4. Proposition: Employees who have worked in both the 'Production' and 'Engineering' departments\n",
    "**Functional Specification:**\n",
    " - Join `HumanResources.EmployeeDepartmentHistory` with `HumanResources.Department`, filter for 'Production', and select distinct `BusinessEntityID`.\n",
    " - `INTERSECT` with the result of the second query.\n",
    " - Join `HumanResources.EmployeeDepartmentHistory` with `HumanResources.Department`, filter for 'Engineering', and select distinct `BusinessEntityID`."
   ]
  },
  {
   "cell_type": "code",
   "execution_count": null,
   "id": "7ab2dd25-c2eb-483b-baf3-e678b4ebbe5e",
   "metadata": {},
   "outputs": [],
   "source": [
    "SELECT DISTINCT edh.BusinessEntityID\n",
    "FROM HumanResources.EmployeeDepartmentHistory edh\n",
    "JOIN HumanResources.Department d ON d.DepartmentID = edh.DepartmentID\n",
    "WHERE d.[Name] = 'Production'\n",
    "INTERSECT\n",
    "SELECT DISTINCT edh.BusinessEntityID\n",
    "FROM HumanResources.EmployeeDepartmentHistory edh\n",
    "JOIN HumanResources.Department d ON d.DepartmentID = edh.DepartmentID\n",
    "WHERE d.[Name] = 'Engineering';"
   ]
  },
  {
   "cell_type": "markdown",
   "id": "5bd44928-41d2-4b59-ab3b-1d4dedf4612a",
   "metadata": {},
   "source": [
    "### 5. Proposition: Customers who bought a 'Mountain-200' bike and a 'Road-550' bike\n",
    "**Functional Specification:**\n",
    " - Join `Sales.SalesOrderHeader`, `Sales.SalesOrderDetail`, and `Production.Product`, filter for names like 'Mountain-200', and select distinct `CustomerID`.\n",
    " - `INTERSECT` with the result of the second query.\n",
    " - Join `Sales.SalesOrderHeader`, `Sales.SalesOrderDetail`, and `Production.Product`, filter for names like 'Road-550', and select distinct `CustomerID`."
   ]
  },
  {
   "cell_type": "code",
   "execution_count": null,
   "id": "e85530be-9c3d-4cf0-86f1-12e6ced01a34",
   "metadata": {},
   "outputs": [],
   "source": [
    "SELECT DISTINCT soh.CustomerID\n",
    "FROM Sales.SalesOrderHeader soh\n",
    "JOIN Sales.SalesOrderDetail sod ON sod.SalesOrderID = soh.SalesOrderID\n",
    "JOIN Production.Product      p  ON p.ProductID      = sod.ProductID\n",
    "WHERE p.[Name] LIKE '%Mountain-200%'\n",
    "INTERSECT\n",
    "SELECT DISTINCT soh.CustomerID\n",
    "FROM Sales.SalesOrderHeader soh\n",
    "JOIN Sales.SalesOrderDetail sod ON sod.SalesOrderID = soh.SalesOrderID\n",
    "JOIN Production.Product      p  ON p.ProductID      = sod.ProductID\n",
    "WHERE p.[Name] LIKE '%Road-550%';"
   ]
  },
  {
   "cell_type": "markdown",
   "id": "cebd49d4-986a-40a4-a34f-784fd6694ffa",
   "metadata": {},
   "source": [
    "### 6. Proposition: Products supplied by both 'Superior Bicycles' and 'International Trekking'\n",
    "**Functional Specification:**\n",
    " - Join `Purchasing.ProductVendor` with `Purchasing.Vendor`, filter for 'Superior Bicycles', and select distinct `ProductID`.\n",
    " - `INTERSECT` with the result of the second query.\n",
    " - Join `Purchasing.ProductVendor` with `Purchasing.Vendor`, filter for 'International Trekking', and select distinct `ProductID`."
   ]
  },
  {
   "cell_type": "code",
   "execution_count": null,
   "id": "f224c5a2-861e-4b01-8573-e90d77ff0a14",
   "metadata": {},
   "outputs": [],
   "source": [
    "SELECT DISTINCT pv.ProductID\n",
    "FROM Purchasing.ProductVendor pv\n",
    "JOIN Purchasing.Vendor v ON v.BusinessEntityID = pv.BusinessEntityID\n",
    "WHERE v.[Name] = 'Superior Bicycles'\n",
    "INTERSECT\n",
    "SELECT DISTINCT pv.ProductID\n",
    "FROM Purchasing.ProductVendor pv\n",
    "JOIN Purchasing.Vendor v ON v.BusinessEntityID = pv.BusinessEntityID\n",
    "WHERE v.[Name] = 'International Trekking';"
   ]
  },
  {
   "cell_type": "markdown",
   "id": "ebfcfdca-5e51-4a95-b5e7-58a30f18b2ac",
   "metadata": {},
   "source": [
    "### 7. Proposition: Dates on which both online and in-store sales occurred\n",
    "**Functional Specification:**\n",
    " - Select distinct `OrderDate` from `Sales.SalesOrderHeader` for online orders (`OnlineOrderFlag = 1`).\n",
    " - `INTERSECT` with the result of the second query.\n",
    " - Select distinct `OrderDate` from `Sales.SalesOrderHeader` for in-store orders (`OnlineOrderFlag = 0`)."
   ]
  },
  {
   "cell_type": "code",
   "execution_count": null,
   "id": "225fe01a-4def-4096-a125-234e1063ea15",
   "metadata": {},
   "outputs": [],
   "source": [
    "SELECT DISTINCT CAST(soh.OrderDate AS date) AS OrderDate\n",
    "FROM Sales.SalesOrderHeader soh\n",
    "WHERE soh.OnlineOrderFlag = 1\n",
    "INTERSECT\n",
    "SELECT DISTINCT CAST(soh.OrderDate AS date) AS OrderDate\n",
    "FROM Sales.SalesOrderHeader soh\n",
    "WHERE soh.OnlineOrderFlag = 0;"
   ]
  },
  {
   "cell_type": "markdown",
   "id": "ba5c5a07-7965-4e66-a1de-96390b98d689",
   "metadata": {},
   "source": [
    "### 8. Proposition: Sales orders containing both a 'Touring' bike and a 'Mountain' bike\n",
    "**Functional Specification:**\n",
    " - Join `Sales.SalesOrderDetail` with product and subcategory tables, filter for subcategory names like 'Touring', and select `SalesOrderID`.\n",
    " - `INTERSECT` with the result of the second query.\n",
    " - Join `Sales.SalesOrderDetail` with product and subcategory tables, filter for subcategory names like 'Mountain', and select `SalesOrderID`."
   ]
  },
  {
   "cell_type": "code",
   "execution_count": null,
   "id": "0fdbb2c8-2670-4ef6-bb82-e22432a03120",
   "metadata": {},
   "outputs": [],
   "source": [
    "SELECT sod.SalesOrderID\n",
    "FROM Sales.SalesOrderDetail sod\n",
    "JOIN Production.Product p ON p.ProductID = sod.ProductID\n",
    "JOIN Production.ProductSubcategory psc ON psc.ProductSubcategoryID = p.ProductSubcategoryID\n",
    "WHERE psc.[Name] LIKE '%Touring%'\n",
    "INTERSECT\n",
    "SELECT sod.SalesOrderID\n",
    "FROM Sales.SalesOrderDetail sod\n",
    "JOIN Production.Product p ON p.ProductID = sod.ProductID\n",
    "JOIN Production.ProductSubcategory psc ON psc.ProductSubcategoryID = p.ProductSubcategoryID\n",
    "WHERE psc.[Name] LIKE '%Mountain%';"
   ]
  },
  {
   "cell_type": "markdown",
   "id": "9b83f270-fae1-4067-be00-74c05d833e94",
   "metadata": {},
   "source": [
    "### 9. Proposition: Email addresses that appear for both a Customer contact and a Vendor contact\n",
    "**Functional Specification:**\n",
    " - Select `EmailAddress` for customers by joining `Person.EmailAddress` with `Sales.Customer`.\n",
    " - `INTERSECT` with the result of the second query.\n",
    " - Select `EmailAddress` for vendors by joining `Person.EmailAddress` through `Person.BusinessEntityContact` to `Purchasing.Vendor`."
   ]
  },
  {
   "cell_type": "code",
   "execution_count": null,
   "id": "9fc8393c-8918-403a-9bb1-b415c472662d",
   "metadata": {},
   "outputs": [],
   "source": [
    "SELECT ea.EmailAddress\n",
    "FROM Person.EmailAddress ea\n",
    "JOIN Sales.Customer c\n",
    "  ON c.PersonID IS NOT NULL\n",
    " AND ea.BusinessEntityID = c.PersonID\n",
    "INTERSECT\n",
    "-- Vendor contacts via BusinessEntityContact (organization <-> person)\n",
    "SELECT ea.EmailAddress\n",
    "FROM Person.EmailAddress ea\n",
    "JOIN Person.BusinessEntityContact bec\n",
    "  ON bec.PersonID = ea.BusinessEntityID\n",
    "JOIN Purchasing.Vendor v\n",
    "  ON v.BusinessEntityID = bec.BusinessEntityID;"
   ]
  },
  {
   "cell_type": "markdown",
   "id": "83ba050a-1236-482a-867c-3e9f6b132282",
   "metadata": {},
   "source": [
    "### 10. Proposition: Cities that are home to both a customer and a vendor\n",
    "**Functional Specification:**\n",
    " - Select distinct `City` for customers by joining `Person.Address` through `Person.BusinessEntityAddress` to `Sales.Customer`.\n",
    " - `INTERSECT` with the result of the second query.\n",
    " - Select distinct `City` for vendors by joining `Person.Address` through `Person.BusinessEntityAddress` to `Purchasing.Vendor`."
   ]
  },
  {
   "cell_type": "code",
   "execution_count": null,
   "id": "36b77660-6e3f-4852-b9b9-5e469306ea99",
   "metadata": {},
   "outputs": [],
   "source": [
    "SELECT DISTINCT a.City\n",
    "FROM Person.Address a\n",
    "JOIN Person.BusinessEntityAddress bea ON bea.AddressID = a.AddressID\n",
    "JOIN Sales.Customer c\n",
    "  ON (bea.BusinessEntityID = c.PersonID OR bea.BusinessEntityID = c.StoreID)\n",
    "INTERSECT\n",
    "SELECT DISTINCT a.City\n",
    "FROM Person.Address a\n",
    "JOIN Person.BusinessEntityAddress bea ON bea.AddressID = a.AddressID\n",
    "JOIN Purchasing.Vendor v ON v.BusinessEntityID = bea.BusinessEntityID;"
   ]
  }
 ],
 "metadata": {
  "kernelspec": {
   "display_name": "SQL",
   "language": "sql",
   "name": "sql"
  },
  "language_info": {
   "name": "sql"
  }
 },
 "nbformat": 4,
 "nbformat_minor": 5
}
