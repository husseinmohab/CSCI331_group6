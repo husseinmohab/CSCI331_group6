{
 "cells": [
  {
   "attachments": {},
   "cell_type": "markdown",
   "id": "8d167cdf-2420-4653-8f22-2dc7fefc2f6a",
   "metadata": {},
   "source": [
    "## 1. Products sold online but never sold in stores\n",
    "#### Functional Specification\n",
    "* Use the Sales.SalesOrderHeader and Sales.SalesOrderDetail tables\n",
    "* In the first query, select all ProductIDs from online orders (OnlineOrderFlag = 1).\n",
    "* In the second query, select all ProductIDs from store (in-person) orders (OnlineOrderFlag = 0).\n",
    "* Use the EXCEPT operator to return only those products that appear in online sales but not in store sales.\n",
    "* DISTINCT ensures each product appears only once."
   ]
  },
  {
   "cell_type": "code",
   "execution_count": null,
   "id": "c49af231-1af9-4c16-a310-c75e007c57e0",
   "metadata": {},
   "outputs": [],
   "source": [
    "USE AdventureWorks2022;\n",
    "\n",
    "SELECT DISTINCT ProductID\n",
    "FROM Sales.SalesOrderHeader AS h\n",
    "JOIN Sales.SalesOrderDetail AS d ON h.SalesOrderID = d.SalesOrderID\n",
    "WHERE h.OnlineOrderFlag = 1\n",
    "EXCEPT\n",
    "SELECT DISTINCT ProductID\n",
    "FROM Sales.SalesOrderHeader AS h\n",
    "JOIN Sales.SalesOrderDetail AS d ON h.SalesOrderID = d.SalesOrderID\n",
    "WHERE h.OnlineOrderFlag = 0;"
   ]
  },
  {
   "cell_type": "markdown",
   "id": "c93feb1d-0302-4a2e-8f8f-8b8a76697e00",
   "metadata": {},
   "source": [
    "## 2. Customers who purchased in 2023 but not 2024\n",
    "#### Functional Specification\n",
    "* Retrieve all unique CustomerIDs from Sales.SalesOrderHeader where the order year is 2023.\n",
    "* Retrieve all unique CustomerIDs where the order year is 2024.\n",
    "* Use the EXCEPT operator to find customers who placed orders in 2023 but did not place any in 2024.\n",
    "* This identifies customers who became inactive after 2023."
   ]
  },
  {
   "cell_type": "code",
   "execution_count": null,
   "id": "0cf613b4-1065-4dbf-8927-0f205a87f181",
   "metadata": {},
   "outputs": [],
   "source": [
    "USE AdventureWorks2022;\n",
    "\n",
    "SELECT DISTINCT CustomerID\n",
    "FROM Sales.SalesOrderHeader\n",
    "WHERE YEAR(OrderDate) = 2023\n",
    "EXCEPT\n",
    "SELECT DISTINCT CustomerID\n",
    "FROM Sales.SalesOrderHeader\n",
    "WHERE YEAR(OrderDate) = 2024;"
   ]
  },
  {
   "cell_type": "markdown",
   "id": "00176e19-f56b-4bfa-8b3e-afdb894d7b3a",
   "metadata": {},
   "source": [
    "## 3. Employees who have changed departments\n",
    "#### Functional Specification\n",
    "* Query the HumanResources.EmployeeDepartmentHistory table.\n",
    "* Group the records by BusinessEntityID to aggregate department history per employee.\n",
    "* Use HAVING COUNT(DISTINCT DepartmentID) > 1 to find employees associated with more than one department.\n",
    "* The result lists employees who have transferred between departments."
   ]
  },
  {
   "cell_type": "code",
   "execution_count": null,
   "id": "a99dab16-1469-4ca3-93db-cab1f43b009d",
   "metadata": {},
   "outputs": [],
   "source": [
    "USE AdventureWorks2022;\n",
    "\n",
    "SELECT BusinessEntityID\n",
    "FROM HumanResources.EmployeeDepartmentHistory\n",
    "GROUP BY BusinessEntityID\n",
    "HAVING COUNT(DISTINCT DepartmentID) > 1;"
   ]
  },
  {
   "cell_type": "markdown",
   "id": "59d2f18e-c846-4fbd-8784-89d532d3f2a8",
   "metadata": {},
   "source": [
    "## 4. Top 10 products sold online + Top 10 sold in stores\n",
    "#### Functional Specification\n",
    "* Perform two separate aggregations of sales totals (SUM(LineTotal)) from the joined tables Sales.SalesOrderHeader and Sales.SalesOrderDetail.\n",
    "* In the first query, filter where OnlineOrderFlag = 1 (online sales) and select the top 10 based on total sales.\n",
    "* In the second query, filter where OnlineOrderFlag = 0 (in-store sales) and select the top 10.\n",
    "* Use the UNION operator to combine both lists into one result set of top-performing products across both sales channels.\n"
   ]
  },
  {
   "cell_type": "code",
   "execution_count": null,
   "id": "b4222029-c0dd-4115-b123-7c74c23214a4",
   "metadata": {},
   "outputs": [],
   "source": [
    "USE AdventureWorks2022;\n",
    "\n",
    "SELECT TOP 10 d.ProductID, SUM(d.LineTotal) AS TotalSales\n",
    "FROM Sales.SalesOrderHeader AS h\n",
    "JOIN Sales.SalesOrderDetail AS d ON h.SalesOrderID = d.SalesOrderID\n",
    "WHERE h.OnlineOrderFlag = 1\n",
    "GROUP BY d.ProductID\n",
    "UNION\n",
    "SELECT TOP 10 d.ProductID, SUM(d.LineTotal) AS TotalSales\n",
    "FROM Sales.SalesOrderHeader AS h\n",
    "JOIN Sales.SalesOrderDetail AS d ON h.SalesOrderID = d.SalesOrderID\n",
    "WHERE h.OnlineOrderFlag = 0\n",
    "GROUP BY d.ProductID;\n"
   ]
  },
  {
   "cell_type": "markdown",
   "id": "3dc5ba41-5cad-4039-889a-cf884b808757",
   "metadata": {},
   "source": [
    "## 5. Customers living in either California or New York\n",
    "#### Functional Specification\n",
    "* Join the Sales.Customer, Person.Address, and Person.StateProvince tables to retrieve each customer’s city and state.\n",
    "* In the first query, filter for customers located in California.\n",
    "* In the second query, filter for those located in New York.\n",
    "* Use UNION to merge both sets while automatically removing duplicates.\n",
    "* The result lists all customers who reside in either of the two states.\n"
   ]
  },
  {
   "cell_type": "code",
   "execution_count": null,
   "id": "aa6bd850-3efa-4912-b6d0-99ab37162a15",
   "metadata": {},
   "outputs": [],
   "source": [
    "USE AdventureWorks2022;\n",
    "\n",
    "SELECT DISTINCT c.CustomerID, a.City, sp.Name AS State\n",
    "FROM Sales.Customer AS c\n",
    "JOIN Person.Address AS a ON c.CustomerID = a.AddressID\n",
    "JOIN Person.StateProvince AS sp ON a.StateProvinceID = sp.StateProvinceID\n",
    "WHERE sp.Name = 'California'\n",
    "UNION\n",
    "SELECT DISTINCT c.CustomerID, a.City, sp.Name AS State\n",
    "FROM Sales.Customer AS c\n",
    "JOIN Person.Address AS a ON c.CustomerID = a.AddressID\n",
    "JOIN Person.StateProvince AS sp ON a.StateProvinceID = sp.StateProvinceID\n",
    "WHERE sp.Name = 'New York';"
   ]
  },
  {
   "cell_type": "markdown",
   "id": "c9f6c937-3619-4b19-8898-b37461cad44c",
   "metadata": {},
   "source": [
    "## 6. Products common to two promotions\n",
    "#### Functional Specification\n",
    "* Query the Sales.SpecialOfferProduct table twice:\n",
    "    * Once to select all ProductIDs under SpecialOfferID = 1.\n",
    "    * Again to select all ProductIDs under SpecialOfferID = 2.\n",
    "* Use INTERSECT to find products that appear in both promotions.\n",
    "* This identifies overlapping promotional items.\n"
   ]
  },
  {
   "cell_type": "code",
   "execution_count": null,
   "id": "f97f50b3-63ef-4ac9-b167-57e4a7208a5c",
   "metadata": {},
   "outputs": [],
   "source": [
    "USE AdventureWorks2022;\n",
    "\n",
    "SELECT ProductID\n",
    "FROM Sales.SpecialOfferProduct\n",
    "WHERE SpecialOfferID = 1\n",
    "INTERSECT\n",
    "SELECT ProductID\n",
    "FROM Sales.SpecialOfferProduct\n",
    "WHERE SpecialOfferID = 2;"
   ]
  },
  {
   "cell_type": "markdown",
   "id": "723d3110-0b54-40b7-a9fe-952148ce75c7",
   "metadata": {},
   "source": [
    "## 7. Customers with open orders and customers with past-due invoices\n",
    "#### Functional Specification\n",
    "* Use the Sales.SalesOrderHeader table to identify two customer groups:\n",
    "    * Those with open orders (Status = 1).\n",
    "    * Those with past-due or complete orders (Status = 5).\n",
    "* Combine both customer lists using UNION to include all unique customers who currently have active or past-due transactions.\n",
    "* This helps monitor customers with ongoing or unsettled orders\n"
   ]
  },
  {
   "cell_type": "code",
   "execution_count": null,
   "id": "079ef0c3-1a29-403e-af69-ebce0cb1686d",
   "metadata": {},
   "outputs": [],
   "source": [
    "USE AdventureWorks2022;\n",
    "\n",
    "SELECT DISTINCT CustomerID\n",
    "FROM Sales.SalesOrderHeader\n",
    "WHERE Status = 1   \n",
    "UNION\n",
    "SELECT DISTINCT CustomerID\n",
    "FROM Sales.SalesOrderHeader\n",
    "WHERE Status = 5; "
   ]
  },
  {
   "cell_type": "markdown",
   "id": "da8b58c1-fa9b-4d52-bd21-f0ed8205a63d",
   "metadata": {},
   "source": [
    "## "
   ]
  },
  {
   "cell_type": "markdown",
   "id": "050e8d52-4630-44be-bafc-0c096fd527bd",
   "metadata": {},
   "source": [
    "## 8. Suppliers that sell both high-priced and low-priced products\n",
    "#### Functional Specification\n",
    "* Query Purchasing.ProductVendor joined with Production.Product to access suppliers and their products’ prices.\n",
    "* In one subquery, select suppliers selling items priced above $50.\n",
    "* In another, select suppliers selling items priced below $200.\n",
    "* Use INTERSECT to find suppliers appearing in both sets.\n",
    "* The result identifies vendors that offer both premium and budget product ranges."
   ]
  },
  {
   "cell_type": "code",
   "execution_count": null,
   "id": "49eba687-4d2e-41e2-a45b-b1bc6f6a0616",
   "metadata": {},
   "outputs": [],
   "source": [
    "USE AdventureWorks2022;\n",
    "\n",
    "SELECT v.BusinessEntityID, v.Name\n",
    "FROM Purchasing.Vendor AS v\n",
    "WHERE v.BusinessEntityID IN (\n",
    "    SELECT DISTINCT pv.BusinessEntityID\n",
    "    FROM Purchasing.ProductVendor AS pv\n",
    "    JOIN Production.Product AS p ON pv.ProductID = p.ProductID\n",
    "    WHERE p.ListPrice > 50\n",
    "    INTERSECT\n",
    "    SELECT DISTINCT pv.BusinessEntityID\n",
    "    FROM Purchasing.ProductVendor AS pv\n",
    "    JOIN Production.Product AS p ON pv.ProductID = p.ProductID\n",
    "    WHERE p.ListPrice < 200\n",
    ");\n"
   ]
  },
  {
   "cell_type": "markdown",
   "id": "429c0815-ffde-4343-9bfc-a5ab0e0cb8c5",
   "metadata": {},
   "source": [
    "## 9. Distinct job titles across current and past employee records\n",
    "#### Functional Specification\n",
    "* Join HumanResources.Employee with HumanResources.EmployeeDepartmentHistory on BusinessEntityID.\n",
    "* Select distinct JobTitles to avoid duplicates.\n",
    "* This retrieves all unique job roles associated with employees who appear in the department history table.\n",
    "* It’s useful for identifying all active and historical job titles in the organization.\n"
   ]
  },
  {
   "cell_type": "code",
   "execution_count": null,
   "id": "116150cb-a47b-4af9-9ea0-21ad0c88eae3",
   "metadata": {},
   "outputs": [],
   "source": [
    "USE AdventureWorks2022;\n",
    "\n",
    "SELECT DISTINCT e.JobTitle\n",
    "FROM HumanResources.Employee AS e\n",
    "JOIN HumanResources.EmployeeDepartmentHistory AS edh\n",
    "    ON e.BusinessEntityID = edh.BusinessEntityID;"
   ]
  },
  {
   "cell_type": "markdown",
   "id": "16a9c94d-4031-4232-bfd8-fc100c11a369",
   "metadata": {},
   "source": [
    "## 10. All distinct people appearing as customers, employees, or vendors\n",
    "#### Functional Specification\n",
    "* Select identifiers from three different tables, tagging each record with its role:\n",
    "    * From HumanResources.Employee (as 'Employee')\n",
    "    * From Sales.Customer (as 'Customer')\n",
    "    * From Purchasing.Vendor (as 'Vendor')\n",
    "* Combine all three sets using UNION to create a single, deduplicated list of all business entities.\n",
    "* This shows every individual or organization participating in any capacity within the company ecosystem.\n"
   ]
  },
  {
   "cell_type": "code",
   "execution_count": null,
   "id": "0962ec75-bf3f-4795-bfa6-ff9628b481a8",
   "metadata": {},
   "outputs": [],
   "source": [
    "USE AdventureWorks2022;\n",
    "\n",
    "SELECT BusinessEntityID, 'Employee' AS Role\n",
    "FROM HumanResources.Employee\n",
    "UNION\n",
    "SELECT PersonID, 'Customer' AS Role\n",
    "FROM Sales.Customer\n",
    "UNION\n",
    "SELECT BusinessEntityID, 'Vendor' AS Role\n",
    "FROM Purchasing.Vendor;"
   ]
  }
 ],
 "metadata": {
  "kernelspec": {
   "display_name": "Python [conda env:base] *",
   "language": "python",
   "name": "conda-base-py"
  },
  "language_info": {
   "codemirror_mode": {
    "name": "ipython",
    "version": 3
   },
   "file_extension": ".py",
   "mimetype": "text/x-python",
   "name": "python",
   "nbconvert_exporter": "python",
   "pygments_lexer": "ipython3",
   "version": "3.12.7"
  }
 },
 "nbformat": 4,
 "nbformat_minor": 5
}
