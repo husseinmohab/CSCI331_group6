{
 "cells": [
  {
   "cell_type": "markdown",
   "metadata": {},
   "source": [
    "### Proposition 1: List of Products that costs more than the average"
   ]
  },
  {
   "cell_type": "markdown",
   "metadata": {},
   "source": [
    "**Functional Specification**\n",
    "* Use a scalar subquery to calculate the average `UnitPrice` from the `Warehouse.StockItems` table.\n",
    "* Select the `StockItemID`, `StockItemName`, and `UnitPrice` from the `Warehouse.StockItems` table.\n",
    "* Filter the results in the `WHERE` clause to only include products whose `UnitPrice` is greater than the calculated average.\n",
    "* Limit the output to the `TOP 7` results."
   ]
  },
  {
   "cell_type": "code",
   "execution_count": null,
   "metadata": {},
   "outputs": [],
   "source": [
    "USE WideWorldImporters;\n",
    "SELECT TOP 7 StockItemID,\n",
    "       StockItemName,\n",
    "       UnitPrice\n",
    "FROM Warehouse.StockItems\n",
    "WHERE UnitPrice > (\n",
    "      SELECT AVG(UnitPrice)\n",
    "      FROM Warehouse.StockItems\n",
    ");\n",
    "-- Shows products whose UnitPrice is greater than the average."
   ]
  },
  {
   "cell_type": "markdown",
   "metadata": {},
   "source": [
    "### Proposition 2: Most recent 5 orders between 2015–2016"
   ]
  },
  {
   "cell_type": "markdown",
   "metadata": {},
   "source": [
    "**Functional Specification**\n",
    "* Create a derived table aliased as 'o'.\n",
    "* Inside the derived table, select `OrderID`, `CustomerID`, and `OrderDate` from the `Sales.Orders` table.\n",
    "* Filter the records within the derived table to include only orders placed between January 1, 2015, and December 31, 2016.\n",
    "* Select the specified columns from the derived table.\n",
    "* Order the final results by `OrderDate` in descending order to show the newest orders first.\n",
    "* Limit the output to the `TOP 5` most recent orders."
   ]
  },
  {
   "cell_type": "code",
   "execution_count": null,
   "metadata": {},
   "outputs": [],
   "source": [
    "USE WideWorldImporters;\n",
    "SELECT TOP 5 o.OrderID,\n",
    "       o.CustomerID,\n",
    "       o.OrderDate\n",
    "FROM (\n",
    "      SELECT OrderID, CustomerID, OrderDate\n",
    "      FROM Sales.Orders\n",
    "      WHERE OrderDate BETWEEN '2015-01-01' AND '2016-12-31'\n",
    "     ) AS o\n",
    "ORDER BY o.OrderDate DESC;\n",
    "-- Retrieves the newest 5 orders placed in 2015–2016."
   ]
  },
  {
   "cell_type": "markdown",
   "metadata": {},
   "source": [
    "### Proposition 3: Products starting with 'A' (first 7 by StockItemID)"
   ]
  },
  {
   "cell_type": "markdown",
   "metadata": {},
   "source": [
    "**Functional Specification**\n",
    "* Select `StockItemID`, `StockItemName`, and `SupplierID` from the `Warehouse.StockItems` table (aliased as 's').\n",
    "* Use a correlated scalar subquery in the `SELECT` list to count the total number of items from the same supplier (`s2.SupplierID = s.SupplierID`) whose names also start with 'A'.\n",
    "* Filter the main query in the `WHERE` clause to only include products whose `StockItemName` starts with the letter 'A'.\n",
    "* Order the results by `StockItemID` in ascending order.\n",
    "* Limit the output to the `TOP 7` results."
   ]
  },
  {
   "cell_type": "code",
   "execution_count": null,
   "metadata": {},
   "outputs": [],
   "source": [
    "USE WideWorldImporters;\n",
    "SELECT TOP 7\n",
    "       s.StockItemID,\n",
    "       s.StockItemName,\n",
    "       s.SupplierID,\n",
    "       (\n",
    "          SELECT COUNT(*)\n",
    "          FROM Warehouse.StockItems AS s2\n",
    "          WHERE s2.SupplierID = s.SupplierID\n",
    "            AND s2.StockItemName LIKE 'A%'\n",
    "       ) AS ItemsStartingWithA_BySameSupplier\n",
    "FROM Warehouse.StockItems AS s\n",
    "WHERE s.StockItemName LIKE 'A%'\n",
    "ORDER BY s.StockItemID ASC;\n",
    "-- Filters products whose names start with 'A'"
   ]
  },
  {
   "cell_type": "markdown",
   "metadata": {},
   "source": [
    "### Proposition 4: Return all products whose unit price is greater than at least one product’s unit price from Stock Group 3."
   ]
  },
  {
   "cell_type": "markdown",
   "metadata": {},
   "source": [
    "**Functional Specification**\n",
    "* Use a subquery with the `ANY` predicate to generate a list of unit prices.\n",
    "* Inside the subquery, join `Warehouse.StockItems` and `Warehouse.StockItemStockGroups` to filter for products where the `StockGroupID` is 3.\n",
    "* The outer query selects `StockItemID`, `StockItemName`, and `UnitPrice` from `Warehouse.StockItems`.\n",
    "* Filter the results in the `WHERE` clause to include any product whose `UnitPrice` is greater than at least one of the prices from the subquery's list.\n",
    "* Limit the output to the `TOP 8` results."
   ]
  },
  {
   "cell_type": "code",
   "execution_count": null,
   "metadata": {},
   "outputs": [],
   "source": [
    "USE WideWorldImporters;\n",
    "SELECT TOP 8 si.StockItemID AS ProductID,\n",
    "       si.StockItemName AS ProductName,\n",
    "       si.UnitPrice\n",
    "FROM Warehouse.StockItems AS si\n",
    "WHERE si.UnitPrice > ANY (\n",
    "    SELECT si2.UnitPrice\n",
    "    FROM Warehouse.StockItems AS si2\n",
    "    INNER JOIN Warehouse.StockItemStockGroups AS ssg\n",
    "        ON si2.StockItemID = ssg.StockItemID\n",
    "    WHERE ssg.StockGroupID = 3\n",
    ");"
   ]
  },
  {
   "cell_type": "markdown",
   "metadata": {},
   "source": [
    "### Proposition 5: Most recent order date for each customer"
   ]
  },
  {
   "cell_type": "markdown",
   "metadata": {},
   "source": [
    "**Functional Specification**\n",
    "* Select `CustomerID` and `CustomerName` from the `Sales.Customers` table (aliased as 'C').\n",
    "* Use a correlated scalar subquery in the `SELECT` list to find the latest order date for each customer.\n",
    "* The subquery calculates the `MAX(OrderDate)` from the `Sales.Orders` table for the corresponding `CustomerID` from the outer query (`O.CustomerID = C.CustomerID`).\n",
    "* Limit the output to the `TOP 7` customers."
   ]
  },
  {
   "cell_type": "code",
   "execution_count": null,
   "metadata": {},
   "outputs": [],
   "source": [
    "USE WideWorldImporters;\n",
    "SELECT TOP 7 C.CustomerID, C.CustomerName,\n",
    "       (SELECT MAX(O.OrderDate)\n",
    "        FROM Sales.Orders AS O\n",
    "        WHERE O.CustomerID = C.CustomerID) AS LatestOrderDate\n",
    "FROM Sales.Customers AS C;\n",
    "/*For each customer, this query finds the most recent (latest) order date \n",
    "  by using a subquery that looks up the maximum OrderDate in the Orders table.*/"
   ]
  },
  {
   "cell_type": "markdown",
   "metadata": {},
   "source": [
    "### Proposition 6: Top 7 selling products by total quantity sold"
   ]
  },
  {
   "cell_type": "markdown",
   "metadata": {},
   "source": [
    "**Functional Specification**\n",
    "* Create a derived table aliased as 'dt' to pre-calculate sales totals.\n",
    "* Inside the derived table, group the `Sales.OrderLines` table by `StockItemID` and use `SUM(Quantity)` to find the total quantity sold for each item.\n",
    "* Join the derived table to the `Warehouse.StockItems` table on `StockItemID` to retrieve the `StockItemName`.\n",
    "* Order the final results by the `TotalSold` in descending order to rank products from most to least sold.\n",
    "* Limit the output to the `TOP 7` selling products."
   ]
  },
  {
   "cell_type": "code",
   "execution_count": null,
   "metadata": {},
   "outputs": [],
   "source": [
    "USE WideWorldImporters;\n",
    "SELECT TOP 7\n",
    "       dt.StockItemID,\n",
    "       si.StockItemName,\n",
    "       dt.TotalSold\n",
    "FROM (\n",
    "        -- Derived table: compute total sold quantity per product\n",
    "        SELECT ol.StockItemID,\n",
    "               SUM(ol.Quantity) AS TotalSold\n",
    "        FROM Sales.OrderLines AS ol\n",
    "        GROUP BY ol.StockItemID\n",
    "     ) AS dt\n",
    "JOIN Warehouse.StockItems AS si\n",
    "     ON dt.StockItemID = si.StockItemID\n",
    "ORDER BY dt.TotalSold DESC;\n",
    "-- Finds the top 7 most sold products based on total quantity ordered."
   ]
  },
  {
   "cell_type": "markdown",
   "metadata": {},
   "source": [
    "### Proposition 7: 5 most recent orders"
   ]
  },
  {
   "cell_type": "markdown",
   "metadata": {},
   "source": [
    "**Functional Specification**\n",
    "* Create a Common Table Expression (CTE) named `OrderedCTE`.\n",
    "* Inside the CTE, select order details from the `Sales.Orders` table.\n",
    "* Use the `ROW_NUMBER()` window function ordered by `OrderDate` descending to assign a sequential rank to each order, starting with 1 for the most recent.\n",
    "* Select `OrderID`, `CustomerID`, and `OrderDate` from the CTE.\n",
    "* Filter the results in the `WHERE` clause to keep only rows where the rank (`RowNum`) is less than or equal to 5.\n",
    "* Order the final result by `OrderDate` descending."
   ]
  },
  {
   "cell_type": "code",
   "execution_count": null,
   "metadata": {},
   "outputs": [],
   "source": [
    "USE WideWorldImporters;\n",
    "-- 5 most recent orders using a Common Table Expression\n",
    "WITH OrderedCTE AS (\n",
    "    SELECT \n",
    "        OrderID,\n",
    "        CustomerID,\n",
    "        OrderDate,\n",
    "        ROW_NUMBER() OVER (ORDER BY OrderDate DESC) AS RowNum\n",
    "    FROM Sales.Orders\n",
    ")\n",
    "SELECT \n",
    "    OrderID,\n",
    "    CustomerID,\n",
    "    OrderDate\n",
    "FROM OrderedCTE\n",
    "WHERE RowNum <= 5\n",
    "ORDER BY OrderDate DESC;\n",
    "-- Returns the latest 5 orders from the system."
   ]
  },
  {
   "cell_type": "markdown",
   "metadata": {},
   "source": [
    "### Proposition 8: Total order amount per customer (top 5)"
   ]
  },
  {
   "cell_type": "markdown",
   "metadata": {},
   "source": [
    "**Functional Specification**\n",
    "* Declare an integer variable `@TopN` and set its value to 5.\n",
    "* Call the table-valued function `Sales.fn_TopCustomerTotals`, passing the `@TopN` variable as a parameter. This function is assumed to return the top N customers based on their total spending.\n",
    "* Join the results of the function (aliased as 't') with the `Sales.Customers` table on `CustomerID` to retrieve customer names.\n",
    "* Order the final result by `TotalAmount` in descending order to show the highest spenders first."
   ]
  },
  {
   "cell_type": "code",
   "execution_count": null,
   "metadata": {},
   "outputs": [],
   "source": [
    "USE WideWorldImporters;\n",
    "-- 🔹 Change this value to return different counts (e.g., 5, 10, 20)\n",
    "DECLARE @TopN INT = 5;\n",
    "\n",
    "-- 🔹 Call the function and join to get customer names\n",
    "SELECT \n",
    "    c.CustomerID,\n",
    "    c.CustomerName,\n",
    "    t.TotalAmount\n",
    "FROM Sales.fn_TopCustomerTotals(@TopN) AS t\n",
    "JOIN Sales.Customers AS c\n",
    "     ON c.CustomerID = t.CustomerID\n",
    "ORDER BY t.TotalAmount DESC;\n",
    "-- Calculates which customers spent the most money in total."
   ]
  },
  {
   "cell_type": "markdown",
   "metadata": {},
   "source": [
    "### Proposition 9: Customers spending more than $50,000"
   ]
  },
  {
   "cell_type": "markdown",
   "metadata": {},
   "source": [
    "**Functional Specification**\n",
    "* Create a CTE named `CustomerTotals`.\n",
    "* Inside the CTE, join `Sales.Orders` and `Sales.OrderLines`.\n",
    "* Group the results by `CustomerID` to calculate the `SUM` of `Quantity * UnitPrice` (as `TotalSpent`) and the `MAX(OrderDate)` (as `MostRecentOrder`) for each customer.\n",
    "* Join the `CustomerTotals` CTE with the `Sales.Customers` table to get customer names.\n",
    "* Filter the results in the `WHERE` clause to only include customers where `TotalSpent` is greater than 50,000.\n",
    "* Order the results by `MostRecentOrder` in descending order.\n",
    "* Limit the output to the `TOP 7` results."
   ]
  },
  {
   "cell_type": "code",
   "execution_count": null,
   "metadata": {},
   "outputs": [],
   "source": [
    "USE WideWorldImporters;\n",
    "-- Using Common Table Expression (CTE)\n",
    "WITH CustomerTotals AS (\n",
    "    SELECT \n",
    "        o.CustomerID,\n",
    "        SUM(ol.Quantity * ol.UnitPrice) AS TotalSpent,\n",
    "        MAX(o.OrderDate) AS MostRecentOrder\n",
    "    FROM Sales.Orders AS o\n",
    "    JOIN Sales.OrderLines AS ol \n",
    "         ON o.OrderID = ol.OrderID\n",
    "    GROUP BY o.CustomerID\n",
    ")\n",
    "SELECT TOP 7\n",
    "       c.CustomerID,\n",
    "       c.CustomerName,\n",
    "       ct.TotalSpent,\n",
    "       ct.MostRecentOrder\n",
    "FROM CustomerTotals AS ct\n",
    "JOIN Sales.Customers AS c\n",
    "     ON c.CustomerID = ct.CustomerID\n",
    "WHERE ct.TotalSpent > 50000\n",
    "ORDER BY ct.MostRecentOrder DESC;\n",
    "-- Filters customers who spent over $50k and shows their last order date."
   ]
  },
  {
   "cell_type": "markdown",
   "metadata": {},
   "source": [
    "### Proposition 10: Categorize products by price"
   ]
  },
  {
   "cell_type": "markdown",
   "metadata": {},
   "source": [
    "**Functional Specification**\n",
    "* Create a CTE named `ProductCategories`.\n",
    "* Inside the CTE, select product information from the `Warehouse.StockItems` table.\n",
    "* Filter the records to only include a specific list of `StockItemID`s (1, 3, 8, 177, 206).\n",
    "* Use a `CASE` expression to create a new column `PriceCategory` based on the `UnitPrice`: 'Cheap' (< 10), 'Moderate' (10-100), or 'Expensive' (> 100).\n",
    "* The final query selects all columns from the CTE.\n",
    "* Order the results by `StockItemID`."
   ]
  },
  {
   "cell_type": "code",
   "execution_count": null,
   "metadata": {},
   "outputs": [],
   "source": [
    "USE WideWorldImporters;\n",
    "-- Using Common Table Expression (CTE)\n",
    "WITH ProductCategories AS\n",
    "(\n",
    "    SELECT \n",
    "        StockItemID,\n",
    "        StockItemName,\n",
    "        UnitPrice,\n",
    "        CASE \n",
    "            WHEN UnitPrice < 10 THEN 'Cheap'\n",
    "            WHEN UnitPrice BETWEEN 10 AND 100 THEN 'Moderate'\n",
    "            ELSE 'Expensive'\n",
    "        END AS PriceCategory\n",
    "    FROM Warehouse.StockItems\n",
    "    WHERE StockItemID IN (1, 3, 8, 177, 206)  -- pick specific products\n",
    ")\n",
    "SELECT \n",
    "    StockItemID,\n",
    "    StockItemName,\n",
    "    UnitPrice,\n",
    "    PriceCategory\n",
    "FROM ProductCategories\n",
    "ORDER BY StockItemID;\n",
    "-- Groups products as Cheap, Moderate, or Expensive using CASE."
   ]
  }
 ],
 "metadata": {
  "kernelspec": {
   "display_name": "SQL",
   "language": "sql",
   "name": "sql"
  },
  "language_info": {
   "name": "sql"
  }
 },
 "nbformat": 4,
 "nbformat_minor": 4
}
