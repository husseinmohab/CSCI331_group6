{
 "cells": [
  {
   "cell_type": "markdown",
   "metadata": {},
   "source": [
    "### Chapter 4: Subqueries"
   ]
  },
  {
   "cell_type": "markdown",
   "metadata": {},
   "source": [
    "**1. Identify legacy customers whose initial order date is older than the average initial order date across the customer base.**"
   ]
  },
  {
   "cell_type": "markdown",
   "metadata": {},
   "source": [
    "**Functional Specification**\n",
    "* Join Sales.Customers (c) to Sales.Orders (o).\n",
    "* Find the first order date for each customer using MIN(o.OrderDate) and GROUP BY.\n",
    "* Use a nested subquery to calculate the average of all first order dates.\n",
    "* Filter the results in the HAVING clause to keep only customers whose first order date is earlier than the calculated average."
   ]
  },
  {
   "cell_type": "code",
   "execution_count": null,
   "metadata": {},
   "outputs": [],
   "source": [
    "SELECT\n",
    "    c.CustomerID,\n",
    "    c.CustomerName,\n",
    "    MIN(o.OrderDate) AS FirstOrderDate\n",
    "FROM\n",
    "    Sales.Customers AS c\n",
    "JOIN\n",
    "    Sales.Orders AS o ON c.CustomerID = o.CustomerID\n",
    "GROUP BY\n",
    "    c.CustomerID, c.CustomerName\n",
    "HAVING\n",
    "    CAST(CAST(MIN(o.OrderDate) AS DATETIME) AS FLOAT) < (\n",
    "        SELECT AVG(CAST(CAST(FirstOrderDates.FirstDate AS DATETIME) AS float))\n",
    "        FROM (\n",
    "            SELECT MIN(OrderDate) AS FirstDate\n",
    "            FROM Sales.Orders\n",
    "            GROUP BY CustomerID\n",
    "        ) AS FirstOrderDates\n",
    "    );"
   ]
  },
  {
   "cell_type": "markdown",
   "metadata": {},
   "source": [
    "**2. Perform a market analysis to identify products frequently purchased along with the 'USB missile launcher (Update)'.**"
   ]
  },
  {
   "cell_type": "markdown",
   "metadata": {},
   "source": [
    "**Functional Specification**\n",
    "* Use a subquery to find the StockItemID for 'USB missile launcher (Update)'.\n",
    "* Use another subquery with the IN predicate to get all OrderIDs that contain this item.\n",
    "* Select all distinct StockItemName from those orders.\n",
    "* Exclude the 'USB missile launcher (Update)' itself from the final results."
   ]
  },
  {
   "cell_type": "code",
   "execution_count": null,
   "metadata": {},
   "outputs": [],
   "source": [
    "SELECT DISTINCT\n",
    "    si.StockItemName\n",
    "FROM\n",
    "    Sales.OrderLines AS ol\n",
    "JOIN\n",
    "    Warehouse.StockItems AS si ON ol.StockItemID = si.StockItemID\n",
    "WHERE\n",
    "    ol.OrderID IN (\n",
    "        SELECT OrderID\n",
    "        FROM Sales.OrderLines\n",
    "        WHERE StockItemID = (\n",
    "            SELECT StockItemID FROM Warehouse.StockItems WHERE StockItemName = N'USB missile launcher (Update)'\n",
    "        )\n",
    "    )\n",
    "    AND si.StockItemName <> N'USB missile launcher (Update)';"
   ]
  },
  {
   "cell_type": "markdown",
   "metadata": {},
   "source": [
    "**3. Identify salespeople who have successfully sold to every existing customer category.**"
   ]
  },
  {
   "cell_type": "markdown",
   "metadata": {},
   "source": [
    "**Functional Specification**\n",
    "* Join People to Orders and Customers to link salespeople to customer categories.\n",
    "* Group the results by salesperson (p.FullName).\n",
    "* Use a subquery in the HAVING clause to get the total count of all customer categories.\n",
    "* Compare the count of distinct categories for each salesperson to the total count; only return those who match."
   ]
  },
  {
   "cell_type": "code",
   "execution_count": null,
   "metadata": {},
   "outputs": [],
   "source": [
    "SELECT\n",
    "    p.FullName AS Salesperson\n",
    "FROM\n",
    "    Application.People AS p\n",
    "JOIN\n",
    "    Sales.Orders AS o ON p.PersonID = o.SalespersonPersonID\n",
    "JOIN\n",
    "    Sales.Customers AS c ON o.CustomerID = c.CustomerID\n",
    "GROUP BY\n",
    "    p.FullName\n",
    "HAVING\n",
    "    COUNT(DISTINCT c.CustomerCategoryID) = (SELECT COUNT(*) FROM Sales.CustomerCategories);"
   ]
  },
  {
   "cell_type": "markdown",
   "metadata": {},
   "source": [
    "**4. Isolate suppliers who exclusively provide ambient (non chiller) stock items.**"
   ]
  },
  {
   "cell_type": "markdown",
   "metadata": {},
   "source": [
    "**Functional Specification**\n",
    "* Use a subquery with the NOT IN predicate.\n",
    "* The subquery creates a list of all distinct SupplierIDs that are linked to a chiller stock item (IsChillerStock = 1).\n",
    "* The outer query selects all suppliers from Purchasing.Suppliers whose SupplierID is not in this list."
   ]
  },
  {
   "cell_type": "code",
   "execution_count": null,
   "metadata": {},
   "outputs": [],
   "source": [
    "SELECT\n",
    "    SupplierID,\n",
    "    SupplierName\n",
    "FROM\n",
    "    Purchasing.Suppliers\n",
    "WHERE\n",
    "    SupplierID NOT IN (\n",
    "        SELECT DISTINCT SupplierID\n",
    "        FROM Warehouse.StockItems\n",
    "        WHERE IsChillerStock = 1\n",
    "    );"
   ]
  },
  {
   "cell_type": "markdown",
   "metadata": {},
   "source": [
    "**5. List products priced above average and show their price difference.**"
   ]
  },
  {
   "cell_type": "markdown",
   "metadata": {},
   "source": [
    "**Functional Specification**\n",
    "* Use a scalar subquery to calculate the single average UnitPrice from Warehouse.StockItems.\n",
    "* Filter the StockItems table to select rows where UnitPrice is greater than this average.\n",
    "* In the SELECT list, calculate the difference between the item's UnitPrice and the average price.\n",
    "* Order the results to show the most expensive items first."
   ]
  },
  {
   "cell_type": "code",
   "execution_count": null,
   "metadata": {},
   "outputs": [],
   "source": [
    "SELECT\n",
    "    StockItemName,\n",
    "    UnitPrice,\n",
    "    (UnitPrice - (SELECT AVG(UnitPrice) FROM Warehouse.StockItems)) AS PriceDifferenceFromAverage\n",
    "FROM\n",
    "    Warehouse.StockItems\n",
    "WHERE\n",
    "    UnitPrice > (SELECT AVG(UnitPrice) FROM Warehouse.StockItems)\n",
    "ORDER BY\n",
    "    UnitPrice DESC;"
   ]
  },
  {
   "cell_type": "markdown",
   "metadata": {},
   "source": [
    "### Chapter 5: Table Expressions"
   ]
  },
  {
   "cell_type": "markdown",
   "metadata": {},
   "source": [
    "**6. Determine the top performing salesperson by total revenue for each fiscal year.**"
   ]
  },
  {
   "cell_type": "markdown",
   "metadata": {},
   "source": [
    "**Functional Specification**\n",
    "* Create a CTE named SalesRanks.\n",
    "* Inside the CTE, join Invoices, InvoiceLines, and People.\n",
    "* Group by year and salesperson to calculate total revenue.\n",
    "* Use the ROW_NUMBER() window function to rank salespeople within each year by their revenue.\n",
    "* Select from the CTE where the rank is 1."
   ]
  },
  {
   "cell_type": "code",
   "execution_count": null,
   "metadata": {},
   "outputs": [],
   "source": [
    "WITH SalesRanks AS (\n",
    "    SELECT\n",
    "        YEAR(i.InvoiceDate) AS SalesYear,\n",
    "        p.FullName AS Salesperson,\n",
    "        SUM(il.Quantity * il.UnitPrice) AS TotalRevenue,\n",
    "        ROW_NUMBER() OVER(PARTITION BY YEAR(i.InvoiceDate) ORDER BY SUM(il.Quantity * il.UnitPrice) DESC) AS RankNum\n",
    "    FROM\n",
    "        Sales.Invoices AS i\n",
    "    JOIN\n",
    "        Sales.InvoiceLines AS il ON i.InvoiceID = il.InvoiceID\n",
    "    JOIN\n",
    "        Application.People AS p ON i.SalespersonPersonID = p.PersonID\n",
    "    GROUP BY\n",
    "        YEAR(i.InvoiceDate), p.FullName\n",
    ")\n",
    "SELECT\n",
    "    sr.SalesYear,\n",
    "    sr.Salesperson,\n",
    "    sr.TotalRevenue\n",
    "FROM\n",
    "    SalesRanks AS sr\n",
    "WHERE\n",
    "    sr.RankNum = 1\n",
    "ORDER BY\n",
    "    sr.SalesYear;"
   ]
  },
  {
   "cell_type": "markdown",
   "metadata": {},
   "source": [
    "**7. Calculate the customer lifecycle duration by identifying the first and last order dates for each customer.**"
   ]
  },
  {
   "cell_type": "markdown",
   "metadata": {},
   "source": [
    "**Functional Specification**\n",
    "* Create a derived table aliased as 'cod'.\n",
    "* Inside the derived table, group the Sales.Orders table by CustomerID.\n",
    "* Use MIN(OrderDate) and MAX(OrderDate) to find the first and last order dates for each customer.\n",
    "* Join the main Customers table to this derived table on CustomerID to link the dates to customer names."
   ]
  },
  {
   "cell_type": "code",
   "execution_count": null,
   "metadata": {},
   "outputs": [],
   "source": [
    "SELECT\n",
    "    c.CustomerName,\n",
    "    cod.FirstOrder,\n",
    "    cod.LastOrder\n",
    "FROM\n",
    "    Sales.Customers AS c\n",
    "JOIN (\n",
    "    SELECT\n",
    "        CustomerID,\n",
    "        MIN(OrderDate) AS FirstOrder,\n",
    "        MAX(OrderDate) AS LastOrder\n",
    "    FROM\n",
    "        Sales.Orders\n",
    "    GROUP BY\n",
    "        CustomerID\n",
    ") AS cod ON c.CustomerID = cod.CustomerID\n",
    "ORDER BY\n",
    "    cod.LastOrder DESC;"
   ]
  },
  {
   "cell_type": "markdown",
   "metadata": {},
   "source": [
    "**8. Identify the top 3 revenue generating products within each customer category.**"
   ]
  },
  {
   "cell_type": "markdown",
   "metadata": {},
   "source": [
    "**Functional Specification**\n",
    "* Use CROSS APPLY to run a correlated subquery for each row in Sales.CustomerCategories.\n",
    "* The subquery joins StockItems, OrderLines, Orders, and Customers.\n",
    "* It filters for sales belonging to the current customer category.\n",
    "* It groups by StockItemName to calculate total revenue per product and selects the TOP 3.\n",
    "* The final result combines each category with its top 3 products."
   ]
  },
  {
   "cell_type": "code",
   "execution_count": null,
   "metadata": {},
   "outputs": [],
   "source": [
    "SELECT\n",
    "    cc.CustomerCategoryName,\n",
    "    TopProducts.StockItemName,\n",
    "    TopProducts.TotalRevenue\n",
    "FROM\n",
    "    Sales.CustomerCategories AS cc\n",
    "CROSS APPLY (\n",
    "    SELECT TOP (3)\n",
    "        si.StockItemName,\n",
    "        SUM(ol.Quantity * ol.UnitPrice) AS TotalRevenue\n",
    "    FROM\n",
    "        Warehouse.StockItems AS si\n",
    "    JOIN\n",
    "        Sales.OrderLines AS ol ON si.StockItemID = ol.StockItemID\n",
    "    JOIN\n",
    "        Sales.Orders AS o ON ol.OrderID = o.OrderID\n",
    "    JOIN\n",
    "        Sales.Customers AS c ON o.CustomerID = c.CustomerID\n",
    "    WHERE\n",
    "        c.CustomerCategoryID = cc.CustomerCategoryID\n",
    "    GROUP BY\n",
    "        si.StockItemName\n",
    "    ORDER BY\n",
    "        SUM(ol.Quantity * ol.UnitPrice) DESC\n",
    ") AS TopProducts;"
   ]
  },
  {
   "cell_type": "markdown",
   "metadata": {},
   "source": [
    "**9. Segment the customer base into value tiers ('High', 'Medium', 'Low') based on total historical spending.**"
   ]
  },
  {
   "cell_type": "markdown",
   "metadata": {},
   "source": [
    "**Functional Specification**\n",
    "* Create a CTE named CustomerSpending.\n",
    "* Inside the CTE, join Invoices and InvoiceLines and group by CustomerID to calculate total spending for each customer.\n",
    "* Join the main Customers table to the CTE.\n",
    "* Use a CASE expression in the SELECT list to assign a 'CustomerTier' based on the total spending amount."
   ]
  },
  {
   "cell_type": "code",
   "execution_count": null,
   "metadata": {},
   "outputs": [],
   "source": [
    "WITH CustomerSpending AS (\n",
    "    SELECT\n",
    "        i.CustomerID,\n",
    "        SUM(il.Quantity * il.UnitPrice) AS TotalSpent\n",
    "    FROM\n",
    "        Sales.Invoices AS i\n",
    "    JOIN\n",
    "        Sales.InvoiceLines AS il ON i.InvoiceID = il.InvoiceID\n",
    "    GROUP BY\n",
    "        i.CustomerID\n",
    ")\n",
    "SELECT\n",
    "    c.CustomerName,\n",
    "    cs.TotalSpent,\n",
    "    CASE\n",
    "        WHEN cs.TotalSpent > 50000 THEN 'High Value'\n",
    "        WHEN cs.TotalSpent > 10000 THEN 'Medium Value'\n",
    "        ELSE 'Low Value'\n",
    "    END AS CustomerTier\n",
    "FROM\n",
    "    Sales.Customers AS c\n",
    "JOIN\n",
    "    CustomerSpending AS cs ON c.CustomerID = cs.CustomerID\n",
    "ORDER BY\n",
    "    cs.TotalSpent DESC;"
   ]
  },
  {
   "cell_type": "markdown",
   "metadata": {},
   "source": [
    "**10. For each invoice, provide a breakdown of the total value of 'Chiller' vs. 'Ambient' items.**"
   ]
  },
  {
   "cell_type": "markdown",
   "metadata": {},
   "source": [
    "**Functional Specification**\n",
    "* Create a CTE named InvoiceComposition.\n",
    "* Inside the CTE, join InvoiceLines and StockItems.\n",
    "* Use a CASE expression on si.IsChillerStock to create a new column, ItemCategory ('Chiller' or 'Ambient').\n",
    "* Group by InvoiceID and the new ItemCategory to sum the value for each type within each invoice.\n",
    "* The final query selects from the CTE to display the categorized breakdown."
   ]
  },
  {
   "cell_type": "code",
   "execution_count": null,
   "metadata": {},
   "outputs": [],
   "source": [
    "WITH InvoiceComposition AS (\n",
    "    SELECT\n",
    "        il.InvoiceID,\n",
    "        CASE\n",
    "            WHEN si.IsChillerStock = 1 THEN 'Chiller Items'\n",
    "            ELSE 'Ambient Items'\n",
    "        END AS ItemCategory,\n",
    "        SUM(il.Quantity * il.UnitPrice) AS TotalValue\n",
    "    FROM\n",
    "        Sales.InvoiceLines AS il\n",
    "    JOIN\n",
    "        Warehouse.StockItems AS si ON il.StockItemID = si.StockItemID\n",
    "    GROUP BY\n",
    "        il.InvoiceID,\n",
    "        CASE WHEN si.IsChillerStock = 1 THEN 'Chiller Items' ELSE 'Ambient Items' END\n",
    ")\n",
    "SELECT\n",
    "    ic.InvoiceID,\n",
    "    ic.ItemCategory,\n",
    "    ic.TotalValue\n",
    "FROM\n",
    "    InvoiceComposition AS ic\n",
    "ORDER BY\n",
    "    ic.InvoiceID, ic.ItemCategory;"
   ]
  }
 ],
 "metadata": {
  "kernelspec": {
   "display_name": "SQL",
   "language": "sql",
   "name": "sql"
  },
  "language_info": {
   "name": "sql"
  }
 },
 "nbformat": 4,
 "nbformat_minor": 4
}


