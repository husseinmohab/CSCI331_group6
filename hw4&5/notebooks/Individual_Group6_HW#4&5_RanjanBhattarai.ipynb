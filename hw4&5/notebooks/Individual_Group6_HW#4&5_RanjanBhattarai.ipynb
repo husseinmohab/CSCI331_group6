{
 "cells": [
  {
   "cell_type": "markdown",
   "id": "d7d90fba-2555-46b5-a5a5-c932a674a930",
   "metadata": {},
   "source": [
    "### 1. Finding customers who have placed orders with a total value greater than the average order value\n",
    "\n",
    "__Functional Specification:__\n",
    "* Main query: Join Sales.Customers (c) → Sales.Orders (o) → Sales.OrderLines (ol)\n",
    "* Compute total order value per customer as SUM(ol.Quantity * ol.UnitPrice)\n",
    "* Subquery in HAVING: Calculate average order value across all orders\n",
    "* Subquery logic: Sum line items per OrderID, then calculate AVG of those totals\n",
    "* Group by CustomerID and CustomerName to aggregate all orders per customer\n",
    "* Filter customers whose total order value exceeds the average order value\n",
    "* Use DISTINCT (though not needed with Sort by TotalOrderValue in descending order\n",
    "* Result shows customers who spend more than the average order amount\n"
   ]
  },
  {
   "cell_type": "code",
   "execution_count": null,
   "id": "02e25bf4-9b82-4ae4-8fc0-98d38e685685",
   "metadata": {},
   "outputs": [],
   "source": [
    "USE WideWorldImporters;\n",
    "SELECT DISTINCT \n",
    "    c.CustomerID,\n",
    "    c.CustomerName,\n",
    "    SUM(ol.Quantity * ol.UnitPrice) AS TotalOrderValue\n",
    "FROM Sales.Customers c\n",
    "INNER JOIN Sales.Orders o ON c.CustomerID = o.CustomerID\n",
    "INNER JOIN Sales.OrderLines ol ON o.OrderID = ol.OrderID\n",
    "GROUP BY c.CustomerID, c.CustomerName\n",
    "HAVING SUM(ol.Quantity * ol.UnitPrice) > (\n",
    "    SELECT AVG(OrderTotal)\n",
    "    FROM (\n",
    "        SELECT SUM(Quantity * UnitPrice) AS OrderTotal\n",
    "        FROM Sales.OrderLines\n",
    "        GROUP BY OrderID\n",
    "    ) AS AvgOrders\n",
    ")\n",
    "ORDER BY TotalOrderValue DESC;\n"
   ]
  },
  {
   "cell_type": "markdown",
   "id": "46f90d2d-1710-4ded-9750-a4553e8ec440",
   "metadata": {},
   "source": [
    "### 2. Finding suppliers who supply products that are currently almost running out of stock, with less than 100 items\n",
    "\n",
    "__Functional Specification:__\n",
    "* Main query: SELECT from Purchasing.Suppliers (s)\n",
    "* Subquery: Find SupplierIDs that have products with low stock\n",
    "* Subquery: joins Warehouse.StockItems (si) → Warehouse.StockItemHoldings (sih)\n",
    "* Filter products where QuantityOnHand < 100\n",
    "* Main query filters suppliers using IN clause with subquery results\n",
    "* Use DISTINCT to avoid duplicate suppliers if they have multiple low-stock products\n",
    "* Sort by SupplierName alphabetically\n",
    "* Result shows supplier details (ID, name, phone) for suppliers with low-stock items"
   ]
  },
  {
   "cell_type": "code",
   "execution_count": null,
   "id": "df23d3ae-0a97-4b17-8120-074bcd4dec06",
   "metadata": {},
   "outputs": [],
   "source": [
    "USE WideWorldImporters;\n",
    "SELECT DISTINCT\n",
    "    s.SupplierID,\n",
    "    s.SupplierName,\n",
    "    s.PhoneNumber\n",
    "FROM Purchasing.Suppliers s\n",
    "WHERE s.SupplierID IN (\n",
    "    SELECT si.SupplierID\n",
    "    FROM Warehouse.StockItems si\n",
    "    INNER JOIN Warehouse.StockItemHoldings sih ON si.StockItemID = sih.StockItemID\n",
    "    WHERE sih.QuantityOnHand < 100\n",
    ")\n",
    "ORDER BY s.SupplierName;"
   ]
  },
  {
   "cell_type": "markdown",
   "id": "f362bc32-f04b-4a6b-b3ba-5fed780edb06",
   "metadata": {},
   "source": [
    "### 3. List employees who have processed more orders than the average employee\n",
    "\n",
    "__Functional Specification:__\n",
    "* Main query: Join Application.People (p) → Sales.Orders (o) on PickedByPersonID\n",
    "* Count orders processed per employee using COUNT(o.OrderID)\n",
    "* Subquery 1 (in SELECT): Calculate average orders per employee across all employees\n",
    "* Subquery 2 (in HAVING): Same calculation to filter employees above average\n",
    "* Subquery logic: Count orders per employee, then calculate AVG of those counts\n",
    "* Group by PersonID and FullName to aggregate orders per employee\n",
    "* Filter using HAVING to show only employees above average\n",
    "* Sort by OrdersProcessed in descending order\n",
    "* Result shows employee details, their order count, and the average for comparison\n"
   ]
  },
  {
   "cell_type": "code",
   "execution_count": null,
   "id": "cce0b37f-d703-4076-896d-3860746a3ce3",
   "metadata": {},
   "outputs": [],
   "source": [
    "USE WideWorldImporters;\n",
    "SELECT \n",
    "    p.PersonID,\n",
    "    p.FullName,\n",
    "    COUNT(o.OrderID) AS OrdersProcessed,\n",
    "    (\n",
    "        SELECT AVG(OrderCount)\n",
    "        FROM (\n",
    "            SELECT COUNT(*) AS OrderCount\n",
    "            FROM Sales.Orders\n",
    "            GROUP BY PickedByPersonID\n",
    "        ) AS AvgOrders\n",
    "    ) AS AvgOrdersPerEmployee\n",
    "FROM Application.People p\n",
    "INNER JOIN Sales.Orders o ON p.PersonID = o.PickedByPersonID\n",
    "GROUP BY p.PersonID, p.FullName\n",
    "HAVING COUNT(o.OrderID) > (\n",
    "    SELECT AVG(OrderCount)\n",
    "    FROM (\n",
    "        SELECT COUNT(*) AS OrderCount\n",
    "        FROM Sales.Orders\n",
    "        GROUP BY PickedByPersonID\n",
    "    ) AS AvgOrders\n",
    ")\n",
    "ORDER BY OrdersProcessed DESC;"
   ]
  },
  {
   "cell_type": "markdown",
   "id": "be6ddc7d-fbde-4462-bd86-956501ef0df9",
   "metadata": {},
   "source": [
    "### 4: Yearly Sales Performance Summary\n",
    "\n",
    "__Functional Specification:__\n",
    "* CTE: YearlySales aggregates sales metrics by year\n",
    "* Join Sales.Orders (o) → Sales.OrderLines (ol)\n",
    "* Extract year using YEAR(o.OrderDate)\n",
    "* Calculate yearly total as SUM(ol.Quantity * ol.UnitPrice)\n",
    "* Count distinct orders using COUNT(DISTINCT o.OrderID)\n",
    "* Group by OrderYear\n",
    "* Main query computes AvgOrderValue = YearlyTotal / TotalOrders\n",
    "* Round YearlyTotal and AvgOrderValue to 2 decimal places\n",
    "* Sort by OrderYear chronologically"
   ]
  },
  {
   "cell_type": "code",
   "execution_count": null,
   "id": "bb4bce84-bc21-48d3-abd9-84c4269d432f",
   "metadata": {},
   "outputs": [],
   "source": [
    "\n",
    "USE WideWorldImporters;\n",
    "WITH YearlySales AS (\n",
    "    SELECT \n",
    "        YEAR(o.OrderDate) AS OrderYear,\n",
    "        SUM(ol.Quantity * ol.UnitPrice) AS YearlyTotal,\n",
    "        COUNT(DISTINCT o.OrderID) AS TotalOrders\n",
    "    FROM Sales.Orders o\n",
    "    INNER JOIN Sales.OrderLines ol ON o.OrderID = ol.OrderID\n",
    "    GROUP BY YEAR(o.OrderDate)\n",
    ")\n",
    "SELECT \n",
    "    OrderYear,\n",
    "    ROUND(YearlyTotal, 2) AS YearlyTotal,\n",
    "    TotalOrders,\n",
    "    ROUND(YearlyTotal / TotalOrders, 2) AS AvgOrderValue\n",
    "FROM YearlySales\n",
    "ORDER BY OrderYear;\n"
   ]
  },
  {
   "cell_type": "markdown",
   "id": "ec478af7-a27a-48a6-ab3f-a77f4324d4f8",
   "metadata": {},
   "source": [
    "### 5: Products with Total Quantity Sold\n",
    "\n",
    "__Functional Specification:__\n",
    "* CTE: ProductSales aggregates quantity sold per product\n",
    "* Join Warehouse.StockItems (si) → Sales.OrderLines (ol)\n",
    "* Calculate total quantity as SUM(ol.Quantity)\n",
    "* Group by StockItemID and StockItemName\n",
    "* Main query filters products with TotalQuantitySold > 100\n",
    "* Sort by TotalQuantitySold in descending order"
   ]
  },
  {
   "cell_type": "code",
   "execution_count": null,
   "id": "2e14aacd-4179-4177-ad7d-01537adc72e6",
   "metadata": {},
   "outputs": [],
   "source": [
    "\n",
    "USE WideWorldImporters;\n",
    "WITH ProductSales AS (\n",
    "    SELECT \n",
    "        si.StockItemID,\n",
    "        si.StockItemName,\n",
    "        SUM(ol.Quantity) AS TotalQuantitySold\n",
    "    FROM Warehouse.StockItems si\n",
    "    INNER JOIN Sales.OrderLines ol ON si.StockItemID = ol.StockItemID\n",
    "    GROUP BY si.StockItemID, si.StockItemName\n",
    ")\n",
    "SELECT \n",
    "    StockItemName,\n",
    "    TotalQuantitySold\n",
    "FROM ProductSales\n",
    "WHERE TotalQuantitySold > 100\n",
    "ORDER BY TotalQuantitySold DESC;"
   ]
  },
  {
   "cell_type": "markdown",
   "id": "830db6a2-db78-43ac-a29c-061ff15552c5",
   "metadata": {},
   "source": [
    "### 6: Monthly Order Count Summary\n",
    "\n",
    "__Functional Specification:__\n",
    "* CTE: MonthlyOrders counts orders per month\n",
    "* Extract year using YEAR(OrderDate) and month using MONTH(OrderDate)\n",
    "* Count total orders using COUNT(*)\n",
    "* Group by OrderYear and OrderMonth\n",
    "* Main query returns all monthly order counts\n",
    "* Sort by OrderYear and OrderMonth chronologically"
   ]
  },
  {
   "cell_type": "code",
   "execution_count": null,
   "id": "aba2ce9c-ecc0-473f-96b7-c83805199254",
   "metadata": {},
   "outputs": [],
   "source": [
    "\n",
    "USE WideWorldImporters;\n",
    "WITH MonthlyOrders AS (\n",
    "    SELECT \n",
    "        YEAR(OrderDate) AS OrderYear,\n",
    "        MONTH(OrderDate) AS OrderMonth,\n",
    "        COUNT(*) AS OrderCount\n",
    "    FROM Sales.Orders\n",
    "    GROUP BY YEAR(OrderDate), MONTH(OrderDate)\n",
    ")\n",
    "SELECT \n",
    "    OrderYear,\n",
    "    OrderMonth,\n",
    "    OrderCount\n",
    "FROM MonthlyOrders\n",
    "ORDER BY OrderYear, OrderMonth;\n"
   ]
  },
  {
   "cell_type": "markdown",
   "id": "00989bae-b059-4ec2-9ef5-ef2e18b92bda",
   "metadata": {},
   "source": [
    "### 7: High-Volume Sales Employees\n",
    "\n",
    "__Functional Specification:__\n",
    "* CTE: EmployeeOrders counts orders handled by each employee\n",
    "* Join Application.People (p) → Sales.Orders (o) on SalespersonPersonID\n",
    "* Filter only employees using WHERE p.IsEmployee = 1\n",
    "* Count orders using COUNT(o.OrderID)\n",
    "* Group by PersonID and FullName\n",
    "* Main query filters employees with TotalOrders > 50\n",
    "* Sort by TotalOrders in descending order"
   ]
  },
  {
   "cell_type": "code",
   "execution_count": null,
   "id": "c20820ed-541b-4c8e-b7f6-12c1a49c279e",
   "metadata": {},
   "outputs": [],
   "source": [
    "USE WideWorldImporters;\n",
    "WITH EmployeeOrders AS (\n",
    "    SELECT \n",
    "        p.PersonID,\n",
    "        p.FullName,\n",
    "        COUNT(o.OrderID) AS TotalOrders\n",
    "    FROM Application.People p\n",
    "    INNER JOIN Sales.Orders o ON p.PersonID = o.SalespersonPersonID\n",
    "    WHERE p.IsEmployee = 1\n",
    "    GROUP BY p.PersonID, p.FullName\n",
    ")\n",
    "SELECT \n",
    "    FullName,\n",
    "    TotalOrders\n",
    "FROM EmployeeOrders\n",
    "WHERE TotalOrders > 50\n",
    "ORDER BY TotalOrders DESC;"
   ]
  },
  {
   "cell_type": "markdown",
   "id": "1f644650-84ad-47c4-ae17-612a238ac450",
   "metadata": {},
   "source": [
    "### 8: Average Order Value by Customer\n",
    "\n",
    "__Functional Specification:__\n",
    "* CTE: CustomerOrderValues calculates order metrics per customer\n",
    "* Join Sales.Customers (c) → Sales.Orders (o) → Sales.OrderLines (ol)\n",
    "* Count distinct orders using COUNT(DISTINCT o.OrderID)\n",
    "* Calculate total spending as SUM(ol.Quantity * ol.UnitPrice)\n",
    "* Group by CustomerID and CustomerName\n",
    "* Main query computes AvgOrderValue = TotalSpent / OrderCount\n",
    "* Round AvgOrderValue to 2 decimal places\n",
    "* Sort by AvgOrderValue in descending order"
   ]
  },
  {
   "cell_type": "code",
   "execution_count": null,
   "id": "252fd03d-e399-4b7b-9cc4-ace9deb11ee2",
   "metadata": {},
   "outputs": [],
   "source": [
    "USE WideWorldImporters;\n",
    "WITH CustomerOrderValues AS (\n",
    "    SELECT \n",
    "        c.CustomerID,\n",
    "        c.CustomerName,\n",
    "        COUNT(DISTINCT o.OrderID) AS OrderCount,\n",
    "        SUM(ol.Quantity * ol.UnitPrice) AS TotalSpent\n",
    "    FROM Sales.Customers c\n",
    "    INNER JOIN Sales.Orders o ON c.CustomerID = o.CustomerID\n",
    "    INNER JOIN Sales.OrderLines ol ON o.OrderID = ol.OrderID\n",
    "    GROUP BY c.CustomerID, c.CustomerName\n",
    ")\n",
    "SELECT \n",
    "    CustomerName,\n",
    "    OrderCount,\n",
    "    TotalSpent,\n",
    "    ROUND(TotalSpent / OrderCount, 2) AS AvgOrderValue\n",
    "FROM CustomerOrderValues\n",
    "ORDER BY AvgOrderValue DESC;\n"
   ]
  },
  {
   "cell_type": "markdown",
   "id": "c9b6a6b0-3a95-4e30-bb6d-9942bf1be854",
   "metadata": {},
   "source": [
    "### 9: Top 5 Products by Revenue\n",
    "\n",
    "__Functional Specification:__\n",
    "* CTE: ProductRevenue calculates total revenue per product\n",
    "* Join Warehouse.StockItems (si) → Sales.OrderLines (ol)\n",
    "* Calculate revenue as SUM(ol.Quantity * ol.UnitPrice)\n",
    "* Group by StockItemName\n",
    "* Main query selects TOP 5 products by revenue\n",
    "* Round TotalRevenue to 2 decimal places\n",
    "* Sort by TotalRevenue in descending order"
   ]
  },
  {
   "cell_type": "code",
   "execution_count": null,
   "id": "dad26b9a-f07f-4969-b91a-86132da0e2f9",
   "metadata": {},
   "outputs": [],
   "source": [
    "USE WideWorldImporters;\n",
    "WITH ProductRevenue AS (\n",
    "    SELECT \n",
    "        si.StockItemName,\n",
    "        SUM(ol.Quantity * ol.UnitPrice) AS TotalRevenue\n",
    "    FROM Warehouse.StockItems si\n",
    "    INNER JOIN Sales.OrderLines ol ON si.StockItemID = ol.StockItemID\n",
    "    GROUP BY si.StockItemName\n",
    ")\n",
    "SELECT TOP 5\n",
    "    StockItemName,\n",
    "    ROUND(TotalRevenue, 2) AS TotalRevenue\n",
    "FROM ProductRevenue\n",
    "ORDER BY TotalRevenue DESC;"
   ]
  },
  {
   "cell_type": "markdown",
   "id": "d62e7f5c-bdb4-4011-b051-466091e6432e",
   "metadata": {},
   "source": [
    "### 10: Inactive Customers (No Orders in 6 Months)\n",
    "\n",
    "Functional Specification:\n",
    "* CTE: LastOrderDate finds most recent order per customer\n",
    "* Join Sales.Customers (c) → Sales.Orders (o)\n",
    "* Find last order date using MAX(o.OrderDate)\n",
    "* Calculate days since last order using DATEDIFF(DAY, MAX(o.OrderDate), GETDATE())\n",
    "* Group by CustomerID and CustomerName\n",
    "* Main query filters customers with DaysSinceLastOrder > 180\n",
    "* Sort by DaysSinceLastOrder in descending order"
   ]
  },
  {
   "cell_type": "code",
   "execution_count": null,
   "id": "8d492ed3-2025-4bda-a5d5-418d76899b47",
   "metadata": {},
   "outputs": [],
   "source": [
    "USE WideWorldImporters;\n",
    "WITH LastOrderDate AS (\n",
    "    SELECT \n",
    "        c.CustomerID,\n",
    "        c.CustomerName,\n",
    "        MAX(o.OrderDate) AS LastOrder,\n",
    "        DATEDIFF(DAY, MAX(o.OrderDate), GETDATE()) AS DaysSinceLastOrder\n",
    "    FROM Sales.Customers c\n",
    "    INNER JOIN Sales.Orders o ON c.CustomerID = o.CustomerID\n",
    "    GROUP BY c.CustomerID, c.CustomerName\n",
    ")\n",
    "SELECT \n",
    "    CustomerName,\n",
    "    LastOrder,\n",
    "    DaysSinceLastOrder\n",
    "FROM LastOrderDate\n",
    "WHERE DaysSinceLastOrder > 180\n",
    "ORDER BY DaysSinceLastOrder DESC;"
   ]
  }
 ],
 "metadata": {
  "kernelspec": {
   "display_name": "Python 3 (ipykernel)",
   "language": "python",
   "name": "python3"
  },
  "language_info": {
   "codemirror_mode": {
    "name": "ipython",
    "version": 3
   },
   "file_extension": ".py",
   "mimetype": "text/x-python",
   "name": "python",
   "nbconvert_exporter": "python",
   "pygments_lexer": "ipython3",
   "version": "3.12.4"
  }
 },
 "nbformat": 4,
 "nbformat_minor": 5
}
